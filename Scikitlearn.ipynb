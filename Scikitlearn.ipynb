{
  "nbformat": 4,
  "nbformat_minor": 0,
  "metadata": {
    "colab": {
      "provenance": [],
      "authorship_tag": "ABX9TyPKW+CmV2ip0BmUlr2m6ksP",
      "include_colab_link": true
    },
    "kernelspec": {
      "name": "python3",
      "display_name": "Python 3"
    },
    "language_info": {
      "name": "python"
    }
  },
  "cells": [
    {
      "cell_type": "markdown",
      "metadata": {
        "id": "view-in-github",
        "colab_type": "text"
      },
      "source": [
        "<a href=\"https://colab.research.google.com/github/jhj1819/Machine-learning/blob/main/Scikitlearn.ipynb\" target=\"_parent\"><img src=\"https://colab.research.google.com/assets/colab-badge.svg\" alt=\"Open In Colab\"/></a>"
      ]
    },
    {
      "cell_type": "markdown",
      "source": [
        "## 단순 선형회귀"
      ],
      "metadata": {
        "id": "YlmMeRt5zgHq"
      }
    },
    {
      "cell_type": "code",
      "execution_count": 1,
      "metadata": {
        "id": "vOdqMmjwarBh"
      },
      "outputs": [],
      "source": [
        "import numpy as np\n",
        "x = np.arange(10)\n",
        "y = np.array([-1, 2, 3, 5, 4, 7, 6, 6, 9, 9])"
      ]
    },
    {
      "cell_type": "code",
      "source": [
        "import matplotlib.pyplot as plt\n",
        "plt.scatter(x,y)"
      ],
      "metadata": {
        "colab": {
          "base_uri": "https://localhost:8080/",
          "height": 447
        },
        "id": "fHxI7fg13QUa",
        "outputId": "5af3e290-f0cf-4821-8a57-76c8a040fb6a"
      },
      "execution_count": 2,
      "outputs": [
        {
          "output_type": "execute_result",
          "data": {
            "text/plain": [
              "<matplotlib.collections.PathCollection at 0x7a249a2b60b0>"
            ]
          },
          "metadata": {},
          "execution_count": 2
        },
        {
          "output_type": "display_data",
          "data": {
            "text/plain": [
              "<Figure size 640x480 with 1 Axes>"
            ],
            "image/png": "[encoded data removed]"
          },
          "metadata": {}
        }
      ]
    },
    {
      "cell_type": "markdown",
      "source": [
        "선형회귀 클래스 구현하기"
      ],
      "metadata": {
        "id": "5B4G7sSe3YYk"
      }
    },
    {
      "cell_type": "code",
      "source": [
        "class MySimpleLinearReg:\n",
        "  \"\"\"\n",
        " 정규방정식(행렬)을 이용한 선형 회귀\n",
        "\n",
        " Parameters(매개변수) --------------------\n",
        " with_intercept : boolean, default : True -> 절편을 조절하고싶을때.. -> 절편이 0이되게 (원점을 지나는 회귀)\n",
        " 절편 여부\n",
        "\n",
        " Attributes(속성) ----------------\n",
        " slope_ : float 기울기\n",
        " intercept_ : float 절편\n",
        " \"\"\"\n",
        "  def __init__(self, with_intercept=True):\n",
        "    self.with_intercept = with_intercept\n",
        "    self.slope_ = None  # _ 붙이면 private\n",
        "    self.intercept_ = None\n",
        "\n",
        "  def fit(self, x, y):\n",
        "    \"\"\"\n",
        " Parameters(매개변수) --------------------\n",
        " x: 독립 변수 (1차원 배열) y: 종속 변수 (1차원 배열)\n",
        "    \"\"\"\n",
        "    if self.with_intercept == True:\n",
        "      x_mean, y_mean = np.mean(x), np.mean(y)\n",
        "      self.slope_ = np.sum((x-x_mean)*(y-y_mean)) / np.sum((x-x_mean)**2)\n",
        "      self.intercept_ = y_mean - self.slope_ * x_mean\n",
        "    else:\n",
        "      self.slope_ = np.sum(x*y) / np.sum(x**2)\n",
        "      self.intercept_ = 0\n",
        "    return self\n",
        "\n",
        "  def predict(self, x):\n",
        "    return self.intercept_ + self.slope_ * x\n"
      ],
      "metadata": {
        "id": "EM5-ZQ2H3T5t"
      },
      "execution_count": 12,
      "outputs": []
    },
    {
      "cell_type": "markdown",
      "source": [
        "모델에서 훈련된 기울기, 절편 출력"
      ],
      "metadata": {
        "id": "cRgKwP2Z6NIu"
      }
    },
    {
      "cell_type": "code",
      "source": [
        "my_reg = MySimpleLinearReg()\n",
        "my_reg.fit(x,y)\n",
        "print(my_reg.intercept_, my_reg.slope_)"
      ],
      "metadata": {
        "colab": {
          "base_uri": "https://localhost:8080/"
        },
        "id": "3fh8MLI85f6T",
        "outputId": "f3bd61d9-f02b-4dc9-f970-179c5301c0ff"
      },
      "execution_count": 5,
      "outputs": [
        {
          "output_type": "stream",
          "name": "stdout",
          "text": [
            "0.6363636363636367 0.9696969696969697\n"
          ]
        }
      ]
    },
    {
      "cell_type": "code",
      "source": [
        "my_reg2 = MySimpleLinearReg(with_intercept = False)\n",
        "my_reg2.fit(x,y)\n",
        "print(my_reg2.intercept_, my_reg2.slope_)"
      ],
      "metadata": {
        "colab": {
          "base_uri": "https://localhost:8080/"
        },
        "id": "a_NSWaLS5rWI",
        "outputId": "d4fac8ec-246d-42c7-89fc-1a71a9592049"
      },
      "execution_count": 7,
      "outputs": [
        {
          "output_type": "stream",
          "name": "stdout",
          "text": [
            "0 1.0701754385964912\n"
          ]
        }
      ]
    },
    {
      "cell_type": "code",
      "source": [
        "my_reg2.predict(7.5)"
      ],
      "metadata": {
        "colab": {
          "base_uri": "https://localhost:8080/"
        },
        "id": "bbREJWXs59E-",
        "outputId": "219f3bef-4eb6-4f00-da69-17fa7e480352"
      },
      "execution_count": 11,
      "outputs": [
        {
          "output_type": "execute_result",
          "data": {
            "text/plain": [
              "8.026315789473685"
            ]
          },
          "metadata": {},
          "execution_count": 11
        }
      ]
    },
    {
      "cell_type": "markdown",
      "source": [],
      "metadata": {
        "id": "ooQHmxyH3ic_"
      }
    }
  ]
}