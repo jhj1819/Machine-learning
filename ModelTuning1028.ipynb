{
  "nbformat": 4,
  "nbformat_minor": 0,
  "metadata": {
    "colab": {
      "provenance": [],
      "authorship_tag": "ABX9TyOmBj+WZ+IhqsVMH4Wj/K/F",
      "include_colab_link": true
    },
    "kernelspec": {
      "name": "python3",
      "display_name": "Python 3"
    },
    "language_info": {
      "name": "python"
    }
  },
  "cells": [
    {
      "cell_type": "markdown",
      "metadata": {
        "id": "view-in-github",
        "colab_type": "text"
      },
      "source": [
        "<a href=\"https://colab.research.google.com/github/jhj1819/Machine-learning/blob/main/ModelTuning1028.ipynb\" target=\"_parent\"><img src=\"https://colab.research.google.com/assets/colab-badge.svg\" alt=\"Open In Colab\"/></a>"
      ]
    },
    {
      "cell_type": "code",
      "execution_count": 1,
      "metadata": {
        "id": "flCQwOpon7m0"
      },
      "outputs": [],
      "source": [
        "import numpy as np\n",
        "import pandas as pd"
      ]
    },
    {
      "cell_type": "code",
      "source": [
        " path = 'https://archive.ics.uci.edu/ml/machine-learning-databases/breast-cancer-wisconsin/wdbc.data'\n",
        " df = pd.read_csv(path, header=None)"
      ],
      "metadata": {
        "id": "k35Z6fTRoL2b"
      },
      "execution_count": 2,
      "outputs": []
    },
    {
      "cell_type": "markdown",
      "source": [
        ".data로 끝나는 데이터에는 header가 없음"
      ],
      "metadata": {
        "id": "9SBs4aGlqS6x"
      }
    },
    {
      "cell_type": "code",
      "source": [
        "df.head()"
      ],
      "metadata": {
        "colab": {
          "base_uri": "https://localhost:8080/",
          "height": 255
        },
        "id": "txsQkep7oMSL",
        "outputId": "44fb5b49-de55-4035-ed09-70d4d035cec5"
      },
      "execution_count": 3,
      "outputs": [
        {
          "output_type": "execute_result",
          "data": {
            "text/plain": [
              "         0  1      2      3       4       5        6        7       8   \\\n",
              "0    842302  M  17.99  10.38  122.80  1001.0  0.11840  0.27760  0.3001   \n",
              "1    842517  M  20.57  17.77  132.90  1326.0  0.08474  0.07864  0.0869   \n",
              "2  84300903  M  19.69  21.25  130.00  1203.0  0.10960  0.15990  0.1974   \n",
              "3  84348301  M  11.42  20.38   77.58   386.1  0.14250  0.28390  0.2414   \n",
              "4  84358402  M  20.29  14.34  135.10  1297.0  0.10030  0.13280  0.1980   \n",
              "\n",
              "        9   ...     22     23      24      25      26      27      28      29  \\\n",
              "0  0.14710  ...  25.38  17.33  184.60  2019.0  0.1622  0.6656  0.7119  0.2654   \n",
              "1  0.07017  ...  24.99  23.41  158.80  1956.0  0.1238  0.1866  0.2416  0.1860   \n",
              "2  0.12790  ...  23.57  25.53  152.50  1709.0  0.1444  0.4245  0.4504  0.2430   \n",
              "3  0.10520  ...  14.91  26.50   98.87   567.7  0.2098  0.8663  0.6869  0.2575   \n",
              "4  0.10430  ...  22.54  16.67  152.20  1575.0  0.1374  0.2050  0.4000  0.1625   \n",
              "\n",
              "       30       31  \n",
              "0  0.4601  0.11890  \n",
              "1  0.2750  0.08902  \n",
              "2  0.3613  0.08758  \n",
              "3  0.6638  0.17300  \n",
              "4  0.2364  0.07678  \n",
              "\n",
              "[5 rows x 32 columns]"
            ],
            "text/html": [
              "\n",
              "  <div id=\"df-7c99be82-768b-4e91-8dce-8b41146ba306\" class=\"colab-df-container\">\n",
              "    <div>\n",
              "<style scoped>\n",
              "    .dataframe tbody tr th:only-of-type {\n",
              "        vertical-align: middle;\n",
              "    }\n",
              "\n",
              "    .dataframe tbody tr th {\n",
              "        vertical-align: top;\n",
              "    }\n",
              "\n",
              "    .dataframe thead th {\n",
              "        text-align: right;\n",
              "    }\n",
              "</style>\n",
              "<table border=\"1\" class=\"dataframe\">\n",
              "  <thead>\n",
              "    <tr style=\"text-align: right;\">\n",
              "      <th></th>\n",
              "      <th>0</th>\n",
              "      <th>1</th>\n",
              "      <th>2</th>\n",
              "      <th>3</th>\n",
              "      <th>4</th>\n",
              "      <th>5</th>\n",
              "      <th>6</th>\n",
              "      <th>7</th>\n",
              "      <th>8</th>\n",
              "      <th>9</th>\n",
              "      <th>...</th>\n",
              "      <th>22</th>\n",
              "      <th>23</th>\n",
              "      <th>24</th>\n",
              "      <th>25</th>\n",
              "      <th>26</th>\n",
              "      <th>27</th>\n",
              "      <th>28</th>\n",
              "      <th>29</th>\n",
              "      <th>30</th>\n",
              "      <th>31</th>\n",
              "    </tr>\n",
              "  </thead>\n",
              "  <tbody>\n",
              "    <tr>\n",
              "      <th>0</th>\n",
              "      <td>842302</td>\n",
              "      <td>M</td>\n",
              "      <td>17.99</td>\n",
              "      <td>10.38</td>\n",
              "      <td>122.80</td>\n",
              "      <td>1001.0</td>\n",
              "      <td>0.11840</td>\n",
              "      <td>0.27760</td>\n",
              "      <td>0.3001</td>\n",
              "      <td>0.14710</td>\n",
              "      <td>...</td>\n",
              "      <td>25.38</td>\n",
              "      <td>17.33</td>\n",
              "      <td>184.60</td>\n",
              "      <td>2019.0</td>\n",
              "      <td>0.1622</td>\n",
              "      <td>0.6656</td>\n",
              "      <td>0.7119</td>\n",
              "      <td>0.2654</td>\n",
              "      <td>0.4601</td>\n",
              "      <td>0.11890</td>\n",
              "    </tr>\n",
              "    <tr>\n",
              "      <th>1</th>\n",
              "      <td>842517</td>\n",
              "      <td>M</td>\n",
              "      <td>20.57</td>\n",
              "      <td>17.77</td>\n",
              "      <td>132.90</td>\n",
              "      <td>1326.0</td>\n",
              "      <td>0.08474</td>\n",
              "      <td>0.07864</td>\n",
              "      <td>0.0869</td>\n",
              "      <td>0.07017</td>\n",
              "      <td>...</td>\n",
              "      <td>24.99</td>\n",
              "      <td>23.41</td>\n",
              "      <td>158.80</td>\n",
              "      <td>1956.0</td>\n",
              "      <td>0.1238</td>\n",
              "      <td>0.1866</td>\n",
              "      <td>0.2416</td>\n",
              "      <td>0.1860</td>\n",
              "      <td>0.2750</td>\n",
              "      <td>0.08902</td>\n",
              "    </tr>\n",
              "    <tr>\n",
              "      <th>2</th>\n",
              "      <td>84300903</td>\n",
              "      <td>M</td>\n",
              "      <td>19.69</td>\n",
              "      <td>21.25</td>\n",
              "      <td>130.00</td>\n",
              "      <td>1203.0</td>\n",
              "      <td>0.10960</td>\n",
              "      <td>0.15990</td>\n",
              "      <td>0.1974</td>\n",
              "      <td>0.12790</td>\n",
              "      <td>...</td>\n",
              "      <td>23.57</td>\n",
              "      <td>25.53</td>\n",
              "      <td>152.50</td>\n",
              "      <td>1709.0</td>\n",
              "      <td>0.1444</td>\n",
              "      <td>0.4245</td>\n",
              "      <td>0.4504</td>\n",
              "      <td>0.2430</td>\n",
              "      <td>0.3613</td>\n",
              "      <td>0.08758</td>\n",
              "    </tr>\n",
              "    <tr>\n",
              "      <th>3</th>\n",
              "      <td>84348301</td>\n",
              "      <td>M</td>\n",
              "      <td>11.42</td>\n",
              "      <td>20.38</td>\n",
              "      <td>77.58</td>\n",
              "      <td>386.1</td>\n",
              "      <td>0.14250</td>\n",
              "      <td>0.28390</td>\n",
              "      <td>0.2414</td>\n",
              "      <td>0.10520</td>\n",
              "      <td>...</td>\n",
              "      <td>14.91</td>\n",
              "      <td>26.50</td>\n",
              "      <td>98.87</td>\n",
              "      <td>567.7</td>\n",
              "      <td>0.2098</td>\n",
              "      <td>0.8663</td>\n",
              "      <td>0.6869</td>\n",
              "      <td>0.2575</td>\n",
              "      <td>0.6638</td>\n",
              "      <td>0.17300</td>\n",
              "    </tr>\n",
              "    <tr>\n",
              "      <th>4</th>\n",
              "      <td>84358402</td>\n",
              "      <td>M</td>\n",
              "      <td>20.29</td>\n",
              "      <td>14.34</td>\n",
              "      <td>135.10</td>\n",
              "      <td>1297.0</td>\n",
              "      <td>0.10030</td>\n",
              "      <td>0.13280</td>\n",
              "      <td>0.1980</td>\n",
              "      <td>0.10430</td>\n",
              "      <td>...</td>\n",
              "      <td>22.54</td>\n",
              "      <td>16.67</td>\n",
              "      <td>152.20</td>\n",
              "      <td>1575.0</td>\n",
              "      <td>0.1374</td>\n",
              "      <td>0.2050</td>\n",
              "      <td>0.4000</td>\n",
              "      <td>0.1625</td>\n",
              "      <td>0.2364</td>\n",
              "      <td>0.07678</td>\n",
              "    </tr>\n",
              "  </tbody>\n",
              "</table>\n",
              "<p>5 rows × 32 columns</p>\n",
              "</div>\n",
              "    <div class=\"colab-df-buttons\">\n",
              "\n",
              "  <div class=\"colab-df-container\">\n",
              "    <button class=\"colab-df-convert\" onclick=\"convertToInteractive('df-7c99be82-768b-4e91-8dce-8b41146ba306')\"\n",
              "            title=\"Convert this dataframe to an interactive table.\"\n",
              "            style=\"display:none;\">\n",
              "\n",
              "  <svg xmlns=\"http://www.w3.org/2000/svg\" height=\"24px\" viewBox=\"0 -960 960 960\">\n",
              "    <path d=\"M120-120v-720h720v720H120Zm60-500h600v-160H180v160Zm220 220h160v-160H400v160Zm0 220h160v-160H400v160ZM180-400h160v-160H180v160Zm440 0h160v-160H620v160ZM180-180h160v-160H180v160Zm440 0h160v-160H620v160Z\"/>\n",
              "  </svg>\n",
              "    </button>\n",
              "\n",
              "  <style>\n",
              "    .colab-df-container {\n",
              "      display:flex;\n",
              "      gap: 12px;\n",
              "    }\n",
              "\n",
              "    .colab-df-convert {\n",
              "      background-color: #E8F0FE;\n",
              "      border: none;\n",
              "      border-radius: 50%;\n",
              "      cursor: pointer;\n",
              "      display: none;\n",
              "      fill: #1967D2;\n",
              "      height: 32px;\n",
              "      padding: 0 0 0 0;\n",
              "      width: 32px;\n",
              "    }\n",
              "\n",
              "    .colab-df-convert:hover {\n",
              "      background-color: #E2EBFA;\n",
              "      box-shadow: 0px 1px 2px rgba(60, 64, 67, 0.3), 0px 1px 3px 1px rgba(60, 64, 67, 0.15);\n",
              "      fill: #174EA6;\n",
              "    }\n",
              "\n",
              "    .colab-df-buttons div {\n",
              "      margin-bottom: 4px;\n",
              "    }\n",
              "\n",
              "    [theme=dark] .colab-df-convert {\n",
              "      background-color: #3B4455;\n",
              "      fill: #D2E3FC;\n",
              "    }\n",
              "\n",
              "    [theme=dark] .colab-df-convert:hover {\n",
              "      background-color: #434B5C;\n",
              "      box-shadow: 0px 1px 3px 1px rgba(0, 0, 0, 0.15);\n",
              "      filter: drop-shadow(0px 1px 2px rgba(0, 0, 0, 0.3));\n",
              "      fill: #FFFFFF;\n",
              "    }\n",
              "  </style>\n",
              "\n",
              "    <script>\n",
              "      const buttonEl =\n",
              "        document.querySelector('#df-7c99be82-768b-4e91-8dce-8b41146ba306 button.colab-df-convert');\n",
              "      buttonEl.style.display =\n",
              "        google.colab.kernel.accessAllowed ? 'block' : 'none';\n",
              "\n",
              "      async function convertToInteractive(key) {\n",
              "        const element = document.querySelector('#df-7c99be82-768b-4e91-8dce-8b41146ba306');\n",
              "        const dataTable =\n",
              "          await google.colab.kernel.invokeFunction('convertToInteractive',\n",
              "                                                    [key], {});\n",
              "        if (!dataTable) return;\n",
              "\n",
              "        const docLinkHtml = 'Like what you see? Visit the ' +\n",
              "          '<a target=\"_blank\" href=https://colab.research.google.com/notebooks/data_table.ipynb>data table notebook</a>'\n",
              "          + ' to learn more about interactive tables.';\n",
              "        element.innerHTML = '';\n",
              "        dataTable['output_type'] = 'display_data';\n",
              "        await google.colab.output.renderOutput(dataTable, element);\n",
              "        const docLink = document.createElement('div');\n",
              "        docLink.innerHTML = docLinkHtml;\n",
              "        element.appendChild(docLink);\n",
              "      }\n",
              "    </script>\n",
              "  </div>\n",
              "\n",
              "\n",
              "<div id=\"df-a9c977d4-23cd-4de3-97e6-2ed8b1c54891\">\n",
              "  <button class=\"colab-df-quickchart\" onclick=\"quickchart('df-a9c977d4-23cd-4de3-97e6-2ed8b1c54891')\"\n",
              "            title=\"Suggest charts\"\n",
              "            style=\"display:none;\">\n",
              "\n",
              "<svg xmlns=\"http://www.w3.org/2000/svg\" height=\"24px\"viewBox=\"0 0 24 24\"\n",
              "     width=\"24px\">\n",
              "    <g>\n",
              "        <path d=\"M19 3H5c-1.1 0-2 .9-2 2v14c0 1.1.9 2 2 2h14c1.1 0 2-.9 2-2V5c0-1.1-.9-2-2-2zM9 17H7v-7h2v7zm4 0h-2V7h2v10zm4 0h-2v-4h2v4z\"/>\n",
              "    </g>\n",
              "</svg>\n",
              "  </button>\n",
              "\n",
              "<style>\n",
              "  .colab-df-quickchart {\n",
              "      --bg-color: #E8F0FE;\n",
              "      --fill-color: #1967D2;\n",
              "      --hover-bg-color: #E2EBFA;\n",
              "      --hover-fill-color: #174EA6;\n",
              "      --disabled-fill-color: #AAA;\n",
              "      --disabled-bg-color: #DDD;\n",
              "  }\n",
              "\n",
              "  [theme=dark] .colab-df-quickchart {\n",
              "      --bg-color: #3B4455;\n",
              "      --fill-color: #D2E3FC;\n",
              "      --hover-bg-color: #434B5C;\n",
              "      --hover-fill-color: #FFFFFF;\n",
              "      --disabled-bg-color: #3B4455;\n",
              "      --disabled-fill-color: #666;\n",
              "  }\n",
              "\n",
              "  .colab-df-quickchart {\n",
              "    background-color: var(--bg-color);\n",
              "    border: none;\n",
              "    border-radius: 50%;\n",
              "    cursor: pointer;\n",
              "    display: none;\n",
              "    fill: var(--fill-color);\n",
              "    height: 32px;\n",
              "    padding: 0;\n",
              "    width: 32px;\n",
              "  }\n",
              "\n",
              "  .colab-df-quickchart:hover {\n",
              "    background-color: var(--hover-bg-color);\n",
              "    box-shadow: 0 1px 2px rgba(60, 64, 67, 0.3), 0 1px 3px 1px rgba(60, 64, 67, 0.15);\n",
              "    fill: var(--button-hover-fill-color);\n",
              "  }\n",
              "\n",
              "  .colab-df-quickchart-complete:disabled,\n",
              "  .colab-df-quickchart-complete:disabled:hover {\n",
              "    background-color: var(--disabled-bg-color);\n",
              "    fill: var(--disabled-fill-color);\n",
              "    box-shadow: none;\n",
              "  }\n",
              "\n",
              "  .colab-df-spinner {\n",
              "    border: 2px solid var(--fill-color);\n",
              "    border-color: transparent;\n",
              "    border-bottom-color: var(--fill-color);\n",
              "    animation:\n",
              "      spin 1s steps(1) infinite;\n",
              "  }\n",
              "\n",
              "  @keyframes spin {\n",
              "    0% {\n",
              "      border-color: transparent;\n",
              "      border-bottom-color: var(--fill-color);\n",
              "      border-left-color: var(--fill-color);\n",
              "    }\n",
              "    20% {\n",
              "      border-color: transparent;\n",
              "      border-left-color: var(--fill-color);\n",
              "      border-top-color: var(--fill-color);\n",
              "    }\n",
              "    30% {\n",
              "      border-color: transparent;\n",
              "      border-left-color: var(--fill-color);\n",
              "      border-top-color: var(--fill-color);\n",
              "      border-right-color: var(--fill-color);\n",
              "    }\n",
              "    40% {\n",
              "      border-color: transparent;\n",
              "      border-right-color: var(--fill-color);\n",
              "      border-top-color: var(--fill-color);\n",
              "    }\n",
              "    60% {\n",
              "      border-color: transparent;\n",
              "      border-right-color: var(--fill-color);\n",
              "    }\n",
              "    80% {\n",
              "      border-color: transparent;\n",
              "      border-right-color: var(--fill-color);\n",
              "      border-bottom-color: var(--fill-color);\n",
              "    }\n",
              "    90% {\n",
              "      border-color: transparent;\n",
              "      border-bottom-color: var(--fill-color);\n",
              "    }\n",
              "  }\n",
              "</style>\n",
              "\n",
              "  <script>\n",
              "    async function quickchart(key) {\n",
              "      const quickchartButtonEl =\n",
              "        document.querySelector('#' + key + ' button');\n",
              "      quickchartButtonEl.disabled = true;  // To prevent multiple clicks.\n",
              "      quickchartButtonEl.classList.add('colab-df-spinner');\n",
              "      try {\n",
              "        const charts = await google.colab.kernel.invokeFunction(\n",
              "            'suggestCharts', [key], {});\n",
              "      } catch (error) {\n",
              "        console.error('Error during call to suggestCharts:', error);\n",
              "      }\n",
              "      quickchartButtonEl.classList.remove('colab-df-spinner');\n",
              "      quickchartButtonEl.classList.add('colab-df-quickchart-complete');\n",
              "    }\n",
              "    (() => {\n",
              "      let quickchartButtonEl =\n",
              "        document.querySelector('#df-a9c977d4-23cd-4de3-97e6-2ed8b1c54891 button');\n",
              "      quickchartButtonEl.style.display =\n",
              "        google.colab.kernel.accessAllowed ? 'block' : 'none';\n",
              "    })();\n",
              "  </script>\n",
              "</div>\n",
              "\n",
              "    </div>\n",
              "  </div>\n"
            ],
            "application/vnd.google.colaboratory.intrinsic+json": {
              "type": "dataframe",
              "variable_name": "df"
            }
          },
          "metadata": {},
          "execution_count": 3
        }
      ]
    },
    {
      "cell_type": "markdown",
      "source": [
        "- 특성이 많다고 무조건 도움이 되는것은 아님.\n",
        "- x끼리 서로 연관이 있다면 성능이 하락함"
      ],
      "metadata": {
        "id": "_22VBsidpiPU"
      }
    },
    {
      "cell_type": "markdown",
      "source": [
        "컬럼 이름을 모르니까 drop() 대신 iloc"
      ],
      "metadata": {
        "id": "3xYBdO7IrZOK"
      }
    },
    {
      "cell_type": "code",
      "source": [
        "X = df.iloc[:,2:]"
      ],
      "metadata": {
        "id": "aA3huVlzoS4Q"
      },
      "execution_count": 4,
      "outputs": []
    },
    {
      "cell_type": "code",
      "source": [
        "X.shape"
      ],
      "metadata": {
        "colab": {
          "base_uri": "https://localhost:8080/"
        },
        "id": "26xKvcL1qKKW",
        "outputId": "5c404448-45ba-40c5-c08c-8596996e5058"
      },
      "execution_count": 5,
      "outputs": [
        {
          "output_type": "execute_result",
          "data": {
            "text/plain": [
              "(569, 30)"
            ]
          },
          "metadata": {},
          "execution_count": 5
        }
      ]
    },
    {
      "cell_type": "markdown",
      "source": [
        "pandas로 쓸 이유가 없으므로 numpy로(.values)"
      ],
      "metadata": {
        "id": "f9V5vDm7rs3-"
      }
    },
    {
      "cell_type": "code",
      "source": [
        "X = df.iloc[:,2:].values"
      ],
      "metadata": {
        "id": "44J8Mr5BqLCC"
      },
      "execution_count": 6,
      "outputs": []
    },
    {
      "cell_type": "code",
      "source": [
        "X.shape"
      ],
      "metadata": {
        "colab": {
          "base_uri": "https://localhost:8080/"
        },
        "id": "fDe7CYOVqMZ5",
        "outputId": "5fd9b2c9-c5bc-425e-919e-68b4a2d3d4bf"
      },
      "execution_count": 7,
      "outputs": [
        {
          "output_type": "execute_result",
          "data": {
            "text/plain": [
              "(569, 30)"
            ]
          },
          "metadata": {},
          "execution_count": 7
        }
      ]
    },
    {
      "cell_type": "code",
      "source": [
        "y = df.iloc[:,1].values"
      ],
      "metadata": {
        "id": "EYzYmLJqqM-i"
      },
      "execution_count": 8,
      "outputs": []
    },
    {
      "cell_type": "code",
      "source": [
        "y.shape"
      ],
      "metadata": {
        "colab": {
          "base_uri": "https://localhost:8080/"
        },
        "id": "TG4H0HLlqZ1z",
        "outputId": "8a8a639d-362b-4b58-a6e2-5bf1a4488b98"
      },
      "execution_count": 9,
      "outputs": [
        {
          "output_type": "execute_result",
          "data": {
            "text/plain": [
              "(569,)"
            ]
          },
          "metadata": {},
          "execution_count": 9
        }
      ]
    },
    {
      "cell_type": "code",
      "source": [
        "from sklearn.model_selection import train_test_split\n",
        "X_train, X_test, y_train, y_test = train_test_split(X, y, test_size =0.2,\n",
        "                                                    stratify =y, random_state=1)"
      ],
      "metadata": {
        "id": "WcA1ffrAqatH"
      },
      "execution_count": 10,
      "outputs": []
    },
    {
      "cell_type": "code",
      "source": [
        "from sklearn.preprocessing import LabelEncoder\n",
        "label_encoder = LabelEncoder()\n",
        "y_train = label_encoder.fit_transform(y_train)\n",
        "y_test = label_encoder.transform(y_test)"
      ],
      "metadata": {
        "id": "qNgzNRt0q7JL"
      },
      "execution_count": 15,
      "outputs": []
    },
    {
      "cell_type": "markdown",
      "source": [
        "클래스 분포 파악\n",
        "- pandas에서는 value_count()\n",
        "- numpy에서는 unique() , return_counts=True: 개수도 알려줌"
      ],
      "metadata": {
        "id": "IZhWvBPYsk_I"
      }
    },
    {
      "cell_type": "code",
      "source": [
        "unique_values, counts = np.unique(y_train, return_counts=True)\n",
        "print(unique_values)\n",
        "print(counts) # 문제될정도의 불균형은 아님"
      ],
      "metadata": {
        "colab": {
          "base_uri": "https://localhost:8080/"
        },
        "id": "RBrVrehmsiQY",
        "outputId": "61e1c20e-d587-4c79-a7be-1184b8c089d3"
      },
      "execution_count": 19,
      "outputs": [
        {
          "output_type": "stream",
          "name": "stdout",
          "text": [
            "[0 1]\n",
            "[285 170]\n"
          ]
        }
      ]
    },
    {
      "cell_type": "markdown",
      "source": [
        "과제2에서 정확도는 준수하지만 정밀도와 재현율은 0에 가까웠음\n",
        "- 클래스 불균형의 문제\n",
        "> - 적은 클래스에 가중치를 준다\n",
        "> - 많은 클래스를 제거해서 균형을 맞춘다(?)"
      ],
      "metadata": {
        "id": "GRAR10p7tNYv"
      }
    },
    {
      "cell_type": "markdown",
      "source": [
        "정오분류표에서 측도를 구할때 가중치를 똑같이 뒀음\n",
        "- 음성을 양성으로 구분하는것과, 양성을 음성으로 구분하는것을 똑같이 여김(실제론 음성을 양성으로 구분하는게 더 중요함)"
      ],
      "metadata": {
        "id": "y5KVHNV7uCbv"
      }
    },
    {
      "cell_type": "markdown",
      "source": [
        "위 데이터는 특성이 매우 많음\n",
        "- x는 y와 연관이 높아야함\n",
        "- x끼리는 연관이 낮아야함\n",
        "\n",
        "특성이 매우 많을때\n",
        "- 좋은 특성은 남기고, 나머지는 뺌. (어렵고 복잡함)\n",
        "- 모든 특성을 다 가지고, 새로운 특성을 만들어냄 -> **특성추출**\n",
        "- PCA: 차원축소 : 특성추출의 대표적 알고리즘"
      ],
      "metadata": {
        "id": "RH0QvYLDvVn6"
      }
    },
    {
      "cell_type": "markdown",
      "source": [
        "차원이 커질수록 데이터간 거리가 멀어짐.. (희소해짐)\n",
        "-> 차원축소 필요"
      ],
      "metadata": {
        "id": "mD1Q39q1xQKK"
      }
    },
    {
      "cell_type": "markdown",
      "source": [
        "주성분 분석\n",
        "데이터를 가장 잘 설명하는 축을 뽑아냄 <- 첫번째 주성분\n",
        "\n",
        "\n",
        "두번째 주성분은 첫번째 주성분과 연관이 적어야함 = (상관계수 0 , 독립적(직각)).. 직각인걸 뽑아냄.\n",
        "![image.png](data:image/png;base64,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)"
      ],
      "metadata": {
        "id": "2Lbomq9AxkC-"
      }
    },
    {
      "cell_type": "markdown",
      "source": [
        "- n_components : 추출하고자 하는 주성분 개수\n",
        "- explained_variance_ratio : 주성분으로 설명되는 분산의 비율\n",
        "- PCA 사용시 표준화 필요"
      ],
      "metadata": {
        "id": "7kMdP3SqynAx"
      }
    },
    {
      "cell_type": "code",
      "source": [
        "# 특성 표준화\n",
        "from sklearn.preprocessing import StandardScaler\n",
        "sc = StandardScaler()\n",
        "sc.fit(X_train)\n",
        "X_train_std = sc.transform(X_train)\n",
        "X_test_std = sc.transform(X_test)"
      ],
      "metadata": {
        "id": "VjpiC-RAsIc9"
      },
      "execution_count": 20,
      "outputs": []
    },
    {
      "cell_type": "code",
      "source": [
        "# PCA 변환\n",
        "from sklearn.decomposition import PCA\n",
        "pca = PCA(n_components=2) # 주성분 2개 추출\n",
        "pca.fit(X_train_std)\n",
        "pca.components_ # 전치 투영 행렬, shape = (2,30)"
      ],
      "metadata": {
        "colab": {
          "base_uri": "https://localhost:8080/"
        },
        "id": "7kYMhydcsNCb",
        "outputId": "c3115699-1cf7-46c7-b102-bfc40ece8e7f"
      },
      "execution_count": 22,
      "outputs": [
        {
          "output_type": "execute_result",
          "data": {
            "text/plain": [
              "array([[ 0.21679334,  0.10660312,  0.22557851,  0.21886594,  0.14066045,\n",
              "         0.23936605,  0.25444238,  0.25775276,  0.14120408,  0.07237829,\n",
              "         0.20600989,  0.01378187,  0.21367988,  0.20798454,  0.00307547,\n",
              "         0.17102664,  0.14768555,  0.18439201,  0.04163771,  0.10122214,\n",
              "         0.226975  ,  0.10755498,  0.23567844,  0.2237171 ,  0.12867934,\n",
              "         0.21426764,  0.2282569 ,  0.24993858,  0.12582219,  0.13879824],\n",
              "       [-0.23462306, -0.06849448, -0.2151757 , -0.23224295,  0.1848655 ,\n",
              "         0.14475358,  0.06573624, -0.03731318,  0.18138941,  0.3662257 ,\n",
              "        -0.09883883,  0.0763412 , -0.07861921, -0.15183423,  0.2049454 ,\n",
              "         0.2377156 ,  0.20931191,  0.1409671 ,  0.19936217,  0.2828757 ,\n",
              "        -0.22124091, -0.06136208, -0.20066026, -0.22093973,  0.15776067,\n",
              "         0.13415898,  0.09876787, -0.00967411,  0.13847033,  0.26770452]])"
            ]
          },
          "metadata": {},
          "execution_count": 22
        }
      ]
    },
    {
      "cell_type": "code",
      "source": [
        "pca.explained_variance_ratio_ # 처음 두 주성분으로 설명되는 분산의 비율: 총 63%\n",
        "# 첫번째 주성분: 45%, 두번째 18%"
      ],
      "metadata": {
        "colab": {
          "base_uri": "https://localhost:8080/"
        },
        "id": "d-MJOjxSzfk6",
        "outputId": "d8de5421-3b47-4204-a204-9f592dc3ccfe"
      },
      "execution_count": 31,
      "outputs": [
        {
          "output_type": "execute_result",
          "data": {
            "text/plain": [
              "array([0.45254431, 0.1855675 ])"
            ]
          },
          "metadata": {},
          "execution_count": 31
        }
      ]
    },
    {
      "cell_type": "code",
      "source": [
        "# PCA 변환\n",
        "X_train_std_pca = pca.transform(X_train_std)\n",
        "X_test_std_pca = pca.transform(X_test_std)"
      ],
      "metadata": {
        "id": "wTur-oVfzuCq"
      },
      "execution_count": 32,
      "outputs": []
    },
    {
      "cell_type": "code",
      "source": [
        "X_train_std_pca.shape # 2차원으로 변함. (30개중 합쳐서 2개로 만들었다.)"
      ],
      "metadata": {
        "colab": {
          "base_uri": "https://localhost:8080/"
        },
        "id": "0KgITKUX0DAp",
        "outputId": "561c5e9f-d411-46e8-ee9c-44838f5d0ef2"
      },
      "execution_count": 33,
      "outputs": [
        {
          "output_type": "execute_result",
          "data": {
            "text/plain": [
              "(455, 2)"
            ]
          },
          "metadata": {},
          "execution_count": 33
        }
      ]
    },
    {
      "cell_type": "code",
      "source": [
        "import matplotlib.pyplot as plt"
      ],
      "metadata": {
        "id": "mMoVbUEe0HdF"
      },
      "execution_count": 30,
      "outputs": []
    },
    {
      "cell_type": "code",
      "source": [],
      "metadata": {
        "id": "5Cx78Pn50bSF"
      },
      "execution_count": 34,
      "outputs": []
    },
    {
      "cell_type": "markdown",
      "source": [
        "- 30개를 가지고 로지스틱 -> 98%\n",
        "- 2개를 가지고 로지스틱 -> 95%\n",
        "- 30개를 가지고 만든게 더 높지만, 2개만을 가지고도 그에 준하는 성능을 보였다."
      ],
      "metadata": {
        "id": "J2P0XA_H1bG-"
      }
    },
    {
      "cell_type": "markdown",
      "source": [
        "# 파이프라인"
      ],
      "metadata": {
        "id": "3OIV3T5Z13I0"
      }
    },
    {
      "cell_type": "markdown",
      "source": [
        "여러 변환기 or 추정기들을 모아서 한번에 하도록 할 수 있음"
      ],
      "metadata": {
        "id": "YVZegNqI17zF"
      }
    },
    {
      "cell_type": "markdown",
      "source": [
        "ex) StandardScaler -> PCA -> LogisticRegression"
      ],
      "metadata": {
        "id": "UomISmh42OU7"
      }
    },
    {
      "cell_type": "code",
      "source": [
        "from sklearn.pipeline import make_pipeline"
      ],
      "metadata": {
        "id": "LeXCqwe42fcz"
      },
      "execution_count": 36,
      "outputs": []
    },
    {
      "cell_type": "markdown",
      "source": [
        "sklearn.compose.ColumnTransformer를 사용하면, 수치형/범주형 칼럼 이름 리스트에\n",
        "대한 전처리 파이프라인 구축 가능(이런것도있더라..)"
      ],
      "metadata": {
        "id": "R397mP7v2Y94"
      }
    },
    {
      "cell_type": "code",
      "source": [],
      "metadata": {
        "id": "K5lEmsxj0nry"
      },
      "execution_count": null,
      "outputs": []
    }
  ]
}