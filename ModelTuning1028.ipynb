{
  "nbformat": 4,
  "nbformat_minor": 0,
  "metadata": {
    "colab": {
      "provenance": [],
      "authorship_tag": "ABX9TyPwVQ+HkqE9kUodKfaOm51q",
      "include_colab_link": true
    },
    "kernelspec": {
      "name": "python3",
      "display_name": "Python 3"
    },
    "language_info": {
      "name": "python"
    }
  },
  "cells": [
    {
      "cell_type": "markdown",
      "metadata": {
        "id": "view-in-github",
        "colab_type": "text"
      },
      "source": [
        "<a href=\"https://colab.research.google.com/github/jhj1819/Machine-learning/blob/main/ModelTuning1028.ipynb\" target=\"_parent\"><img src=\"https://colab.research.google.com/assets/colab-badge.svg\" alt=\"Open In Colab\"/></a>"
      ]
    },
    {
      "cell_type": "markdown",
      "source": [
        "# 1028"
      ],
      "metadata": {
        "id": "sHDG7Sln6kSC"
      }
    },
    {
      "cell_type": "code",
      "execution_count": 4,
      "metadata": {
        "id": "flCQwOpon7m0"
      },
      "outputs": [],
      "source": [
        "import numpy as np\n",
        "import pandas as pd"
      ]
    },
    {
      "cell_type": "code",
      "source": [
        " path = 'https://archive.ics.uci.edu/ml/machine-learning-databases/breast-cancer-wisconsin/wdbc.data'\n",
        " df = pd.read_csv(path, header=None)"
      ],
      "metadata": {
        "id": "k35Z6fTRoL2b"
      },
      "execution_count": 5,
      "outputs": []
    },
    {
      "cell_type": "markdown",
      "source": [
        ".data로 끝나는 데이터에는 header가 없음"
      ],
      "metadata": {
        "id": "9SBs4aGlqS6x"
      }
    },
    {
      "cell_type": "code",
      "source": [
        "df.head()"
      ],
      "metadata": {
        "colab": {
          "base_uri": "https://localhost:8080/",
          "height": 226
        },
        "id": "txsQkep7oMSL",
        "outputId": "30056a22-bfb8-4408-96ec-6c965222484b"
      },
      "execution_count": 6,
      "outputs": [
        {
          "output_type": "execute_result",
          "data": {
            "text/plain": [
              "         0  1      2      3       4       5   ...      26      27      28      29      30       31\n",
              "0    842302  M  17.99  10.38  122.80  1001.0  ...  0.1622  0.6656  0.7119  0.2654  0.4601  0.11890\n",
              "1    842517  M  20.57  17.77  132.90  1326.0  ...  0.1238  0.1866  0.2416  0.1860  0.2750  0.08902\n",
              "2  84300903  M  19.69  21.25  130.00  1203.0  ...  0.1444  0.4245  0.4504  0.2430  0.3613  0.08758\n",
              "3  84348301  M  11.42  20.38   77.58   386.1  ...  0.2098  0.8663  0.6869  0.2575  0.6638  0.17300\n",
              "4  84358402  M  20.29  14.34  135.10  1297.0  ...  0.1374  0.2050  0.4000  0.1625  0.2364  0.07678\n",
              "\n",
              "[5 rows x 32 columns]"
            ],
            "text/html": [
              "\n",
              "  <div id=\"df-7b632164-28c2-443e-bdd5-19defd0d85b1\" class=\"colab-df-container\">\n",
              "    <div>\n",
              "<style scoped>\n",
              "    .dataframe tbody tr th:only-of-type {\n",
              "        vertical-align: middle;\n",
              "    }\n",
              "\n",
              "    .dataframe tbody tr th {\n",
              "        vertical-align: top;\n",
              "    }\n",
              "\n",
              "    .dataframe thead th {\n",
              "        text-align: right;\n",
              "    }\n",
              "</style>\n",
              "<table border=\"1\" class=\"dataframe\">\n",
              "  <thead>\n",
              "    <tr style=\"text-align: right;\">\n",
              "      <th></th>\n",
              "      <th>0</th>\n",
              "      <th>1</th>\n",
              "      <th>2</th>\n",
              "      <th>3</th>\n",
              "      <th>4</th>\n",
              "      <th>5</th>\n",
              "      <th>6</th>\n",
              "      <th>7</th>\n",
              "      <th>8</th>\n",
              "      <th>9</th>\n",
              "      <th>10</th>\n",
              "      <th>11</th>\n",
              "      <th>12</th>\n",
              "      <th>13</th>\n",
              "      <th>14</th>\n",
              "      <th>15</th>\n",
              "      <th>16</th>\n",
              "      <th>17</th>\n",
              "      <th>18</th>\n",
              "      <th>19</th>\n",
              "      <th>20</th>\n",
              "      <th>21</th>\n",
              "      <th>22</th>\n",
              "      <th>23</th>\n",
              "      <th>24</th>\n",
              "      <th>25</th>\n",
              "      <th>26</th>\n",
              "      <th>27</th>\n",
              "      <th>28</th>\n",
              "      <th>29</th>\n",
              "      <th>30</th>\n",
              "      <th>31</th>\n",
              "    </tr>\n",
              "  </thead>\n",
              "  <tbody>\n",
              "    <tr>\n",
              "      <th>0</th>\n",
              "      <td>842302</td>\n",
              "      <td>M</td>\n",
              "      <td>17.99</td>\n",
              "      <td>10.38</td>\n",
              "      <td>122.80</td>\n",
              "      <td>1001.0</td>\n",
              "      <td>0.11840</td>\n",
              "      <td>0.27760</td>\n",
              "      <td>0.3001</td>\n",
              "      <td>0.14710</td>\n",
              "      <td>0.2419</td>\n",
              "      <td>0.07871</td>\n",
              "      <td>1.0950</td>\n",
              "      <td>0.9053</td>\n",
              "      <td>8.589</td>\n",
              "      <td>153.40</td>\n",
              "      <td>0.006399</td>\n",
              "      <td>0.04904</td>\n",
              "      <td>0.05373</td>\n",
              "      <td>0.01587</td>\n",
              "      <td>0.03003</td>\n",
              "      <td>0.006193</td>\n",
              "      <td>25.38</td>\n",
              "      <td>17.33</td>\n",
              "      <td>184.60</td>\n",
              "      <td>2019.0</td>\n",
              "      <td>0.1622</td>\n",
              "      <td>0.6656</td>\n",
              "      <td>0.7119</td>\n",
              "      <td>0.2654</td>\n",
              "      <td>0.4601</td>\n",
              "      <td>0.11890</td>\n",
              "    </tr>\n",
              "    <tr>\n",
              "      <th>1</th>\n",
              "      <td>842517</td>\n",
              "      <td>M</td>\n",
              "      <td>20.57</td>\n",
              "      <td>17.77</td>\n",
              "      <td>132.90</td>\n",
              "      <td>1326.0</td>\n",
              "      <td>0.08474</td>\n",
              "      <td>0.07864</td>\n",
              "      <td>0.0869</td>\n",
              "      <td>0.07017</td>\n",
              "      <td>0.1812</td>\n",
              "      <td>0.05667</td>\n",
              "      <td>0.5435</td>\n",
              "      <td>0.7339</td>\n",
              "      <td>3.398</td>\n",
              "      <td>74.08</td>\n",
              "      <td>0.005225</td>\n",
              "      <td>0.01308</td>\n",
              "      <td>0.01860</td>\n",
              "      <td>0.01340</td>\n",
              "      <td>0.01389</td>\n",
              "      <td>0.003532</td>\n",
              "      <td>24.99</td>\n",
              "      <td>23.41</td>\n",
              "      <td>158.80</td>\n",
              "      <td>1956.0</td>\n",
              "      <td>0.1238</td>\n",
              "      <td>0.1866</td>\n",
              "      <td>0.2416</td>\n",
              "      <td>0.1860</td>\n",
              "      <td>0.2750</td>\n",
              "      <td>0.08902</td>\n",
              "    </tr>\n",
              "    <tr>\n",
              "      <th>2</th>\n",
              "      <td>84300903</td>\n",
              "      <td>M</td>\n",
              "      <td>19.69</td>\n",
              "      <td>21.25</td>\n",
              "      <td>130.00</td>\n",
              "      <td>1203.0</td>\n",
              "      <td>0.10960</td>\n",
              "      <td>0.15990</td>\n",
              "      <td>0.1974</td>\n",
              "      <td>0.12790</td>\n",
              "      <td>0.2069</td>\n",
              "      <td>0.05999</td>\n",
              "      <td>0.7456</td>\n",
              "      <td>0.7869</td>\n",
              "      <td>4.585</td>\n",
              "      <td>94.03</td>\n",
              "      <td>0.006150</td>\n",
              "      <td>0.04006</td>\n",
              "      <td>0.03832</td>\n",
              "      <td>0.02058</td>\n",
              "      <td>0.02250</td>\n",
              "      <td>0.004571</td>\n",
              "      <td>23.57</td>\n",
              "      <td>25.53</td>\n",
              "      <td>152.50</td>\n",
              "      <td>1709.0</td>\n",
              "      <td>0.1444</td>\n",
              "      <td>0.4245</td>\n",
              "      <td>0.4504</td>\n",
              "      <td>0.2430</td>\n",
              "      <td>0.3613</td>\n",
              "      <td>0.08758</td>\n",
              "    </tr>\n",
              "    <tr>\n",
              "      <th>3</th>\n",
              "      <td>84348301</td>\n",
              "      <td>M</td>\n",
              "      <td>11.42</td>\n",
              "      <td>20.38</td>\n",
              "      <td>77.58</td>\n",
              "      <td>386.1</td>\n",
              "      <td>0.14250</td>\n",
              "      <td>0.28390</td>\n",
              "      <td>0.2414</td>\n",
              "      <td>0.10520</td>\n",
              "      <td>0.2597</td>\n",
              "      <td>0.09744</td>\n",
              "      <td>0.4956</td>\n",
              "      <td>1.1560</td>\n",
              "      <td>3.445</td>\n",
              "      <td>27.23</td>\n",
              "      <td>0.009110</td>\n",
              "      <td>0.07458</td>\n",
              "      <td>0.05661</td>\n",
              "      <td>0.01867</td>\n",
              "      <td>0.05963</td>\n",
              "      <td>0.009208</td>\n",
              "      <td>14.91</td>\n",
              "      <td>26.50</td>\n",
              "      <td>98.87</td>\n",
              "      <td>567.7</td>\n",
              "      <td>0.2098</td>\n",
              "      <td>0.8663</td>\n",
              "      <td>0.6869</td>\n",
              "      <td>0.2575</td>\n",
              "      <td>0.6638</td>\n",
              "      <td>0.17300</td>\n",
              "    </tr>\n",
              "    <tr>\n",
              "      <th>4</th>\n",
              "      <td>84358402</td>\n",
              "      <td>M</td>\n",
              "      <td>20.29</td>\n",
              "      <td>14.34</td>\n",
              "      <td>135.10</td>\n",
              "      <td>1297.0</td>\n",
              "      <td>0.10030</td>\n",
              "      <td>0.13280</td>\n",
              "      <td>0.1980</td>\n",
              "      <td>0.10430</td>\n",
              "      <td>0.1809</td>\n",
              "      <td>0.05883</td>\n",
              "      <td>0.7572</td>\n",
              "      <td>0.7813</td>\n",
              "      <td>5.438</td>\n",
              "      <td>94.44</td>\n",
              "      <td>0.011490</td>\n",
              "      <td>0.02461</td>\n",
              "      <td>0.05688</td>\n",
              "      <td>0.01885</td>\n",
              "      <td>0.01756</td>\n",
              "      <td>0.005115</td>\n",
              "      <td>22.54</td>\n",
              "      <td>16.67</td>\n",
              "      <td>152.20</td>\n",
              "      <td>1575.0</td>\n",
              "      <td>0.1374</td>\n",
              "      <td>0.2050</td>\n",
              "      <td>0.4000</td>\n",
              "      <td>0.1625</td>\n",
              "      <td>0.2364</td>\n",
              "      <td>0.07678</td>\n",
              "    </tr>\n",
              "  </tbody>\n",
              "</table>\n",
              "</div>\n",
              "    <div class=\"colab-df-buttons\">\n",
              "\n",
              "  <div class=\"colab-df-container\">\n",
              "    <button class=\"colab-df-convert\" onclick=\"convertToInteractive('df-7b632164-28c2-443e-bdd5-19defd0d85b1')\"\n",
              "            title=\"Convert this dataframe to an interactive table.\"\n",
              "            style=\"display:none;\">\n",
              "\n",
              "  <svg xmlns=\"http://www.w3.org/2000/svg\" height=\"24px\" viewBox=\"0 -960 960 960\">\n",
              "    <path d=\"M120-120v-720h720v720H120Zm60-500h600v-160H180v160Zm220 220h160v-160H400v160Zm0 220h160v-160H400v160ZM180-400h160v-160H180v160Zm440 0h160v-160H620v160ZM180-180h160v-160H180v160Zm440 0h160v-160H620v160Z\"/>\n",
              "  </svg>\n",
              "    </button>\n",
              "\n",
              "  <style>\n",
              "    .colab-df-container {\n",
              "      display:flex;\n",
              "      gap: 12px;\n",
              "    }\n",
              "\n",
              "    .colab-df-convert {\n",
              "      background-color: #E8F0FE;\n",
              "      border: none;\n",
              "      border-radius: 50%;\n",
              "      cursor: pointer;\n",
              "      display: none;\n",
              "      fill: #1967D2;\n",
              "      height: 32px;\n",
              "      padding: 0 0 0 0;\n",
              "      width: 32px;\n",
              "    }\n",
              "\n",
              "    .colab-df-convert:hover {\n",
              "      background-color: #E2EBFA;\n",
              "      box-shadow: 0px 1px 2px rgba(60, 64, 67, 0.3), 0px 1px 3px 1px rgba(60, 64, 67, 0.15);\n",
              "      fill: #174EA6;\n",
              "    }\n",
              "\n",
              "    .colab-df-buttons div {\n",
              "      margin-bottom: 4px;\n",
              "    }\n",
              "\n",
              "    [theme=dark] .colab-df-convert {\n",
              "      background-color: #3B4455;\n",
              "      fill: #D2E3FC;\n",
              "    }\n",
              "\n",
              "    [theme=dark] .colab-df-convert:hover {\n",
              "      background-color: #434B5C;\n",
              "      box-shadow: 0px 1px 3px 1px rgba(0, 0, 0, 0.15);\n",
              "      filter: drop-shadow(0px 1px 2px rgba(0, 0, 0, 0.3));\n",
              "      fill: #FFFFFF;\n",
              "    }\n",
              "  </style>\n",
              "\n",
              "    <script>\n",
              "      const buttonEl =\n",
              "        document.querySelector('#df-7b632164-28c2-443e-bdd5-19defd0d85b1 button.colab-df-convert');\n",
              "      buttonEl.style.display =\n",
              "        google.colab.kernel.accessAllowed ? 'block' : 'none';\n",
              "\n",
              "      async function convertToInteractive(key) {\n",
              "        const element = document.querySelector('#df-7b632164-28c2-443e-bdd5-19defd0d85b1');\n",
              "        const dataTable =\n",
              "          await google.colab.kernel.invokeFunction('convertToInteractive',\n",
              "                                                    [key], {});\n",
              "        if (!dataTable) return;\n",
              "\n",
              "        const docLinkHtml = 'Like what you see? Visit the ' +\n",
              "          '<a target=\"_blank\" href=https://colab.research.google.com/notebooks/data_table.ipynb>data table notebook</a>'\n",
              "          + ' to learn more about interactive tables.';\n",
              "        element.innerHTML = '';\n",
              "        dataTable['output_type'] = 'display_data';\n",
              "        await google.colab.output.renderOutput(dataTable, element);\n",
              "        const docLink = document.createElement('div');\n",
              "        docLink.innerHTML = docLinkHtml;\n",
              "        element.appendChild(docLink);\n",
              "      }\n",
              "    </script>\n",
              "  </div>\n",
              "\n",
              "\n",
              "<div id=\"df-0fece292-b94f-4397-9c57-1165fd2f684b\">\n",
              "  <button class=\"colab-df-quickchart\" onclick=\"quickchart('df-0fece292-b94f-4397-9c57-1165fd2f684b')\"\n",
              "            title=\"Suggest charts\"\n",
              "            style=\"display:none;\">\n",
              "\n",
              "<svg xmlns=\"http://www.w3.org/2000/svg\" height=\"24px\"viewBox=\"0 0 24 24\"\n",
              "     width=\"24px\">\n",
              "    <g>\n",
              "        <path d=\"M19 3H5c-1.1 0-2 .9-2 2v14c0 1.1.9 2 2 2h14c1.1 0 2-.9 2-2V5c0-1.1-.9-2-2-2zM9 17H7v-7h2v7zm4 0h-2V7h2v10zm4 0h-2v-4h2v4z\"/>\n",
              "    </g>\n",
              "</svg>\n",
              "  </button>\n",
              "\n",
              "<style>\n",
              "  .colab-df-quickchart {\n",
              "      --bg-color: #E8F0FE;\n",
              "      --fill-color: #1967D2;\n",
              "      --hover-bg-color: #E2EBFA;\n",
              "      --hover-fill-color: #174EA6;\n",
              "      --disabled-fill-color: #AAA;\n",
              "      --disabled-bg-color: #DDD;\n",
              "  }\n",
              "\n",
              "  [theme=dark] .colab-df-quickchart {\n",
              "      --bg-color: #3B4455;\n",
              "      --fill-color: #D2E3FC;\n",
              "      --hover-bg-color: #434B5C;\n",
              "      --hover-fill-color: #FFFFFF;\n",
              "      --disabled-bg-color: #3B4455;\n",
              "      --disabled-fill-color: #666;\n",
              "  }\n",
              "\n",
              "  .colab-df-quickchart {\n",
              "    background-color: var(--bg-color);\n",
              "    border: none;\n",
              "    border-radius: 50%;\n",
              "    cursor: pointer;\n",
              "    display: none;\n",
              "    fill: var(--fill-color);\n",
              "    height: 32px;\n",
              "    padding: 0;\n",
              "    width: 32px;\n",
              "  }\n",
              "\n",
              "  .colab-df-quickchart:hover {\n",
              "    background-color: var(--hover-bg-color);\n",
              "    box-shadow: 0 1px 2px rgba(60, 64, 67, 0.3), 0 1px 3px 1px rgba(60, 64, 67, 0.15);\n",
              "    fill: var(--button-hover-fill-color);\n",
              "  }\n",
              "\n",
              "  .colab-df-quickchart-complete:disabled,\n",
              "  .colab-df-quickchart-complete:disabled:hover {\n",
              "    background-color: var(--disabled-bg-color);\n",
              "    fill: var(--disabled-fill-color);\n",
              "    box-shadow: none;\n",
              "  }\n",
              "\n",
              "  .colab-df-spinner {\n",
              "    border: 2px solid var(--fill-color);\n",
              "    border-color: transparent;\n",
              "    border-bottom-color: var(--fill-color);\n",
              "    animation:\n",
              "      spin 1s steps(1) infinite;\n",
              "  }\n",
              "\n",
              "  @keyframes spin {\n",
              "    0% {\n",
              "      border-color: transparent;\n",
              "      border-bottom-color: var(--fill-color);\n",
              "      border-left-color: var(--fill-color);\n",
              "    }\n",
              "    20% {\n",
              "      border-color: transparent;\n",
              "      border-left-color: var(--fill-color);\n",
              "      border-top-color: var(--fill-color);\n",
              "    }\n",
              "    30% {\n",
              "      border-color: transparent;\n",
              "      border-left-color: var(--fill-color);\n",
              "      border-top-color: var(--fill-color);\n",
              "      border-right-color: var(--fill-color);\n",
              "    }\n",
              "    40% {\n",
              "      border-color: transparent;\n",
              "      border-right-color: var(--fill-color);\n",
              "      border-top-color: var(--fill-color);\n",
              "    }\n",
              "    60% {\n",
              "      border-color: transparent;\n",
              "      border-right-color: var(--fill-color);\n",
              "    }\n",
              "    80% {\n",
              "      border-color: transparent;\n",
              "      border-right-color: var(--fill-color);\n",
              "      border-bottom-color: var(--fill-color);\n",
              "    }\n",
              "    90% {\n",
              "      border-color: transparent;\n",
              "      border-bottom-color: var(--fill-color);\n",
              "    }\n",
              "  }\n",
              "</style>\n",
              "\n",
              "  <script>\n",
              "    async function quickchart(key) {\n",
              "      const quickchartButtonEl =\n",
              "        document.querySelector('#' + key + ' button');\n",
              "      quickchartButtonEl.disabled = true;  // To prevent multiple clicks.\n",
              "      quickchartButtonEl.classList.add('colab-df-spinner');\n",
              "      try {\n",
              "        const charts = await google.colab.kernel.invokeFunction(\n",
              "            'suggestCharts', [key], {});\n",
              "      } catch (error) {\n",
              "        console.error('Error during call to suggestCharts:', error);\n",
              "      }\n",
              "      quickchartButtonEl.classList.remove('colab-df-spinner');\n",
              "      quickchartButtonEl.classList.add('colab-df-quickchart-complete');\n",
              "    }\n",
              "    (() => {\n",
              "      let quickchartButtonEl =\n",
              "        document.querySelector('#df-0fece292-b94f-4397-9c57-1165fd2f684b button');\n",
              "      quickchartButtonEl.style.display =\n",
              "        google.colab.kernel.accessAllowed ? 'block' : 'none';\n",
              "    })();\n",
              "  </script>\n",
              "</div>\n",
              "\n",
              "    </div>\n",
              "  </div>\n"
            ],
            "application/vnd.google.colaboratory.intrinsic+json": {
              "type": "dataframe",
              "variable_name": "df"
            }
          },
          "metadata": {},
          "execution_count": 6
        }
      ]
    },
    {
      "cell_type": "markdown",
      "source": [
        "- 특성이 많다고 무조건 도움이 되는것은 아님.\n",
        "- x끼리 서로 연관이 있다면 성능이 하락함"
      ],
      "metadata": {
        "id": "_22VBsidpiPU"
      }
    },
    {
      "cell_type": "markdown",
      "source": [
        "컬럼 이름을 모르니까 drop() 대신 iloc"
      ],
      "metadata": {
        "id": "3xYBdO7IrZOK"
      }
    },
    {
      "cell_type": "code",
      "source": [
        "X = df.iloc[:,2:]"
      ],
      "metadata": {
        "id": "aA3huVlzoS4Q"
      },
      "execution_count": 7,
      "outputs": []
    },
    {
      "cell_type": "code",
      "source": [
        "X.shape"
      ],
      "metadata": {
        "colab": {
          "base_uri": "https://localhost:8080/"
        },
        "id": "26xKvcL1qKKW",
        "outputId": "0f24f474-f13a-4937-c625-96fea7773ba2"
      },
      "execution_count": 8,
      "outputs": [
        {
          "output_type": "execute_result",
          "data": {
            "text/plain": [
              "(569, 30)"
            ]
          },
          "metadata": {},
          "execution_count": 8
        }
      ]
    },
    {
      "cell_type": "markdown",
      "source": [
        "pandas로 쓸 이유가 없으므로 numpy로(.values)"
      ],
      "metadata": {
        "id": "f9V5vDm7rs3-"
      }
    },
    {
      "cell_type": "code",
      "source": [
        "X = df.iloc[:,2:].values"
      ],
      "metadata": {
        "id": "44J8Mr5BqLCC"
      },
      "execution_count": 9,
      "outputs": []
    },
    {
      "cell_type": "code",
      "source": [
        "X.shape"
      ],
      "metadata": {
        "colab": {
          "base_uri": "https://localhost:8080/"
        },
        "id": "fDe7CYOVqMZ5",
        "outputId": "3cb95f9b-b280-4b95-e9fc-cb1476f3f8fd"
      },
      "execution_count": 10,
      "outputs": [
        {
          "output_type": "execute_result",
          "data": {
            "text/plain": [
              "(569, 30)"
            ]
          },
          "metadata": {},
          "execution_count": 10
        }
      ]
    },
    {
      "cell_type": "code",
      "source": [
        "y = df.iloc[:,1].values"
      ],
      "metadata": {
        "id": "EYzYmLJqqM-i"
      },
      "execution_count": 11,
      "outputs": []
    },
    {
      "cell_type": "code",
      "source": [
        "y.shape"
      ],
      "metadata": {
        "colab": {
          "base_uri": "https://localhost:8080/"
        },
        "id": "TG4H0HLlqZ1z",
        "outputId": "f7327f4a-f6d5-4249-ca59-bab3f54668f9"
      },
      "execution_count": 12,
      "outputs": [
        {
          "output_type": "execute_result",
          "data": {
            "text/plain": [
              "(569,)"
            ]
          },
          "metadata": {},
          "execution_count": 12
        }
      ]
    },
    {
      "cell_type": "code",
      "source": [
        "from sklearn.model_selection import train_test_split\n",
        "X_train, X_test, y_train, y_test = train_test_split(X, y, test_size =0.2,\n",
        "                                                    stratify =y, random_state=1)"
      ],
      "metadata": {
        "id": "WcA1ffrAqatH"
      },
      "execution_count": 13,
      "outputs": []
    },
    {
      "cell_type": "code",
      "source": [
        "from sklearn.preprocessing import LabelEncoder\n",
        "label_encoder = LabelEncoder()\n",
        "y_train = label_encoder.fit_transform(y_train)\n",
        "y_test = label_encoder.transform(y_test)"
      ],
      "metadata": {
        "id": "qNgzNRt0q7JL"
      },
      "execution_count": 14,
      "outputs": []
    },
    {
      "cell_type": "markdown",
      "source": [
        "클래스 분포 파악\n",
        "- pandas에서는 value_count()\n",
        "- numpy에서는 unique() , return_counts=True: 개수도 알려줌"
      ],
      "metadata": {
        "id": "IZhWvBPYsk_I"
      }
    },
    {
      "cell_type": "code",
      "source": [
        "unique_values, counts = np.unique(y_train, return_counts=True)\n",
        "print(unique_values)\n",
        "print(counts) # 문제될정도의 불균형은 아님"
      ],
      "metadata": {
        "colab": {
          "base_uri": "https://localhost:8080/"
        },
        "id": "RBrVrehmsiQY",
        "outputId": "7307e19f-46c1-4702-8a75-14fbf312b49d"
      },
      "execution_count": 15,
      "outputs": [
        {
          "output_type": "stream",
          "name": "stdout",
          "text": [
            "[0 1]\n",
            "[285 170]\n"
          ]
        }
      ]
    },
    {
      "cell_type": "markdown",
      "source": [
        "과제2에서 정확도는 준수하지만 정밀도와 재현율은 0에 가까웠음\n",
        "- 클래스 불균형의 문제\n",
        "> - 적은 클래스에 가중치를 준다\n",
        "> - 많은 클래스를 제거해서 균형을 맞춘다(?)"
      ],
      "metadata": {
        "id": "GRAR10p7tNYv"
      }
    },
    {
      "cell_type": "markdown",
      "source": [
        "정오분류표에서 측도를 구할때 가중치를 똑같이 뒀음\n",
        "- 음성을 양성으로 구분하는것과, 양성을 음성으로 구분하는것을 똑같이 여김(실제론 음성을 양성으로 구분하는게 더 중요함)"
      ],
      "metadata": {
        "id": "y5KVHNV7uCbv"
      }
    },
    {
      "cell_type": "markdown",
      "source": [
        "위 데이터는 특성이 매우 많음\n",
        "- x는 y와 연관이 높아야함\n",
        "- x끼리는 연관이 낮아야함\n",
        "\n",
        "특성이 매우 많을때\n",
        "- 좋은 특성은 남기고, 나머지는 뺌. (어렵고 복잡함)\n",
        "- 모든 특성을 다 가지고, 새로운 특성을 만들어냄 -> **특성추출**\n",
        "- PCA: 차원축소 : 특성추출의 대표적 알고리즘"
      ],
      "metadata": {
        "id": "RH0QvYLDvVn6"
      }
    },
    {
      "cell_type": "markdown",
      "source": [
        "차원이 커질수록 데이터간 거리가 멀어짐.. (희소해짐)\n",
        "-> 차원축소 필요"
      ],
      "metadata": {
        "id": "mD1Q39q1xQKK"
      }
    },
    {
      "cell_type": "markdown",
      "source": [
        "주성분 분석\n",
        "데이터를 가장 잘 설명하는 축을 뽑아냄 <- 첫번째 주성분\n",
        "\n",
        "\n",
        "두번째 주성분은 첫번째 주성분과 연관이 적어야함 = (상관계수 0 , 독립적(직각)).. 직각인걸 뽑아냄.\n",
        "![image.png](data:image/png;base64,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)"
      ],
      "metadata": {
        "id": "2Lbomq9AxkC-"
      }
    },
    {
      "cell_type": "markdown",
      "source": [
        "- n_components : 추출하고자 하는 주성분 개수\n",
        "- explained_variance_ratio : 주성분으로 설명되는 분산의 비율\n",
        "- PCA 사용시 표준화 필요"
      ],
      "metadata": {
        "id": "7kMdP3SqynAx"
      }
    },
    {
      "cell_type": "code",
      "source": [
        "# 특성 표준화\n",
        "from sklearn.preprocessing import StandardScaler\n",
        "sc = StandardScaler()\n",
        "sc.fit(X_train)\n",
        "X_train_std = sc.transform(X_train)\n",
        "X_test_std = sc.transform(X_test)"
      ],
      "metadata": {
        "id": "VjpiC-RAsIc9"
      },
      "execution_count": 16,
      "outputs": []
    },
    {
      "cell_type": "code",
      "source": [
        "# PCA 변환\n",
        "from sklearn.decomposition import PCA\n",
        "pca = PCA(n_components=2) # 주성분 2개 추출\n",
        "pca.fit(X_train_std)\n",
        "pca.components_ # 전치 투영 행렬, shape = (2,30)"
      ],
      "metadata": {
        "colab": {
          "base_uri": "https://localhost:8080/"
        },
        "id": "7kYMhydcsNCb",
        "outputId": "6bce71f3-53a1-42bf-eb6f-08fc946fc59a"
      },
      "execution_count": 17,
      "outputs": [
        {
          "output_type": "execute_result",
          "data": {
            "text/plain": [
              "array([[ 0.21679334,  0.10660312,  0.22557851,  0.21886594,  0.14066045,\n",
              "         0.23936605,  0.25444238,  0.25775276,  0.14120408,  0.07237829,\n",
              "         0.20600989,  0.01378187,  0.21367988,  0.20798454,  0.00307547,\n",
              "         0.17102664,  0.14768555,  0.18439201,  0.04163771,  0.10122214,\n",
              "         0.226975  ,  0.10755498,  0.23567844,  0.2237171 ,  0.12867934,\n",
              "         0.21426764,  0.2282569 ,  0.24993858,  0.12582219,  0.13879824],\n",
              "       [-0.23462306, -0.06849448, -0.2151757 , -0.23224295,  0.1848655 ,\n",
              "         0.14475358,  0.06573624, -0.03731318,  0.18138941,  0.3662257 ,\n",
              "        -0.09883883,  0.0763412 , -0.07861921, -0.15183423,  0.2049454 ,\n",
              "         0.2377156 ,  0.20931191,  0.1409671 ,  0.19936217,  0.2828757 ,\n",
              "        -0.22124091, -0.06136208, -0.20066026, -0.22093973,  0.15776067,\n",
              "         0.13415898,  0.09876787, -0.00967411,  0.13847033,  0.26770452]])"
            ]
          },
          "metadata": {},
          "execution_count": 17
        }
      ]
    },
    {
      "cell_type": "code",
      "source": [
        "pca.explained_variance_ratio_ # 처음 두 주성분으로 설명되는 분산의 비율: 총 63%\n",
        "# 첫번째 주성분: 45%, 두번째 18%"
      ],
      "metadata": {
        "colab": {
          "base_uri": "https://localhost:8080/"
        },
        "id": "d-MJOjxSzfk6",
        "outputId": "b3ee1e96-5154-4d7f-bde4-3156910112bf"
      },
      "execution_count": 18,
      "outputs": [
        {
          "output_type": "execute_result",
          "data": {
            "text/plain": [
              "array([0.45254431, 0.1855675 ])"
            ]
          },
          "metadata": {},
          "execution_count": 18
        }
      ]
    },
    {
      "cell_type": "code",
      "source": [
        "# PCA 변환\n",
        "X_train_std_pca = pca.transform(X_train_std)\n",
        "X_test_std_pca = pca.transform(X_test_std)"
      ],
      "metadata": {
        "id": "wTur-oVfzuCq"
      },
      "execution_count": 19,
      "outputs": []
    },
    {
      "cell_type": "code",
      "source": [
        "X_train_std_pca.shape # 2차원으로 변함. (30개중 합쳐서 2개로 만들었다.)"
      ],
      "metadata": {
        "colab": {
          "base_uri": "https://localhost:8080/"
        },
        "id": "0KgITKUX0DAp",
        "outputId": "77d0efb7-4129-411d-bdce-b99226469246"
      },
      "execution_count": 20,
      "outputs": [
        {
          "output_type": "execute_result",
          "data": {
            "text/plain": [
              "(455, 2)"
            ]
          },
          "metadata": {},
          "execution_count": 20
        }
      ]
    },
    {
      "cell_type": "code",
      "source": [
        "import matplotlib.pyplot as plt"
      ],
      "metadata": {
        "id": "mMoVbUEe0HdF"
      },
      "execution_count": 21,
      "outputs": []
    },
    {
      "cell_type": "code",
      "source": [],
      "metadata": {
        "id": "5Cx78Pn50bSF"
      },
      "execution_count": 21,
      "outputs": []
    },
    {
      "cell_type": "markdown",
      "source": [
        "- 30개를 가지고 로지스틱 -> 98%\n",
        "- 2개를 가지고 로지스틱 -> 95%\n",
        "- 30개를 가지고 만든게 더 높지만, 2개만을 가지고도 그에 준하는 성능을 보였다."
      ],
      "metadata": {
        "id": "J2P0XA_H1bG-"
      }
    },
    {
      "cell_type": "markdown",
      "source": [
        "## 파이프라인"
      ],
      "metadata": {
        "id": "3OIV3T5Z13I0"
      }
    },
    {
      "cell_type": "markdown",
      "source": [
        "여러 변환기 or 추정기들을 모아서 한번에 하도록 할 수 있음"
      ],
      "metadata": {
        "id": "YVZegNqI17zF"
      }
    },
    {
      "cell_type": "markdown",
      "source": [
        "ex) StandardScaler -> PCA -> LogisticRegression"
      ],
      "metadata": {
        "id": "UomISmh42OU7"
      }
    },
    {
      "cell_type": "code",
      "source": [
        "from sklearn.pipeline import make_pipeline"
      ],
      "metadata": {
        "id": "LeXCqwe42fcz"
      },
      "execution_count": 22,
      "outputs": []
    },
    {
      "cell_type": "markdown",
      "source": [
        "sklearn.compose.ColumnTransformer를 사용하면, 수치형/범주형 칼럼 이름 리스트에\n",
        "대한 전처리 파이프라인 구축 가능(이런것도있더라..)"
      ],
      "metadata": {
        "id": "R397mP7v2Y94"
      }
    },
    {
      "cell_type": "code",
      "source": [],
      "metadata": {
        "id": "K5lEmsxj0nry"
      },
      "execution_count": 22,
      "outputs": []
    },
    {
      "cell_type": "markdown",
      "source": [
        "# 1030"
      ],
      "metadata": {
        "id": "fmKZ_rk36g2o"
      }
    },
    {
      "cell_type": "markdown",
      "source": [
        "## 모델 튜닝과 교차검증"
      ],
      "metadata": {
        "id": "bfhY8L7A60yV"
      }
    },
    {
      "cell_type": "markdown",
      "source": [
        "### 모델 튜닝\n",
        "= 모델 선택\n",
        "\n",
        "- 모수를 찾는것 -> 모델 훈련\n",
        "- 적절한 초모수를 찾는것 -> 모델튜닝\n",
        "- 초모수의 의미를 알고 찾는것보다 이것저것.. 넣어보며\n",
        "- 모형튜닝에는 검증용(validation) 데이터가 따로 필요함\n"
      ],
      "metadata": {
        "id": "0h2Wx-4i62Ym"
      }
    },
    {
      "cell_type": "markdown",
      "source": [
        "#### 검증용 데이터를 만드는 방법\n",
        "1. holdout방법: 훈련데이터를 진짜훈련용/검증용으로 나눠서 사용\n",
        "- 훈련용 데이터가 적어지는 단점\n",
        "\n",
        "2. 교차검증(CV):\n",
        "- 대표적 방법 : k-겹 교차검증(k-fold CV):\n",
        "- k개의 그룹중 k-1개를 훈련용, 1개를 검증용..\n",
        "- 검증 데이터가 되는걸 돌려가며 사용 후 평균을 구함\n",
        "- 모델 선택 후에는 전체 훈련데이터로 다시 훈련\n",
        "![image.png](data:image/png;base64,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)"
      ],
      "metadata": {
        "id": "eI_2SnSB8Hsk"
      }
    },
    {
      "cell_type": "markdown",
      "source": [
        "cross_val_score 함수 이용 (validation)\n",
        "- cross_val_score(추정기, X, y, cv(k값), n_jobs)\n",
        "- n_jobs: 사용하고자 하는 cpu 수"
      ],
      "metadata": {
        "id": "kZZ2vFNo9NZI"
      }
    },
    {
      "cell_type": "code",
      "source": [
        "from sklearn.model_selection import cross_val_score\n",
        "from sklearn.linear_model import LogisticRegression\n",
        "logistic = LogisticRegression(random_state = 1)\n",
        "scores = cross_val_score(logistic, X_train_std, y_train, cv=10, n_jobs=-1)\n",
        "print(np.round(scores, 3))\n",
        "print(np.round(np.mean(scores), 3))"
      ],
      "metadata": {
        "colab": {
          "base_uri": "https://localhost:8080/"
        },
        "id": "339DZs7v6gJ4",
        "outputId": "9ff76a53-40d3-4218-8e52-708e9002f04c"
      },
      "execution_count": 23,
      "outputs": [
        {
          "output_type": "stream",
          "name": "stdout",
          "text": [
            "[1.    0.978 1.    0.978 0.935 0.956 0.978 1.    1.    1.   ]\n",
            "0.982\n"
          ]
        }
      ]
    },
    {
      "cell_type": "markdown",
      "source": [
        "각각의 점수를 반환. 평균은 따로 구해줘야함"
      ],
      "metadata": {
        "id": "2-mLrHpn-Zq0"
      }
    },
    {
      "cell_type": "markdown",
      "source": [
        "#### 규제"
      ],
      "metadata": {
        "id": "OdEJZqQR-uUj"
      }
    },
    {
      "cell_type": "markdown",
      "source": [
        "![image.png](data:image/png;base64,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)"
      ],
      "metadata": {
        "id": "DdoAIjBe_DY3"
      }
    },
    {
      "cell_type": "markdown",
      "source": [
        "특정 베타가 커지는 것을 누를 수 있음"
      ],
      "metadata": {
        "id": "n4L9rpCe-wcm"
      }
    },
    {
      "cell_type": "markdown",
      "source": [
        "- L2-norm: 계수를 줄여 과대적합 막음\n",
        "- L1-norm: 계수를 0으로 만들어 특정 특성 안씀\n",
        "- 이 규제에 관련된 초모수가 C"
      ],
      "metadata": {
        "id": "9AqfFtgR_Rwt"
      }
    },
    {
      "cell_type": "markdown",
      "source": [
        "C 를 조정해가며 적절한 C 찾기"
      ],
      "metadata": {
        "id": "H8w-N0zo_s20"
      }
    },
    {
      "cell_type": "code",
      "source": [
        "C_list = np.logspace(-2, 2, 5)\n",
        "C_list\n",
        "\n",
        "for c in C_list:\n",
        "  logistic = LogisticRegression(C = c, random_state=1)\n",
        "  scores = cross_val_score(logistic, X_train_std, y_train, cv=10)\n",
        "  print('C = %6.2f accuracy = %.3f' % (c, np.mean(scores)))"
      ],
      "metadata": {
        "colab": {
          "base_uri": "https://localhost:8080/"
        },
        "id": "6oi1sPsZ_wSg",
        "outputId": "e726b073-7d38-4d2b-a3a0-1a0a33381bba"
      },
      "execution_count": 28,
      "outputs": [
        {
          "output_type": "stream",
          "name": "stdout",
          "text": [
            "C =   0.01 accuracy = 0.943\n",
            "C =   0.10 accuracy = 0.976\n",
            "C =   1.00 accuracy = 0.982\n",
            "C =  10.00 accuracy = 0.974\n",
            "C = 100.00 accuracy = 0.956\n"
          ]
        }
      ]
    },
    {
      "cell_type": "markdown",
      "source": [
        "GridSearchCV: 위 작업을 편하게 하게 하기 위한 메소드"
      ],
      "metadata": {
        "id": "-Im0o7hnAHGC"
      }
    },
    {
      "cell_type": "markdown",
      "source": [
        "인자\n",
        "- estimator = 모델 이름 (위치인수라 estimator 안써됨)\n",
        "- param_grid = {'c' :[0.01,0.1,1,10,100]} key = 초모수의 이름\n",
        "- scoring = 성능평가 (정확도or 정밀도..)\n",
        "- refit = 베스트 모델에 대하여 전체 훈련셋에 fit\n",
        "\n",
        "cross_val_score보다 장점\n",
        "- 가장 좋은 초모수 알아서 찾아줌"
      ],
      "metadata": {
        "id": "H4tMqddJAWZw"
      }
    },
    {
      "cell_type": "code",
      "source": [
        "from sklearn.tree import DecisionTreeClassifier\n",
        "from sklearn.model_selection import GridSearchCV\n",
        "\n",
        "depth_grid = {'max_depth':range(1,7)}\n",
        "\n",
        "tree_gs = GridSearchCV(estimator = DecisionTreeClassifier(random_state=1),\n",
        "                       param_grid=depth_grid,\n",
        "                       scoring='accuracy', cv=10, n_jobs=-1)\n",
        "tree_gs.fit(X_train_std, y_train)\n",
        "print(tree_gs.best_score_) # 0.9583091787439614\n",
        "print(tree_gs.best_params_) # {'max_depth': 7}"
      ],
      "metadata": {
        "colab": {
          "base_uri": "https://localhost:8080/"
        },
        "id": "yBnah4umBR_E",
        "outputId": "4c8fce86-92f8-4e8c-9d50-339b4099c239"
      },
      "execution_count": 38,
      "outputs": [
        {
          "output_type": "stream",
          "name": "stdout",
          "text": [
            "0.956135265700483\n",
            "{'max_depth': 6}\n"
          ]
        }
      ]
    },
    {
      "cell_type": "markdown",
      "source": [
        "SVC 모형 튜닝"
      ],
      "metadata": {
        "id": "6_-2rge2Dsht"
      }
    },
    {
      "cell_type": "code",
      "source": [
        "from sklearn.svm import SVC"
      ],
      "metadata": {
        "id": "44o3Ab4ABSWL"
      },
      "execution_count": 44,
      "outputs": []
    },
    {
      "cell_type": "code",
      "source": [
        "p_list = [1e-3, 1e-2, 1e-1, 1e0, 1e1, 1e2, 1e3]\n",
        "p_list"
      ],
      "metadata": {
        "colab": {
          "base_uri": "https://localhost:8080/"
        },
        "id": "EFlfQbOFDwbn",
        "outputId": "54110c55-9e20-47e7-bc44-9cd88b313849"
      },
      "execution_count": 45,
      "outputs": [
        {
          "output_type": "execute_result",
          "data": {
            "text/plain": [
              "[0.001, 0.01, 0.1, 1.0, 10.0, 100.0, 1000.0]"
            ]
          },
          "metadata": {},
          "execution_count": 45
        }
      ]
    },
    {
      "cell_type": "markdown",
      "source": [
        "SVC 의 초모수 3종류\n",
        "1. kernel\n",
        "2. C\n",
        "3. gamma"
      ],
      "metadata": {
        "id": "7yDcIBFTEhYB"
      }
    },
    {
      "cell_type": "code",
      "source": [
        "# linear에서는 gamma가 없으므로 .. linear버전, rbf 버전 따로만들어야함 -> 딕셔너리 리스트\n",
        "grid = [{'C': p_list, 'kernel':['linear']},\n",
        "        {'C': p_list, 'kernel':['rbf'], 'gamma':p_list}]"
      ],
      "metadata": {
        "id": "cbP6O8DWD96U"
      },
      "execution_count": 54,
      "outputs": []
    },
    {
      "cell_type": "code",
      "source": [
        "svc_gs = GridSearchCV(estimator = SVC(random_state=1),\n",
        "                       param_grid=grid,\n",
        "                      scoring='accuracy',\n",
        "                      refit = True,\n",
        "                      cv=5,\n",
        "                      n_jobs=-1)\n",
        "svc_gs.fit(X_train_std, y_train)"
      ],
      "metadata": {
        "colab": {
          "base_uri": "https://localhost:8080/",
          "height": 134
        },
        "id": "KAmBRV6BFNZ9",
        "outputId": "72350c59-7004-409c-8b19-0903cf364f42"
      },
      "execution_count": 55,
      "outputs": [
        {
          "output_type": "execute_result",
          "data": {
            "text/plain": [
              "GridSearchCV(cv=5, estimator=SVC(random_state=1), n_jobs=-1,\n",
              "             param_grid=[{'C': [0.001, 0.01, 0.1, 1.0, 10.0, 100.0, 1000.0],\n",
              "                          'kernel': ['linear']},\n",
              "                         {'C': [0.001, 0.01, 0.1, 1.0, 10.0, 100.0, 1000.0],\n",
              "                          'gamma': [0.001, 0.01, 0.1, 1.0, 10.0, 100.0, 1000.0],\n",
              "                          'kernel': ['rbf']}],\n",
              "             scoring='accuracy')"
            ],
            "text/html": [
              "<style>#sk-container-id-1 {\n",
              "  /* Definition of color scheme common for light and dark mode */\n",
              "  --sklearn-color-text: black;\n",
              "  --sklearn-color-line: gray;\n",
              "  /* Definition of color scheme for unfitted estimators */\n",
              "  --sklearn-color-unfitted-level-0: #fff5e6;\n",
              "  --sklearn-color-unfitted-level-1: #f6e4d2;\n",
              "  --sklearn-color-unfitted-level-2: #ffe0b3;\n",
              "  --sklearn-color-unfitted-level-3: chocolate;\n",
              "  /* Definition of color scheme for fitted estimators */\n",
              "  --sklearn-color-fitted-level-0: #f0f8ff;\n",
              "  --sklearn-color-fitted-level-1: #d4ebff;\n",
              "  --sklearn-color-fitted-level-2: #b3dbfd;\n",
              "  --sklearn-color-fitted-level-3: cornflowerblue;\n",
              "\n",
              "  /* Specific color for light theme */\n",
              "  --sklearn-color-text-on-default-background: var(--sg-text-color, var(--theme-code-foreground, var(--jp-content-font-color1, black)));\n",
              "  --sklearn-color-background: var(--sg-background-color, var(--theme-background, var(--jp-layout-color0, white)));\n",
              "  --sklearn-color-border-box: var(--sg-text-color, var(--theme-code-foreground, var(--jp-content-font-color1, black)));\n",
              "  --sklearn-color-icon: #696969;\n",
              "\n",
              "  @media (prefers-color-scheme: dark) {\n",
              "    /* Redefinition of color scheme for dark theme */\n",
              "    --sklearn-color-text-on-default-background: var(--sg-text-color, var(--theme-code-foreground, var(--jp-content-font-color1, white)));\n",
              "    --sklearn-color-background: var(--sg-background-color, var(--theme-background, var(--jp-layout-color0, #111)));\n",
              "    --sklearn-color-border-box: var(--sg-text-color, var(--theme-code-foreground, var(--jp-content-font-color1, white)));\n",
              "    --sklearn-color-icon: #878787;\n",
              "  }\n",
              "}\n",
              "\n",
              "#sk-container-id-1 {\n",
              "  color: var(--sklearn-color-text);\n",
              "}\n",
              "\n",
              "#sk-container-id-1 pre {\n",
              "  padding: 0;\n",
              "}\n",
              "\n",
              "#sk-container-id-1 input.sk-hidden--visually {\n",
              "  border: 0;\n",
              "  clip: rect(1px 1px 1px 1px);\n",
              "  clip: rect(1px, 1px, 1px, 1px);\n",
              "  height: 1px;\n",
              "  margin: -1px;\n",
              "  overflow: hidden;\n",
              "  padding: 0;\n",
              "  position: absolute;\n",
              "  width: 1px;\n",
              "}\n",
              "\n",
              "#sk-container-id-1 div.sk-dashed-wrapped {\n",
              "  border: 1px dashed var(--sklearn-color-line);\n",
              "  margin: 0 0.4em 0.5em 0.4em;\n",
              "  box-sizing: border-box;\n",
              "  padding-bottom: 0.4em;\n",
              "  background-color: var(--sklearn-color-background);\n",
              "}\n",
              "\n",
              "#sk-container-id-1 div.sk-container {\n",
              "  /* jupyter's `normalize.less` sets `[hidden] { display: none; }`\n",
              "     but bootstrap.min.css set `[hidden] { display: none !important; }`\n",
              "     so we also need the `!important` here to be able to override the\n",
              "     default hidden behavior on the sphinx rendered scikit-learn.org.\n",
              "     See: https://github.com/scikit-learn/scikit-learn/issues/21755 */\n",
              "  display: inline-block !important;\n",
              "  position: relative;\n",
              "}\n",
              "\n",
              "#sk-container-id-1 div.sk-text-repr-fallback {\n",
              "  display: none;\n",
              "}\n",
              "\n",
              "div.sk-parallel-item,\n",
              "div.sk-serial,\n",
              "div.sk-item {\n",
              "  /* draw centered vertical line to link estimators */\n",
              "  background-image: linear-gradient(var(--sklearn-color-text-on-default-background), var(--sklearn-color-text-on-default-background));\n",
              "  background-size: 2px 100%;\n",
              "  background-repeat: no-repeat;\n",
              "  background-position: center center;\n",
              "}\n",
              "\n",
              "/* Parallel-specific style estimator block */\n",
              "\n",
              "#sk-container-id-1 div.sk-parallel-item::after {\n",
              "  content: \"\";\n",
              "  width: 100%;\n",
              "  border-bottom: 2px solid var(--sklearn-color-text-on-default-background);\n",
              "  flex-grow: 1;\n",
              "}\n",
              "\n",
              "#sk-container-id-1 div.sk-parallel {\n",
              "  display: flex;\n",
              "  align-items: stretch;\n",
              "  justify-content: center;\n",
              "  background-color: var(--sklearn-color-background);\n",
              "  position: relative;\n",
              "}\n",
              "\n",
              "#sk-container-id-1 div.sk-parallel-item {\n",
              "  display: flex;\n",
              "  flex-direction: column;\n",
              "}\n",
              "\n",
              "#sk-container-id-1 div.sk-parallel-item:first-child::after {\n",
              "  align-self: flex-end;\n",
              "  width: 50%;\n",
              "}\n",
              "\n",
              "#sk-container-id-1 div.sk-parallel-item:last-child::after {\n",
              "  align-self: flex-start;\n",
              "  width: 50%;\n",
              "}\n",
              "\n",
              "#sk-container-id-1 div.sk-parallel-item:only-child::after {\n",
              "  width: 0;\n",
              "}\n",
              "\n",
              "/* Serial-specific style estimator block */\n",
              "\n",
              "#sk-container-id-1 div.sk-serial {\n",
              "  display: flex;\n",
              "  flex-direction: column;\n",
              "  align-items: center;\n",
              "  background-color: var(--sklearn-color-background);\n",
              "  padding-right: 1em;\n",
              "  padding-left: 1em;\n",
              "}\n",
              "\n",
              "\n",
              "/* Toggleable style: style used for estimator/Pipeline/ColumnTransformer box that is\n",
              "clickable and can be expanded/collapsed.\n",
              "- Pipeline and ColumnTransformer use this feature and define the default style\n",
              "- Estimators will overwrite some part of the style using the `sk-estimator` class\n",
              "*/\n",
              "\n",
              "/* Pipeline and ColumnTransformer style (default) */\n",
              "\n",
              "#sk-container-id-1 div.sk-toggleable {\n",
              "  /* Default theme specific background. It is overwritten whether we have a\n",
              "  specific estimator or a Pipeline/ColumnTransformer */\n",
              "  background-color: var(--sklearn-color-background);\n",
              "}\n",
              "\n",
              "/* Toggleable label */\n",
              "#sk-container-id-1 label.sk-toggleable__label {\n",
              "  cursor: pointer;\n",
              "  display: block;\n",
              "  width: 100%;\n",
              "  margin-bottom: 0;\n",
              "  padding: 0.5em;\n",
              "  box-sizing: border-box;\n",
              "  text-align: center;\n",
              "}\n",
              "\n",
              "#sk-container-id-1 label.sk-toggleable__label-arrow:before {\n",
              "  /* Arrow on the left of the label */\n",
              "  content: \"▸\";\n",
              "  float: left;\n",
              "  margin-right: 0.25em;\n",
              "  color: var(--sklearn-color-icon);\n",
              "}\n",
              "\n",
              "#sk-container-id-1 label.sk-toggleable__label-arrow:hover:before {\n",
              "  color: var(--sklearn-color-text);\n",
              "}\n",
              "\n",
              "/* Toggleable content - dropdown */\n",
              "\n",
              "#sk-container-id-1 div.sk-toggleable__content {\n",
              "  max-height: 0;\n",
              "  max-width: 0;\n",
              "  overflow: hidden;\n",
              "  text-align: left;\n",
              "  /* unfitted */\n",
              "  background-color: var(--sklearn-color-unfitted-level-0);\n",
              "}\n",
              "\n",
              "#sk-container-id-1 div.sk-toggleable__content.fitted {\n",
              "  /* fitted */\n",
              "  background-color: var(--sklearn-color-fitted-level-0);\n",
              "}\n",
              "\n",
              "#sk-container-id-1 div.sk-toggleable__content pre {\n",
              "  margin: 0.2em;\n",
              "  border-radius: 0.25em;\n",
              "  color: var(--sklearn-color-text);\n",
              "  /* unfitted */\n",
              "  background-color: var(--sklearn-color-unfitted-level-0);\n",
              "}\n",
              "\n",
              "#sk-container-id-1 div.sk-toggleable__content.fitted pre {\n",
              "  /* unfitted */\n",
              "  background-color: var(--sklearn-color-fitted-level-0);\n",
              "}\n",
              "\n",
              "#sk-container-id-1 input.sk-toggleable__control:checked~div.sk-toggleable__content {\n",
              "  /* Expand drop-down */\n",
              "  max-height: 200px;\n",
              "  max-width: 100%;\n",
              "  overflow: auto;\n",
              "}\n",
              "\n",
              "#sk-container-id-1 input.sk-toggleable__control:checked~label.sk-toggleable__label-arrow:before {\n",
              "  content: \"▾\";\n",
              "}\n",
              "\n",
              "/* Pipeline/ColumnTransformer-specific style */\n",
              "\n",
              "#sk-container-id-1 div.sk-label input.sk-toggleable__control:checked~label.sk-toggleable__label {\n",
              "  color: var(--sklearn-color-text);\n",
              "  background-color: var(--sklearn-color-unfitted-level-2);\n",
              "}\n",
              "\n",
              "#sk-container-id-1 div.sk-label.fitted input.sk-toggleable__control:checked~label.sk-toggleable__label {\n",
              "  background-color: var(--sklearn-color-fitted-level-2);\n",
              "}\n",
              "\n",
              "/* Estimator-specific style */\n",
              "\n",
              "/* Colorize estimator box */\n",
              "#sk-container-id-1 div.sk-estimator input.sk-toggleable__control:checked~label.sk-toggleable__label {\n",
              "  /* unfitted */\n",
              "  background-color: var(--sklearn-color-unfitted-level-2);\n",
              "}\n",
              "\n",
              "#sk-container-id-1 div.sk-estimator.fitted input.sk-toggleable__control:checked~label.sk-toggleable__label {\n",
              "  /* fitted */\n",
              "  background-color: var(--sklearn-color-fitted-level-2);\n",
              "}\n",
              "\n",
              "#sk-container-id-1 div.sk-label label.sk-toggleable__label,\n",
              "#sk-container-id-1 div.sk-label label {\n",
              "  /* The background is the default theme color */\n",
              "  color: var(--sklearn-color-text-on-default-background);\n",
              "}\n",
              "\n",
              "/* On hover, darken the color of the background */\n",
              "#sk-container-id-1 div.sk-label:hover label.sk-toggleable__label {\n",
              "  color: var(--sklearn-color-text);\n",
              "  background-color: var(--sklearn-color-unfitted-level-2);\n",
              "}\n",
              "\n",
              "/* Label box, darken color on hover, fitted */\n",
              "#sk-container-id-1 div.sk-label.fitted:hover label.sk-toggleable__label.fitted {\n",
              "  color: var(--sklearn-color-text);\n",
              "  background-color: var(--sklearn-color-fitted-level-2);\n",
              "}\n",
              "\n",
              "/* Estimator label */\n",
              "\n",
              "#sk-container-id-1 div.sk-label label {\n",
              "  font-family: monospace;\n",
              "  font-weight: bold;\n",
              "  display: inline-block;\n",
              "  line-height: 1.2em;\n",
              "}\n",
              "\n",
              "#sk-container-id-1 div.sk-label-container {\n",
              "  text-align: center;\n",
              "}\n",
              "\n",
              "/* Estimator-specific */\n",
              "#sk-container-id-1 div.sk-estimator {\n",
              "  font-family: monospace;\n",
              "  border: 1px dotted var(--sklearn-color-border-box);\n",
              "  border-radius: 0.25em;\n",
              "  box-sizing: border-box;\n",
              "  margin-bottom: 0.5em;\n",
              "  /* unfitted */\n",
              "  background-color: var(--sklearn-color-unfitted-level-0);\n",
              "}\n",
              "\n",
              "#sk-container-id-1 div.sk-estimator.fitted {\n",
              "  /* fitted */\n",
              "  background-color: var(--sklearn-color-fitted-level-0);\n",
              "}\n",
              "\n",
              "/* on hover */\n",
              "#sk-container-id-1 div.sk-estimator:hover {\n",
              "  /* unfitted */\n",
              "  background-color: var(--sklearn-color-unfitted-level-2);\n",
              "}\n",
              "\n",
              "#sk-container-id-1 div.sk-estimator.fitted:hover {\n",
              "  /* fitted */\n",
              "  background-color: var(--sklearn-color-fitted-level-2);\n",
              "}\n",
              "\n",
              "/* Specification for estimator info (e.g. \"i\" and \"?\") */\n",
              "\n",
              "/* Common style for \"i\" and \"?\" */\n",
              "\n",
              ".sk-estimator-doc-link,\n",
              "a:link.sk-estimator-doc-link,\n",
              "a:visited.sk-estimator-doc-link {\n",
              "  float: right;\n",
              "  font-size: smaller;\n",
              "  line-height: 1em;\n",
              "  font-family: monospace;\n",
              "  background-color: var(--sklearn-color-background);\n",
              "  border-radius: 1em;\n",
              "  height: 1em;\n",
              "  width: 1em;\n",
              "  text-decoration: none !important;\n",
              "  margin-left: 1ex;\n",
              "  /* unfitted */\n",
              "  border: var(--sklearn-color-unfitted-level-1) 1pt solid;\n",
              "  color: var(--sklearn-color-unfitted-level-1);\n",
              "}\n",
              "\n",
              ".sk-estimator-doc-link.fitted,\n",
              "a:link.sk-estimator-doc-link.fitted,\n",
              "a:visited.sk-estimator-doc-link.fitted {\n",
              "  /* fitted */\n",
              "  border: var(--sklearn-color-fitted-level-1) 1pt solid;\n",
              "  color: var(--sklearn-color-fitted-level-1);\n",
              "}\n",
              "\n",
              "/* On hover */\n",
              "div.sk-estimator:hover .sk-estimator-doc-link:hover,\n",
              ".sk-estimator-doc-link:hover,\n",
              "div.sk-label-container:hover .sk-estimator-doc-link:hover,\n",
              ".sk-estimator-doc-link:hover {\n",
              "  /* unfitted */\n",
              "  background-color: var(--sklearn-color-unfitted-level-3);\n",
              "  color: var(--sklearn-color-background);\n",
              "  text-decoration: none;\n",
              "}\n",
              "\n",
              "div.sk-estimator.fitted:hover .sk-estimator-doc-link.fitted:hover,\n",
              ".sk-estimator-doc-link.fitted:hover,\n",
              "div.sk-label-container:hover .sk-estimator-doc-link.fitted:hover,\n",
              ".sk-estimator-doc-link.fitted:hover {\n",
              "  /* fitted */\n",
              "  background-color: var(--sklearn-color-fitted-level-3);\n",
              "  color: var(--sklearn-color-background);\n",
              "  text-decoration: none;\n",
              "}\n",
              "\n",
              "/* Span, style for the box shown on hovering the info icon */\n",
              ".sk-estimator-doc-link span {\n",
              "  display: none;\n",
              "  z-index: 9999;\n",
              "  position: relative;\n",
              "  font-weight: normal;\n",
              "  right: .2ex;\n",
              "  padding: .5ex;\n",
              "  margin: .5ex;\n",
              "  width: min-content;\n",
              "  min-width: 20ex;\n",
              "  max-width: 50ex;\n",
              "  color: var(--sklearn-color-text);\n",
              "  box-shadow: 2pt 2pt 4pt #999;\n",
              "  /* unfitted */\n",
              "  background: var(--sklearn-color-unfitted-level-0);\n",
              "  border: .5pt solid var(--sklearn-color-unfitted-level-3);\n",
              "}\n",
              "\n",
              ".sk-estimator-doc-link.fitted span {\n",
              "  /* fitted */\n",
              "  background: var(--sklearn-color-fitted-level-0);\n",
              "  border: var(--sklearn-color-fitted-level-3);\n",
              "}\n",
              "\n",
              ".sk-estimator-doc-link:hover span {\n",
              "  display: block;\n",
              "}\n",
              "\n",
              "/* \"?\"-specific style due to the `<a>` HTML tag */\n",
              "\n",
              "#sk-container-id-1 a.estimator_doc_link {\n",
              "  float: right;\n",
              "  font-size: 1rem;\n",
              "  line-height: 1em;\n",
              "  font-family: monospace;\n",
              "  background-color: var(--sklearn-color-background);\n",
              "  border-radius: 1rem;\n",
              "  height: 1rem;\n",
              "  width: 1rem;\n",
              "  text-decoration: none;\n",
              "  /* unfitted */\n",
              "  color: var(--sklearn-color-unfitted-level-1);\n",
              "  border: var(--sklearn-color-unfitted-level-1) 1pt solid;\n",
              "}\n",
              "\n",
              "#sk-container-id-1 a.estimator_doc_link.fitted {\n",
              "  /* fitted */\n",
              "  border: var(--sklearn-color-fitted-level-1) 1pt solid;\n",
              "  color: var(--sklearn-color-fitted-level-1);\n",
              "}\n",
              "\n",
              "/* On hover */\n",
              "#sk-container-id-1 a.estimator_doc_link:hover {\n",
              "  /* unfitted */\n",
              "  background-color: var(--sklearn-color-unfitted-level-3);\n",
              "  color: var(--sklearn-color-background);\n",
              "  text-decoration: none;\n",
              "}\n",
              "\n",
              "#sk-container-id-1 a.estimator_doc_link.fitted:hover {\n",
              "  /* fitted */\n",
              "  background-color: var(--sklearn-color-fitted-level-3);\n",
              "}\n",
              "</style><div id=\"sk-container-id-1\" class=\"sk-top-container\"><div class=\"sk-text-repr-fallback\"><pre>GridSearchCV(cv=5, estimator=SVC(random_state=1), n_jobs=-1,\n",
              "             param_grid=[{&#x27;C&#x27;: [0.001, 0.01, 0.1, 1.0, 10.0, 100.0, 1000.0],\n",
              "                          &#x27;kernel&#x27;: [&#x27;linear&#x27;]},\n",
              "                         {&#x27;C&#x27;: [0.001, 0.01, 0.1, 1.0, 10.0, 100.0, 1000.0],\n",
              "                          &#x27;gamma&#x27;: [0.001, 0.01, 0.1, 1.0, 10.0, 100.0, 1000.0],\n",
              "                          &#x27;kernel&#x27;: [&#x27;rbf&#x27;]}],\n",
              "             scoring=&#x27;accuracy&#x27;)</pre><b>In a Jupyter environment, please rerun this cell to show the HTML representation or trust the notebook. <br />On GitHub, the HTML representation is unable to render, please try loading this page with nbviewer.org.</b></div><div class=\"sk-container\" hidden><div class=\"sk-item sk-dashed-wrapped\"><div class=\"sk-label-container\"><div class=\"sk-label fitted sk-toggleable\"><input class=\"sk-toggleable__control sk-hidden--visually\" id=\"sk-estimator-id-1\" type=\"checkbox\" ><label for=\"sk-estimator-id-1\" class=\"sk-toggleable__label fitted sk-toggleable__label-arrow fitted\">&nbsp;&nbsp;GridSearchCV<a class=\"sk-estimator-doc-link fitted\" rel=\"noreferrer\" target=\"_blank\" href=\"https://scikit-learn.org/1.5/modules/generated/sklearn.model_selection.GridSearchCV.html\">?<span>Documentation for GridSearchCV</span></a><span class=\"sk-estimator-doc-link fitted\">i<span>Fitted</span></span></label><div class=\"sk-toggleable__content fitted\"><pre>GridSearchCV(cv=5, estimator=SVC(random_state=1), n_jobs=-1,\n",
              "             param_grid=[{&#x27;C&#x27;: [0.001, 0.01, 0.1, 1.0, 10.0, 100.0, 1000.0],\n",
              "                          &#x27;kernel&#x27;: [&#x27;linear&#x27;]},\n",
              "                         {&#x27;C&#x27;: [0.001, 0.01, 0.1, 1.0, 10.0, 100.0, 1000.0],\n",
              "                          &#x27;gamma&#x27;: [0.001, 0.01, 0.1, 1.0, 10.0, 100.0, 1000.0],\n",
              "                          &#x27;kernel&#x27;: [&#x27;rbf&#x27;]}],\n",
              "             scoring=&#x27;accuracy&#x27;)</pre></div> </div></div><div class=\"sk-parallel\"><div class=\"sk-parallel-item\"><div class=\"sk-item\"><div class=\"sk-label-container\"><div class=\"sk-label fitted sk-toggleable\"><input class=\"sk-toggleable__control sk-hidden--visually\" id=\"sk-estimator-id-2\" type=\"checkbox\" ><label for=\"sk-estimator-id-2\" class=\"sk-toggleable__label fitted sk-toggleable__label-arrow fitted\">best_estimator_: SVC</label><div class=\"sk-toggleable__content fitted\"><pre>SVC(kernel=&#x27;linear&#x27;, random_state=1)</pre></div> </div></div><div class=\"sk-serial\"><div class=\"sk-item\"><div class=\"sk-estimator fitted sk-toggleable\"><input class=\"sk-toggleable__control sk-hidden--visually\" id=\"sk-estimator-id-3\" type=\"checkbox\" ><label for=\"sk-estimator-id-3\" class=\"sk-toggleable__label fitted sk-toggleable__label-arrow fitted\">&nbsp;SVC<a class=\"sk-estimator-doc-link fitted\" rel=\"noreferrer\" target=\"_blank\" href=\"https://scikit-learn.org/1.5/modules/generated/sklearn.svm.SVC.html\">?<span>Documentation for SVC</span></a></label><div class=\"sk-toggleable__content fitted\"><pre>SVC(kernel=&#x27;linear&#x27;, random_state=1)</pre></div> </div></div></div></div></div></div></div></div></div>"
            ]
          },
          "metadata": {},
          "execution_count": 55
        }
      ]
    },
    {
      "cell_type": "markdown",
      "source": [
        "교안과의 다른점...\n",
        "- 파이프라인시 누구의 파라미터인지를 구분위해 svc__ 를 붙임"
      ],
      "metadata": {
        "id": "ymdKMdKmHCzc"
      }
    },
    {
      "cell_type": "code",
      "source": [
        "print(svc_gs.best_score_)\n",
        "print(svc_gs.best_params_)\n",
        "print(svc_gs.score(X_test_std, y_test))"
      ],
      "metadata": {
        "colab": {
          "base_uri": "https://localhost:8080/"
        },
        "id": "eu_iAIuhFq2D",
        "outputId": "42457fa2-63b9-4fd5-9968-9660afa264d0"
      },
      "execution_count": 56,
      "outputs": [
        {
          "output_type": "stream",
          "name": "stdout",
          "text": [
            "0.9802197802197803\n",
            "{'C': 1.0, 'kernel': 'linear'}\n",
            "0.9649122807017544\n"
          ]
        }
      ]
    },
    {
      "cell_type": "markdown",
      "source": [
        "GridSearch 단점\n",
        "- 모든 조합에 대해 계산하므로 시간 많이걸림\n",
        "- 그 대안으로 RandomizedSearchCV (모든 조합 x 몇개만)"
      ],
      "metadata": {
        "id": "_PzzybBXHwTX"
      }
    },
    {
      "cell_type": "code",
      "source": [
        "best_logistic = LogisticRegression(C = 1.0, random_state=1)\n",
        "best_logistic.fit(X_train_std, y_train)\n",
        "print(\"Logistic :\", best_logistic.score(X_test_std, y_test))\n",
        "best_tree = DecisionTreeClassifier(max_depth = 7, random_state=1)\n",
        "best_tree.fit(X_train_std, y_train)\n",
        "print(\"Tree :\", best_tree.score(X_test_std, y_test))\n",
        "best_svc = SVC(kernel = 'rbf', C = 100.0, gamma = 0.001, random_state=1)\n",
        "best_svc.fit(X_train_std, y_train)\n",
        "print(\"SVC :\", best_svc.score(X_test_std, y_test))"
      ],
      "metadata": {
        "colab": {
          "base_uri": "https://localhost:8080/"
        },
        "id": "tsu0_yTgIaHm",
        "outputId": "8fe668b5-d25e-42c6-eb57-db1c769ff881"
      },
      "execution_count": 58,
      "outputs": [
        {
          "output_type": "stream",
          "name": "stdout",
          "text": [
            "Logistic : 0.9824561403508771\n",
            "Tree : 0.9298245614035088\n",
            "SVC : 0.9736842105263158\n"
          ]
        }
      ]
    },
    {
      "cell_type": "markdown",
      "source": [
        "가장 단순한 모델이 좋은 이유..\n",
        "- 유방암 데이터가 좋은 양질의 데이터이기 때문에"
      ],
      "metadata": {
        "id": "oR6gkPUmIRHa"
      }
    },
    {
      "cell_type": "code",
      "source": [],
      "metadata": {
        "id": "TS4KPHJXHk0b"
      },
      "execution_count": null,
      "outputs": []
    }
  ]
}