{
  "nbformat": 4,
  "nbformat_minor": 0,
  "metadata": {
    "colab": {
      "provenance": [],
      "authorship_tag": "ABX9TyMCGSfhN2OnBP1RTAtJnyyW",
      "include_colab_link": true
    },
    "kernelspec": {
      "name": "python3",
      "display_name": "Python 3"
    },
    "language_info": {
      "name": "python"
    }
  },
  "cells": [
    {
      "cell_type": "markdown",
      "metadata": {
        "id": "view-in-github",
        "colab_type": "text"
      },
      "source": [
        "<a href=\"https://colab.research.google.com/github/jhj1819/Machine-learning/blob/main/MLP.ipynb\" target=\"_parent\"><img src=\"https://colab.research.google.com/assets/colab-badge.svg\" alt=\"Open In Colab\"/></a>"
      ]
    },
    {
      "cell_type": "code",
      "execution_count": null,
      "metadata": {
        "id": "VHP7b1Br3wsW"
      },
      "outputs": [],
      "source": [
        "import numpy as np\n",
        "import pandas as pd"
      ]
    },
    {
      "cell_type": "code",
      "source": [
        "import tensorflow as tf"
      ],
      "metadata": {
        "id": "juy35WuM9lHF"
      },
      "execution_count": null,
      "outputs": []
    },
    {
      "cell_type": "code",
      "source": [
        "fashion = tf.keras.datasets.fashion_mnist.load_data()"
      ],
      "metadata": {
        "colab": {
          "base_uri": "https://localhost:8080/"
        },
        "id": "z94q1RTV9n92",
        "outputId": "5237d30b-8766-4ee9-cfed-ecdb4f2a999b"
      },
      "execution_count": null,
      "outputs": [
        {
          "output_type": "stream",
          "name": "stdout",
          "text": [
            "Downloading data from https://storage.googleapis.com/tensorflow/tf-keras-datasets/train-labels-idx1-ubyte.gz\n",
            "\u001b[1m29515/29515\u001b[0m \u001b[32m━━━━━━━━━━━━━━━━━━━━\u001b[0m\u001b[37m\u001b[0m \u001b[1m0s\u001b[0m 0us/step\n",
            "Downloading data from https://storage.googleapis.com/tensorflow/tf-keras-datasets/train-images-idx3-ubyte.gz\n",
            "\u001b[1m26421880/26421880\u001b[0m \u001b[32m━━━━━━━━━━━━━━━━━━━━\u001b[0m\u001b[37m\u001b[0m \u001b[1m0s\u001b[0m 0us/step\n",
            "Downloading data from https://storage.googleapis.com/tensorflow/tf-keras-datasets/t10k-labels-idx1-ubyte.gz\n",
            "\u001b[1m5148/5148\u001b[0m \u001b[32m━━━━━━━━━━━━━━━━━━━━\u001b[0m\u001b[37m\u001b[0m \u001b[1m0s\u001b[0m 1us/step\n",
            "Downloading data from https://storage.googleapis.com/tensorflow/tf-keras-datasets/t10k-images-idx3-ubyte.gz\n",
            "\u001b[1m4422102/4422102\u001b[0m \u001b[32m━━━━━━━━━━━━━━━━━━━━\u001b[0m\u001b[37m\u001b[0m \u001b[1m0s\u001b[0m 0us/step\n"
          ]
        }
      ]
    },
    {
      "cell_type": "code",
      "source": [
        "fashion"
      ],
      "metadata": {
        "colab": {
          "base_uri": "https://localhost:8080/"
        },
        "id": "WiLJUxBT9ydR",
        "outputId": "4002992e-ef59-4629-b64c-342e4f9ac149"
      },
      "execution_count": null,
      "outputs": [
        {
          "output_type": "execute_result",
          "data": {
            "text/plain": [
              "((array([[[0, 0, 0, ..., 0, 0, 0],\n",
              "          [0, 0, 0, ..., 0, 0, 0],\n",
              "          [0, 0, 0, ..., 0, 0, 0],\n",
              "          ...,\n",
              "          [0, 0, 0, ..., 0, 0, 0],\n",
              "          [0, 0, 0, ..., 0, 0, 0],\n",
              "          [0, 0, 0, ..., 0, 0, 0]],\n",
              "  \n",
              "         [[0, 0, 0, ..., 0, 0, 0],\n",
              "          [0, 0, 0, ..., 0, 0, 0],\n",
              "          [0, 0, 0, ..., 0, 0, 0],\n",
              "          ...,\n",
              "          [0, 0, 0, ..., 0, 0, 0],\n",
              "          [0, 0, 0, ..., 0, 0, 0],\n",
              "          [0, 0, 0, ..., 0, 0, 0]],\n",
              "  \n",
              "         [[0, 0, 0, ..., 0, 0, 0],\n",
              "          [0, 0, 0, ..., 0, 0, 0],\n",
              "          [0, 0, 0, ..., 0, 0, 0],\n",
              "          ...,\n",
              "          [0, 0, 0, ..., 0, 0, 0],\n",
              "          [0, 0, 0, ..., 0, 0, 0],\n",
              "          [0, 0, 0, ..., 0, 0, 0]],\n",
              "  \n",
              "         ...,\n",
              "  \n",
              "         [[0, 0, 0, ..., 0, 0, 0],\n",
              "          [0, 0, 0, ..., 0, 0, 0],\n",
              "          [0, 0, 0, ..., 0, 0, 0],\n",
              "          ...,\n",
              "          [0, 0, 0, ..., 0, 0, 0],\n",
              "          [0, 0, 0, ..., 0, 0, 0],\n",
              "          [0, 0, 0, ..., 0, 0, 0]],\n",
              "  \n",
              "         [[0, 0, 0, ..., 0, 0, 0],\n",
              "          [0, 0, 0, ..., 0, 0, 0],\n",
              "          [0, 0, 0, ..., 0, 0, 0],\n",
              "          ...,\n",
              "          [0, 0, 0, ..., 0, 0, 0],\n",
              "          [0, 0, 0, ..., 0, 0, 0],\n",
              "          [0, 0, 0, ..., 0, 0, 0]],\n",
              "  \n",
              "         [[0, 0, 0, ..., 0, 0, 0],\n",
              "          [0, 0, 0, ..., 0, 0, 0],\n",
              "          [0, 0, 0, ..., 0, 0, 0],\n",
              "          ...,\n",
              "          [0, 0, 0, ..., 0, 0, 0],\n",
              "          [0, 0, 0, ..., 0, 0, 0],\n",
              "          [0, 0, 0, ..., 0, 0, 0]]], dtype=uint8),\n",
              "  array([9, 0, 0, ..., 3, 0, 5], dtype=uint8)),\n",
              " (array([[[0, 0, 0, ..., 0, 0, 0],\n",
              "          [0, 0, 0, ..., 0, 0, 0],\n",
              "          [0, 0, 0, ..., 0, 0, 0],\n",
              "          ...,\n",
              "          [0, 0, 0, ..., 0, 0, 0],\n",
              "          [0, 0, 0, ..., 0, 0, 0],\n",
              "          [0, 0, 0, ..., 0, 0, 0]],\n",
              "  \n",
              "         [[0, 0, 0, ..., 0, 0, 0],\n",
              "          [0, 0, 0, ..., 0, 0, 0],\n",
              "          [0, 0, 0, ..., 0, 0, 0],\n",
              "          ...,\n",
              "          [0, 0, 0, ..., 0, 0, 0],\n",
              "          [0, 0, 0, ..., 0, 0, 0],\n",
              "          [0, 0, 0, ..., 0, 0, 0]],\n",
              "  \n",
              "         [[0, 0, 0, ..., 0, 0, 0],\n",
              "          [0, 0, 0, ..., 0, 0, 0],\n",
              "          [0, 0, 0, ..., 0, 0, 0],\n",
              "          ...,\n",
              "          [0, 0, 0, ..., 0, 0, 0],\n",
              "          [0, 0, 0, ..., 0, 0, 0],\n",
              "          [0, 0, 0, ..., 0, 0, 0]],\n",
              "  \n",
              "         ...,\n",
              "  \n",
              "         [[0, 0, 0, ..., 0, 0, 0],\n",
              "          [0, 0, 0, ..., 0, 0, 0],\n",
              "          [0, 0, 0, ..., 0, 0, 0],\n",
              "          ...,\n",
              "          [0, 0, 0, ..., 0, 0, 0],\n",
              "          [0, 0, 0, ..., 0, 0, 0],\n",
              "          [0, 0, 0, ..., 0, 0, 0]],\n",
              "  \n",
              "         [[0, 0, 0, ..., 0, 0, 0],\n",
              "          [0, 0, 0, ..., 0, 0, 0],\n",
              "          [0, 0, 0, ..., 0, 0, 0],\n",
              "          ...,\n",
              "          [0, 0, 0, ..., 0, 0, 0],\n",
              "          [0, 0, 0, ..., 0, 0, 0],\n",
              "          [0, 0, 0, ..., 0, 0, 0]],\n",
              "  \n",
              "         [[0, 0, 0, ..., 0, 0, 0],\n",
              "          [0, 0, 0, ..., 0, 0, 0],\n",
              "          [0, 0, 0, ..., 0, 0, 0],\n",
              "          ...,\n",
              "          [0, 0, 0, ..., 0, 0, 0],\n",
              "          [0, 0, 0, ..., 0, 0, 0],\n",
              "          [0, 0, 0, ..., 0, 0, 0]]], dtype=uint8),\n",
              "  array([9, 2, 1, ..., 8, 1, 5], dtype=uint8)))"
            ]
          },
          "metadata": {},
          "execution_count": 6
        }
      ]
    },
    {
      "cell_type": "markdown",
      "source": [
        "![image.png](data:image/png;base64,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)\n",
        "\n",
        "답"
      ],
      "metadata": {
        "id": "vlcqV0lE-Gv8"
      }
    },
    {
      "cell_type": "markdown",
      "source": [
        "튜플이 두개가 있음\n",
        "\n",
        "이미 케라스에서 train 데이터와 test 데이터로 쪼개놈"
      ],
      "metadata": {
        "id": "FNIUsj44-NwQ"
      }
    },
    {
      "cell_type": "code",
      "source": [
        "((X_train_original, y_train_original), (X_test, y_test)) = fashion"
      ],
      "metadata": {
        "id": "aWkq7q2j92Og"
      },
      "execution_count": null,
      "outputs": []
    },
    {
      "cell_type": "markdown",
      "source": [
        "텐서플로우는 텐서(텐서플로우 데이터셋) or 넘파이 모두 잘 써짐"
      ],
      "metadata": {
        "id": "5W9IJbFu-6sc"
      }
    },
    {
      "cell_type": "code",
      "source": [
        "X_train_original.shape"
      ],
      "metadata": {
        "colab": {
          "base_uri": "https://localhost:8080/"
        },
        "id": "Z_AjER_f-fki",
        "outputId": "0983b0c7-2928-48ad-89f3-9a54e39edb09"
      },
      "execution_count": null,
      "outputs": [
        {
          "output_type": "execute_result",
          "data": {
            "text/plain": [
              "(60000, 28, 28)"
            ]
          },
          "metadata": {},
          "execution_count": 8
        }
      ]
    },
    {
      "cell_type": "markdown",
      "source": [
        "y_test를 확인해서, 데이터 분포가 고르게 되어있는지 확인하고,\n",
        "\n",
        "고르게 되어있음을 확인하고, 슬라이싱으로 자름"
      ],
      "metadata": {
        "id": "wGcigQiN_mBH"
      }
    },
    {
      "cell_type": "code",
      "source": [
        "y_test"
      ],
      "metadata": {
        "colab": {
          "base_uri": "https://localhost:8080/"
        },
        "id": "u76CcN43-wfm",
        "outputId": "f9600b47-6b41-49b7-c0a4-e9d7805ab1fd"
      },
      "execution_count": null,
      "outputs": [
        {
          "output_type": "execute_result",
          "data": {
            "text/plain": [
              "array([9, 2, 1, ..., 8, 1, 5], dtype=uint8)"
            ]
          },
          "metadata": {},
          "execution_count": 9
        }
      ]
    },
    {
      "cell_type": "markdown",
      "source": [
        "5000개 남기고 짤라서 훌련셋과 검증셋 나눔.\n",
        "\n",
        "인덱스가 하나만 있을땐, 행 기준임.."
      ],
      "metadata": {
        "id": "6vpmWOBIAGjy"
      }
    },
    {
      "cell_type": "code",
      "source": [
        "X_train, y_train = X_train_original[:-5000], y_train_original[:-5000]"
      ],
      "metadata": {
        "id": "kv2UxeC6-ysz"
      },
      "execution_count": null,
      "outputs": []
    },
    {
      "cell_type": "code",
      "source": [
        "X_valid, y_valid = X_train_original[-5000:],  y_train_original[-5000:]"
      ],
      "metadata": {
        "id": "xh42yEN1AGNq"
      },
      "execution_count": null,
      "outputs": []
    },
    {
      "cell_type": "markdown",
      "source": [
        "기존 0 ~ 255인 값의 스케일을 255로 나눠 0~1사이로 조정"
      ],
      "metadata": {
        "id": "RinZgNbQAekY"
      }
    },
    {
      "cell_type": "code",
      "source": [
        "X_train, X_valid, X_test = X_train / 255., X_valid / 255., X_test / 255."
      ],
      "metadata": {
        "id": "yvw63stiAZy-"
      },
      "execution_count": null,
      "outputs": []
    },
    {
      "cell_type": "code",
      "source": [
        "class_names = ['T-shirt/top', 'Trouser', 'Pullover', 'Dress', 'Coat',\n",
        " 'Sandal', 'Shirt', 'Sneaker', 'Bag', 'Ankle boot']"
      ],
      "metadata": {
        "id": "Pk3lN9yuEd8X"
      },
      "execution_count": null,
      "outputs": []
    },
    {
      "cell_type": "code",
      "source": [
        "X_train"
      ],
      "metadata": {
        "colab": {
          "base_uri": "https://localhost:8080/"
        },
        "id": "geT-FRCGEtwE",
        "outputId": "9e2aa965-c14f-4948-e750-11e98446413f"
      },
      "execution_count": null,
      "outputs": [
        {
          "output_type": "execute_result",
          "data": {
            "text/plain": [
              "array([[[0.        , 0.        , 0.        , ..., 0.        ,\n",
              "         0.        , 0.        ],\n",
              "        [0.        , 0.        , 0.        , ..., 0.        ,\n",
              "         0.        , 0.        ],\n",
              "        [0.        , 0.        , 0.        , ..., 0.        ,\n",
              "         0.        , 0.        ],\n",
              "        ...,\n",
              "        [0.        , 0.        , 0.        , ..., 0.        ,\n",
              "         0.        , 0.        ],\n",
              "        [0.        , 0.        , 0.        , ..., 0.        ,\n",
              "         0.        , 0.        ],\n",
              "        [0.        , 0.        , 0.        , ..., 0.        ,\n",
              "         0.        , 0.        ]],\n",
              "\n",
              "       [[0.        , 0.        , 0.        , ..., 0.        ,\n",
              "         0.        , 0.        ],\n",
              "        [0.        , 0.        , 0.        , ..., 0.        ,\n",
              "         0.        , 0.        ],\n",
              "        [0.        , 0.        , 0.        , ..., 0.        ,\n",
              "         0.        , 0.        ],\n",
              "        ...,\n",
              "        [0.        , 0.        , 0.        , ..., 0.        ,\n",
              "         0.        , 0.        ],\n",
              "        [0.        , 0.        , 0.        , ..., 0.        ,\n",
              "         0.        , 0.        ],\n",
              "        [0.        , 0.        , 0.        , ..., 0.        ,\n",
              "         0.        , 0.        ]],\n",
              "\n",
              "       [[0.        , 0.        , 0.        , ..., 0.        ,\n",
              "         0.        , 0.        ],\n",
              "        [0.        , 0.        , 0.        , ..., 0.        ,\n",
              "         0.        , 0.        ],\n",
              "        [0.        , 0.        , 0.        , ..., 0.        ,\n",
              "         0.        , 0.        ],\n",
              "        ...,\n",
              "        [0.        , 0.        , 0.        , ..., 0.        ,\n",
              "         0.        , 0.        ],\n",
              "        [0.        , 0.        , 0.        , ..., 0.        ,\n",
              "         0.        , 0.        ],\n",
              "        [0.        , 0.        , 0.        , ..., 0.        ,\n",
              "         0.        , 0.        ]],\n",
              "\n",
              "       ...,\n",
              "\n",
              "       [[0.        , 0.        , 0.        , ..., 0.        ,\n",
              "         0.        , 0.        ],\n",
              "        [0.        , 0.        , 0.        , ..., 0.        ,\n",
              "         0.        , 0.        ],\n",
              "        [0.        , 0.        , 0.        , ..., 0.        ,\n",
              "         0.        , 0.        ],\n",
              "        ...,\n",
              "        [0.        , 0.        , 0.        , ..., 0.        ,\n",
              "         0.        , 0.        ],\n",
              "        [0.        , 0.        , 0.        , ..., 0.        ,\n",
              "         0.        , 0.        ],\n",
              "        [0.        , 0.        , 0.        , ..., 0.        ,\n",
              "         0.        , 0.        ]],\n",
              "\n",
              "       [[0.        , 0.        , 0.        , ..., 0.        ,\n",
              "         0.        , 0.        ],\n",
              "        [0.00392157, 0.        , 0.        , ..., 0.        ,\n",
              "         0.        , 0.        ],\n",
              "        [0.        , 0.        , 0.        , ..., 0.        ,\n",
              "         0.        , 0.        ],\n",
              "        ...,\n",
              "        [0.        , 0.        , 0.        , ..., 0.        ,\n",
              "         0.        , 0.        ],\n",
              "        [0.        , 0.        , 0.        , ..., 0.        ,\n",
              "         0.        , 0.        ],\n",
              "        [0.        , 0.        , 0.        , ..., 0.        ,\n",
              "         0.        , 0.        ]],\n",
              "\n",
              "       [[0.        , 0.        , 0.        , ..., 0.        ,\n",
              "         0.        , 0.        ],\n",
              "        [0.        , 0.        , 0.        , ..., 0.        ,\n",
              "         0.        , 0.        ],\n",
              "        [0.        , 0.        , 0.        , ..., 0.        ,\n",
              "         0.        , 0.        ],\n",
              "        ...,\n",
              "        [0.        , 0.        , 0.        , ..., 0.        ,\n",
              "         0.        , 0.        ],\n",
              "        [0.        , 0.        , 0.        , ..., 0.        ,\n",
              "         0.        , 0.        ],\n",
              "        [0.        , 0.        , 0.        , ..., 0.        ,\n",
              "         0.        , 0.        ]]])"
            ]
          },
          "metadata": {},
          "execution_count": 13
        }
      ]
    },
    {
      "cell_type": "code",
      "source": [],
      "metadata": {
        "id": "RAUyBjzZG34G"
      },
      "execution_count": null,
      "outputs": []
    },
    {
      "cell_type": "code",
      "source": [
        "import matplotlib.pyplot as plt\n",
        "import tensorflow as tf"
      ],
      "metadata": {
        "id": "DXLXYPPvEgxq"
      },
      "execution_count": null,
      "outputs": []
    },
    {
      "cell_type": "code",
      "source": [
        "plt.imshow(X_train[0], cmap='binary')"
      ],
      "metadata": {
        "colab": {
          "base_uri": "https://localhost:8080/",
          "height": 447
        },
        "id": "51s7zcAZE77b",
        "outputId": "52fed977-f2b0-4725-fcbb-68b75e61ed24"
      },
      "execution_count": null,
      "outputs": [
        {
          "output_type": "execute_result",
          "data": {
            "text/plain": [
              "<matplotlib.image.AxesImage at 0x7ff13dd659c0>"
            ]
          },
          "metadata": {},
          "execution_count": 23
        },
        {
          "output_type": "display_data",
          "data": {
            "text/plain": [
              "<Figure size 640x480 with 1 Axes>"
            ],
            "image/png": "[encoded data removed]"
          },
          "metadata": {}
        }
      ]
    },
    {
      "cell_type": "code",
      "source": [],
      "metadata": {
        "id": "JRR2jxrkGdMM"
      },
      "execution_count": null,
      "outputs": []
    },
    {
      "cell_type": "code",
      "source": [
        "model = tf.keras.Sequential()\n",
        "model.add(tf.keras.layers.Input(shape=(28,28)))\n",
        "model.add(tf.keras.layers.Flatten())\n",
        "model.add(tf.keras.layers.Dense(100, activation='relu'))\n",
        "model.add(tf.keras.layers.Dense(50,activation='relu'))\n",
        "model.add(tf.keras.layers.Dense(10,activation='softmax'))"
      ],
      "metadata": {
        "id": "UJuIKxl2FAJP"
      },
      "execution_count": null,
      "outputs": []
    },
    {
      "cell_type": "code",
      "source": [
        "model.summary()"
      ],
      "metadata": {
        "colab": {
          "base_uri": "https://localhost:8080/",
          "height": 257
        },
        "id": "5YH_xBcuFmpV",
        "outputId": "66321544-bc32-47eb-ac62-9b34a98979f4"
      },
      "execution_count": null,
      "outputs": [
        {
          "output_type": "display_data",
          "data": {
            "text/plain": [
              "\u001b[1mModel: \"sequential_7\"\u001b[0m\n"
            ],
            "text/html": [
              "<pre style=\"white-space:pre;overflow-x:auto;line-height:normal;font-family:Menlo,'DejaVu Sans Mono',consolas,'Courier New',monospace\"><span style=\"font-weight: bold\">Model: \"sequential_7\"</span>\n",
              "</pre>\n"
            ]
          },
          "metadata": {}
        },
        {
          "output_type": "display_data",
          "data": {
            "text/plain": [
              "┏━━━━━━━━━━━━━━━━━━━━━━━━━━━━━━━━━━━━━━┳━━━━━━━━━━━━━━━━━━━━━━━━━━━━━┳━━━━━━━━━━━━━━━━━┓\n",
              "┃\u001b[1m \u001b[0m\u001b[1mLayer (type)                        \u001b[0m\u001b[1m \u001b[0m┃\u001b[1m \u001b[0m\u001b[1mOutput Shape               \u001b[0m\u001b[1m \u001b[0m┃\u001b[1m \u001b[0m\u001b[1m        Param #\u001b[0m\u001b[1m \u001b[0m┃\n",
              "┡━━━━━━━━━━━━━━━━━━━━━━━━━━━━━━━━━━━━━━╇━━━━━━━━━━━━━━━━━━━━━━━━━━━━━╇━━━━━━━━━━━━━━━━━┩\n",
              "│ flatten (\u001b[38;5;33mFlatten\u001b[0m)                    │ (\u001b[38;5;45mNone\u001b[0m, \u001b[38;5;34m784\u001b[0m)                 │               \u001b[38;5;34m0\u001b[0m │\n",
              "├──────────────────────────────────────┼─────────────────────────────┼─────────────────┤\n",
              "│ dense (\u001b[38;5;33mDense\u001b[0m)                        │ (\u001b[38;5;45mNone\u001b[0m, \u001b[38;5;34m100\u001b[0m)                 │          \u001b[38;5;34m78,500\u001b[0m │\n",
              "├──────────────────────────────────────┼─────────────────────────────┼─────────────────┤\n",
              "│ dense_1 (\u001b[38;5;33mDense\u001b[0m)                      │ (\u001b[38;5;45mNone\u001b[0m, \u001b[38;5;34m50\u001b[0m)                  │           \u001b[38;5;34m5,050\u001b[0m │\n",
              "├──────────────────────────────────────┼─────────────────────────────┼─────────────────┤\n",
              "│ dense_2 (\u001b[38;5;33mDense\u001b[0m)                      │ (\u001b[38;5;45mNone\u001b[0m, \u001b[38;5;34m10\u001b[0m)                  │             \u001b[38;5;34m510\u001b[0m │\n",
              "└──────────────────────────────────────┴─────────────────────────────┴─────────────────┘\n"
            ],
            "text/html": [
              "<pre style=\"white-space:pre;overflow-x:auto;line-height:normal;font-family:Menlo,'DejaVu Sans Mono',consolas,'Courier New',monospace\">┏━━━━━━━━━━━━━━━━━━━━━━━━━━━━━━━━━━━━━━┳━━━━━━━━━━━━━━━━━━━━━━━━━━━━━┳━━━━━━━━━━━━━━━━━┓\n",
              "┃<span style=\"font-weight: bold\"> Layer (type)                         </span>┃<span style=\"font-weight: bold\"> Output Shape                </span>┃<span style=\"font-weight: bold\">         Param # </span>┃\n",
              "┡━━━━━━━━━━━━━━━━━━━━━━━━━━━━━━━━━━━━━━╇━━━━━━━━━━━━━━━━━━━━━━━━━━━━━╇━━━━━━━━━━━━━━━━━┩\n",
              "│ flatten (<span style=\"color: #0087ff; text-decoration-color: #0087ff\">Flatten</span>)                    │ (<span style=\"color: #00d7ff; text-decoration-color: #00d7ff\">None</span>, <span style=\"color: #00af00; text-decoration-color: #00af00\">784</span>)                 │               <span style=\"color: #00af00; text-decoration-color: #00af00\">0</span> │\n",
              "├──────────────────────────────────────┼─────────────────────────────┼─────────────────┤\n",
              "│ dense (<span style=\"color: #0087ff; text-decoration-color: #0087ff\">Dense</span>)                        │ (<span style=\"color: #00d7ff; text-decoration-color: #00d7ff\">None</span>, <span style=\"color: #00af00; text-decoration-color: #00af00\">100</span>)                 │          <span style=\"color: #00af00; text-decoration-color: #00af00\">78,500</span> │\n",
              "├──────────────────────────────────────┼─────────────────────────────┼─────────────────┤\n",
              "│ dense_1 (<span style=\"color: #0087ff; text-decoration-color: #0087ff\">Dense</span>)                      │ (<span style=\"color: #00d7ff; text-decoration-color: #00d7ff\">None</span>, <span style=\"color: #00af00; text-decoration-color: #00af00\">50</span>)                  │           <span style=\"color: #00af00; text-decoration-color: #00af00\">5,050</span> │\n",
              "├──────────────────────────────────────┼─────────────────────────────┼─────────────────┤\n",
              "│ dense_2 (<span style=\"color: #0087ff; text-decoration-color: #0087ff\">Dense</span>)                      │ (<span style=\"color: #00d7ff; text-decoration-color: #00d7ff\">None</span>, <span style=\"color: #00af00; text-decoration-color: #00af00\">10</span>)                  │             <span style=\"color: #00af00; text-decoration-color: #00af00\">510</span> │\n",
              "└──────────────────────────────────────┴─────────────────────────────┴─────────────────┘\n",
              "</pre>\n"
            ]
          },
          "metadata": {}
        },
        {
          "output_type": "display_data",
          "data": {
            "text/plain": [
              "\u001b[1m Total params: \u001b[0m\u001b[38;5;34m84,060\u001b[0m (328.36 KB)\n"
            ],
            "text/html": [
              "<pre style=\"white-space:pre;overflow-x:auto;line-height:normal;font-family:Menlo,'DejaVu Sans Mono',consolas,'Courier New',monospace\"><span style=\"font-weight: bold\"> Total params: </span><span style=\"color: #00af00; text-decoration-color: #00af00\">84,060</span> (328.36 KB)\n",
              "</pre>\n"
            ]
          },
          "metadata": {}
        },
        {
          "output_type": "display_data",
          "data": {
            "text/plain": [
              "\u001b[1m Trainable params: \u001b[0m\u001b[38;5;34m84,060\u001b[0m (328.36 KB)\n"
            ],
            "text/html": [
              "<pre style=\"white-space:pre;overflow-x:auto;line-height:normal;font-family:Menlo,'DejaVu Sans Mono',consolas,'Courier New',monospace\"><span style=\"font-weight: bold\"> Trainable params: </span><span style=\"color: #00af00; text-decoration-color: #00af00\">84,060</span> (328.36 KB)\n",
              "</pre>\n"
            ]
          },
          "metadata": {}
        },
        {
          "output_type": "display_data",
          "data": {
            "text/plain": [
              "\u001b[1m Non-trainable params: \u001b[0m\u001b[38;5;34m0\u001b[0m (0.00 B)\n"
            ],
            "text/html": [
              "<pre style=\"white-space:pre;overflow-x:auto;line-height:normal;font-family:Menlo,'DejaVu Sans Mono',consolas,'Courier New',monospace\"><span style=\"font-weight: bold\"> Non-trainable params: </span><span style=\"color: #00af00; text-decoration-color: #00af00\">0</span> (0.00 B)\n",
              "</pre>\n"
            ]
          },
          "metadata": {}
        }
      ]
    },
    {
      "cell_type": "markdown",
      "source": [
        "784 * 100 = 78400인데 78500임 ... -> bias 때문"
      ],
      "metadata": {
        "id": "kYGfiW1zHMr4"
      }
    },
    {
      "cell_type": "code",
      "source": [
        "model.compile(loss='sparse_categorical_crossentropy',\n",
        "              optimizer = 'sgd',\n",
        "              metrics = ['accuracy']\n",
        "              )"
      ],
      "metadata": {
        "id": "QH9iavjMHGsg"
      },
      "execution_count": null,
      "outputs": []
    },
    {
      "cell_type": "markdown",
      "source": [
        "![image.png](data:image/png;base64,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)"
      ],
      "metadata": {
        "id": "9kejl2_uKDhb"
      }
    },
    {
      "cell_type": "markdown",
      "source": [
        "1719의 의미..\n",
        "default 미니배치의 크기가 32이므로.. : 55000/32 = 1718 ... 나머지: 24"
      ],
      "metadata": {
        "id": "UKKdpEu1KE0K"
      }
    },
    {
      "cell_type": "code",
      "source": [
        "history = model.fit(X_train, y_train, epochs = 20, validation_data=(X_valid, y_valid))"
      ],
      "metadata": {
        "colab": {
          "base_uri": "https://localhost:8080/"
        },
        "id": "jQ7s0Yy1JCWL",
        "outputId": "b1f1a292-9148-43a6-e174-b489e293fecd"
      },
      "execution_count": null,
      "outputs": [
        {
          "output_type": "stream",
          "name": "stdout",
          "text": [
            "Epoch 1/20\n",
            "\u001b[1m1719/1719\u001b[0m \u001b[32m━━━━━━━━━━━━━━━━━━━━\u001b[0m\u001b[37m\u001b[0m \u001b[1m6s\u001b[0m 3ms/step - accuracy: 0.8718 - loss: 0.3673 - val_accuracy: 0.8460 - val_loss: 0.4181\n",
            "Epoch 2/20\n",
            "\u001b[1m1719/1719\u001b[0m \u001b[32m━━━━━━━━━━━━━━━━━━━━\u001b[0m\u001b[37m\u001b[0m \u001b[1m9s\u001b[0m 2ms/step - accuracy: 0.8701 - loss: 0.3622 - val_accuracy: 0.8718 - val_loss: 0.3636\n",
            "Epoch 3/20\n",
            "\u001b[1m1719/1719\u001b[0m \u001b[32m━━━━━━━━━━━━━━━━━━━━\u001b[0m\u001b[37m\u001b[0m \u001b[1m7s\u001b[0m 3ms/step - accuracy: 0.8752 - loss: 0.3535 - val_accuracy: 0.8700 - val_loss: 0.3602\n",
            "Epoch 4/20\n",
            "\u001b[1m1719/1719\u001b[0m \u001b[32m━━━━━━━━━━━━━━━━━━━━\u001b[0m\u001b[37m\u001b[0m \u001b[1m4s\u001b[0m 2ms/step - accuracy: 0.8795 - loss: 0.3427 - val_accuracy: 0.8672 - val_loss: 0.3735\n",
            "Epoch 5/20\n",
            "\u001b[1m1719/1719\u001b[0m \u001b[32m━━━━━━━━━━━━━━━━━━━━\u001b[0m\u001b[37m\u001b[0m \u001b[1m5s\u001b[0m 3ms/step - accuracy: 0.8812 - loss: 0.3338 - val_accuracy: 0.8696 - val_loss: 0.3507\n",
            "Epoch 6/20\n",
            "\u001b[1m1719/1719\u001b[0m \u001b[32m━━━━━━━━━━━━━━━━━━━━\u001b[0m\u001b[37m\u001b[0m \u001b[1m6s\u001b[0m 3ms/step - accuracy: 0.8843 - loss: 0.3258 - val_accuracy: 0.8712 - val_loss: 0.3428\n",
            "Epoch 7/20\n",
            "\u001b[1m1719/1719\u001b[0m \u001b[32m━━━━━━━━━━━━━━━━━━━━\u001b[0m\u001b[37m\u001b[0m \u001b[1m10s\u001b[0m 3ms/step - accuracy: 0.8849 - loss: 0.3228 - val_accuracy: 0.8752 - val_loss: 0.3507\n",
            "Epoch 8/20\n",
            "\u001b[1m1719/1719\u001b[0m \u001b[32m━━━━━━━━━━━━━━━━━━━━\u001b[0m\u001b[37m\u001b[0m \u001b[1m9s\u001b[0m 3ms/step - accuracy: 0.8857 - loss: 0.3174 - val_accuracy: 0.8726 - val_loss: 0.3404\n",
            "Epoch 9/20\n",
            "\u001b[1m1719/1719\u001b[0m \u001b[32m━━━━━━━━━━━━━━━━━━━━\u001b[0m\u001b[37m\u001b[0m \u001b[1m6s\u001b[0m 4ms/step - accuracy: 0.8865 - loss: 0.3167 - val_accuracy: 0.8784 - val_loss: 0.3406\n",
            "Epoch 10/20\n",
            "\u001b[1m1719/1719\u001b[0m \u001b[32m━━━━━━━━━━━━━━━━━━━━\u001b[0m\u001b[37m\u001b[0m \u001b[1m5s\u001b[0m 3ms/step - accuracy: 0.8919 - loss: 0.3012 - val_accuracy: 0.8778 - val_loss: 0.3377\n",
            "Epoch 11/20\n",
            "\u001b[1m1719/1719\u001b[0m \u001b[32m━━━━━━━━━━━━━━━━━━━━\u001b[0m\u001b[37m\u001b[0m \u001b[1m5s\u001b[0m 3ms/step - accuracy: 0.8926 - loss: 0.3022 - val_accuracy: 0.8710 - val_loss: 0.3621\n",
            "Epoch 12/20\n",
            "\u001b[1m1719/1719\u001b[0m \u001b[32m━━━━━━━━━━━━━━━━━━━━\u001b[0m\u001b[37m\u001b[0m \u001b[1m5s\u001b[0m 3ms/step - accuracy: 0.8915 - loss: 0.3002 - val_accuracy: 0.8818 - val_loss: 0.3322\n",
            "Epoch 13/20\n",
            "\u001b[1m1719/1719\u001b[0m \u001b[32m━━━━━━━━━━━━━━━━━━━━\u001b[0m\u001b[37m\u001b[0m \u001b[1m4s\u001b[0m 2ms/step - accuracy: 0.8929 - loss: 0.2936 - val_accuracy: 0.8800 - val_loss: 0.3334\n",
            "Epoch 14/20\n",
            "\u001b[1m1719/1719\u001b[0m \u001b[32m━━━━━━━━━━━━━━━━━━━━\u001b[0m\u001b[37m\u001b[0m \u001b[1m7s\u001b[0m 3ms/step - accuracy: 0.8965 - loss: 0.2853 - val_accuracy: 0.8776 - val_loss: 0.3305\n",
            "Epoch 15/20\n",
            "\u001b[1m1719/1719\u001b[0m \u001b[32m━━━━━━━━━━━━━━━━━━━━\u001b[0m\u001b[37m\u001b[0m \u001b[1m4s\u001b[0m 2ms/step - accuracy: 0.8985 - loss: 0.2779 - val_accuracy: 0.8796 - val_loss: 0.3357\n",
            "Epoch 16/20\n",
            "\u001b[1m1719/1719\u001b[0m \u001b[32m━━━━━━━━━━━━━━━━━━━━\u001b[0m\u001b[37m\u001b[0m \u001b[1m4s\u001b[0m 2ms/step - accuracy: 0.8995 - loss: 0.2767 - val_accuracy: 0.8752 - val_loss: 0.3295\n",
            "Epoch 17/20\n",
            "\u001b[1m1719/1719\u001b[0m \u001b[32m━━━━━━━━━━━━━━━━━━━━\u001b[0m\u001b[37m\u001b[0m \u001b[1m7s\u001b[0m 3ms/step - accuracy: 0.8989 - loss: 0.2780 - val_accuracy: 0.8772 - val_loss: 0.3322\n",
            "Epoch 18/20\n",
            "\u001b[1m1719/1719\u001b[0m \u001b[32m━━━━━━━━━━━━━━━━━━━━\u001b[0m\u001b[37m\u001b[0m \u001b[1m4s\u001b[0m 2ms/step - accuracy: 0.9031 - loss: 0.2717 - val_accuracy: 0.8764 - val_loss: 0.3507\n",
            "Epoch 19/20\n",
            "\u001b[1m1719/1719\u001b[0m \u001b[32m━━━━━━━━━━━━━━━━━━━━\u001b[0m\u001b[37m\u001b[0m \u001b[1m4s\u001b[0m 2ms/step - accuracy: 0.9045 - loss: 0.2642 - val_accuracy: 0.8812 - val_loss: 0.3236\n",
            "Epoch 20/20\n",
            "\u001b[1m1719/1719\u001b[0m \u001b[32m━━━━━━━━━━━━━━━━━━━━\u001b[0m\u001b[37m\u001b[0m \u001b[1m6s\u001b[0m 3ms/step - accuracy: 0.9038 - loss: 0.2623 - val_accuracy: 0.8808 - val_loss: 0.3193\n"
          ]
        }
      ]
    },
    {
      "cell_type": "code",
      "source": [
        "import pandas as pd"
      ],
      "metadata": {
        "id": "5UMV0yJNJeZS"
      },
      "execution_count": null,
      "outputs": []
    },
    {
      "cell_type": "code",
      "source": [
        "history.history ## 딕셔너리"
      ],
      "metadata": {
        "colab": {
          "base_uri": "https://localhost:8080/"
        },
        "id": "a_eBVTTRMrQk",
        "outputId": "12457582-111c-417d-d83c-f9b1b1b5a903"
      },
      "execution_count": null,
      "outputs": [
        {
          "output_type": "execute_result",
          "data": {
            "text/plain": [
              "{'accuracy': [0.8698727488517761,\n",
              "  0.870090901851654,\n",
              "  0.8750545382499695,\n",
              "  0.8772000074386597,\n",
              "  0.8801817893981934,\n",
              "  0.881709098815918,\n",
              "  0.8836545348167419,\n",
              "  0.8861272931098938,\n",
              "  0.8881090879440308,\n",
              "  0.8896545171737671,\n",
              "  0.8917090892791748,\n",
              "  0.8928363919258118,\n",
              "  0.8936363458633423,\n",
              "  0.8951454758644104,\n",
              "  0.897490918636322,\n",
              "  0.8995636105537415,\n",
              "  0.8998363614082336,\n",
              "  0.9016545414924622,\n",
              "  0.9035999774932861,\n",
              "  0.9039090871810913],\n",
              " 'loss': [0.37071314454078674,\n",
              "  0.36185312271118164,\n",
              "  0.35236451029777527,\n",
              "  0.3450016975402832,\n",
              "  0.33679911494255066,\n",
              "  0.329913854598999,\n",
              "  0.32438230514526367,\n",
              "  0.31854814291000366,\n",
              "  0.31305354833602905,\n",
              "  0.3069152235984802,\n",
              "  0.3018532693386078,\n",
              "  0.296550452709198,\n",
              "  0.2920672297477722,\n",
              "  0.2872317433357239,\n",
              "  0.2824667692184448,\n",
              "  0.2787376642227173,\n",
              "  0.2755350172519684,\n",
              "  0.2705492377281189,\n",
              "  0.2669849693775177,\n",
              "  0.2632349729537964],\n",
              " 'val_accuracy': [0.8460000157356262,\n",
              "  0.8718000054359436,\n",
              "  0.8700000047683716,\n",
              "  0.8672000169754028,\n",
              "  0.8695999979972839,\n",
              "  0.8712000250816345,\n",
              "  0.8751999735832214,\n",
              "  0.8726000189781189,\n",
              "  0.8784000277519226,\n",
              "  0.8777999877929688,\n",
              "  0.8709999918937683,\n",
              "  0.8817999958992004,\n",
              "  0.8799999952316284,\n",
              "  0.8776000142097473,\n",
              "  0.8795999884605408,\n",
              "  0.8751999735832214,\n",
              "  0.8772000074386597,\n",
              "  0.8763999938964844,\n",
              "  0.8812000155448914,\n",
              "  0.8808000087738037],\n",
              " 'val_loss': [0.41806817054748535,\n",
              "  0.3635922968387604,\n",
              "  0.3601648211479187,\n",
              "  0.3734606206417084,\n",
              "  0.3506565988063812,\n",
              "  0.3427591919898987,\n",
              "  0.35069650411605835,\n",
              "  0.34036117792129517,\n",
              "  0.34057778120040894,\n",
              "  0.3377028703689575,\n",
              "  0.3621181845664978,\n",
              "  0.3322356641292572,\n",
              "  0.3334118127822876,\n",
              "  0.33047184348106384,\n",
              "  0.33565184473991394,\n",
              "  0.3295080363750458,\n",
              "  0.3322141766548157,\n",
              "  0.3506770730018616,\n",
              "  0.3236353099346161,\n",
              "  0.3192557692527771]}"
            ]
          },
          "metadata": {},
          "execution_count": 41
        }
      ]
    },
    {
      "cell_type": "code",
      "source": [
        "history_df = pd.DataFrame(history.history) ## dataFrame 형태로 변경"
      ],
      "metadata": {
        "id": "jVqcxfiQLANd"
      },
      "execution_count": null,
      "outputs": []
    },
    {
      "cell_type": "code",
      "source": [
        "history_df"
      ],
      "metadata": {
        "colab": {
          "base_uri": "https://localhost:8080/",
          "height": 676
        },
        "id": "A_E09StBMmkP",
        "outputId": "7bc18419-fc10-412e-acaf-32a4ad24d0f8"
      },
      "execution_count": null,
      "outputs": [
        {
          "output_type": "execute_result",
          "data": {
            "text/plain": [
              "    accuracy      loss  val_accuracy  val_loss\n",
              "0   0.869873  0.370713        0.8460  0.418068\n",
              "1   0.870091  0.361853        0.8718  0.363592\n",
              "2   0.875055  0.352365        0.8700  0.360165\n",
              "3   0.877200  0.345002        0.8672  0.373461\n",
              "4   0.880182  0.336799        0.8696  0.350657\n",
              "5   0.881709  0.329914        0.8712  0.342759\n",
              "6   0.883655  0.324382        0.8752  0.350697\n",
              "7   0.886127  0.318548        0.8726  0.340361\n",
              "8   0.888109  0.313054        0.8784  0.340578\n",
              "9   0.889655  0.306915        0.8778  0.337703\n",
              "10  0.891709  0.301853        0.8710  0.362118\n",
              "11  0.892836  0.296550        0.8818  0.332236\n",
              "12  0.893636  0.292067        0.8800  0.333412\n",
              "13  0.895145  0.287232        0.8776  0.330472\n",
              "14  0.897491  0.282467        0.8796  0.335652\n",
              "15  0.899564  0.278738        0.8752  0.329508\n",
              "16  0.899836  0.275535        0.8772  0.332214\n",
              "17  0.901655  0.270549        0.8764  0.350677\n",
              "18  0.903600  0.266985        0.8812  0.323635\n",
              "19  0.903909  0.263235        0.8808  0.319256"
            ],
            "text/html": [
              "\n",
              "  <div id=\"df-366862da-1f0a-4b5a-b087-37b0c9f102f6\" class=\"colab-df-container\">\n",
              "    <div>\n",
              "<style scoped>\n",
              "    .dataframe tbody tr th:only-of-type {\n",
              "        vertical-align: middle;\n",
              "    }\n",
              "\n",
              "    .dataframe tbody tr th {\n",
              "        vertical-align: top;\n",
              "    }\n",
              "\n",
              "    .dataframe thead th {\n",
              "        text-align: right;\n",
              "    }\n",
              "</style>\n",
              "<table border=\"1\" class=\"dataframe\">\n",
              "  <thead>\n",
              "    <tr style=\"text-align: right;\">\n",
              "      <th></th>\n",
              "      <th>accuracy</th>\n",
              "      <th>loss</th>\n",
              "      <th>val_accuracy</th>\n",
              "      <th>val_loss</th>\n",
              "    </tr>\n",
              "  </thead>\n",
              "  <tbody>\n",
              "    <tr>\n",
              "      <th>0</th>\n",
              "      <td>0.869873</td>\n",
              "      <td>0.370713</td>\n",
              "      <td>0.8460</td>\n",
              "      <td>0.418068</td>\n",
              "    </tr>\n",
              "    <tr>\n",
              "      <th>1</th>\n",
              "      <td>0.870091</td>\n",
              "      <td>0.361853</td>\n",
              "      <td>0.8718</td>\n",
              "      <td>0.363592</td>\n",
              "    </tr>\n",
              "    <tr>\n",
              "      <th>2</th>\n",
              "      <td>0.875055</td>\n",
              "      <td>0.352365</td>\n",
              "      <td>0.8700</td>\n",
              "      <td>0.360165</td>\n",
              "    </tr>\n",
              "    <tr>\n",
              "      <th>3</th>\n",
              "      <td>0.877200</td>\n",
              "      <td>0.345002</td>\n",
              "      <td>0.8672</td>\n",
              "      <td>0.373461</td>\n",
              "    </tr>\n",
              "    <tr>\n",
              "      <th>4</th>\n",
              "      <td>0.880182</td>\n",
              "      <td>0.336799</td>\n",
              "      <td>0.8696</td>\n",
              "      <td>0.350657</td>\n",
              "    </tr>\n",
              "    <tr>\n",
              "      <th>5</th>\n",
              "      <td>0.881709</td>\n",
              "      <td>0.329914</td>\n",
              "      <td>0.8712</td>\n",
              "      <td>0.342759</td>\n",
              "    </tr>\n",
              "    <tr>\n",
              "      <th>6</th>\n",
              "      <td>0.883655</td>\n",
              "      <td>0.324382</td>\n",
              "      <td>0.8752</td>\n",
              "      <td>0.350697</td>\n",
              "    </tr>\n",
              "    <tr>\n",
              "      <th>7</th>\n",
              "      <td>0.886127</td>\n",
              "      <td>0.318548</td>\n",
              "      <td>0.8726</td>\n",
              "      <td>0.340361</td>\n",
              "    </tr>\n",
              "    <tr>\n",
              "      <th>8</th>\n",
              "      <td>0.888109</td>\n",
              "      <td>0.313054</td>\n",
              "      <td>0.8784</td>\n",
              "      <td>0.340578</td>\n",
              "    </tr>\n",
              "    <tr>\n",
              "      <th>9</th>\n",
              "      <td>0.889655</td>\n",
              "      <td>0.306915</td>\n",
              "      <td>0.8778</td>\n",
              "      <td>0.337703</td>\n",
              "    </tr>\n",
              "    <tr>\n",
              "      <th>10</th>\n",
              "      <td>0.891709</td>\n",
              "      <td>0.301853</td>\n",
              "      <td>0.8710</td>\n",
              "      <td>0.362118</td>\n",
              "    </tr>\n",
              "    <tr>\n",
              "      <th>11</th>\n",
              "      <td>0.892836</td>\n",
              "      <td>0.296550</td>\n",
              "      <td>0.8818</td>\n",
              "      <td>0.332236</td>\n",
              "    </tr>\n",
              "    <tr>\n",
              "      <th>12</th>\n",
              "      <td>0.893636</td>\n",
              "      <td>0.292067</td>\n",
              "      <td>0.8800</td>\n",
              "      <td>0.333412</td>\n",
              "    </tr>\n",
              "    <tr>\n",
              "      <th>13</th>\n",
              "      <td>0.895145</td>\n",
              "      <td>0.287232</td>\n",
              "      <td>0.8776</td>\n",
              "      <td>0.330472</td>\n",
              "    </tr>\n",
              "    <tr>\n",
              "      <th>14</th>\n",
              "      <td>0.897491</td>\n",
              "      <td>0.282467</td>\n",
              "      <td>0.8796</td>\n",
              "      <td>0.335652</td>\n",
              "    </tr>\n",
              "    <tr>\n",
              "      <th>15</th>\n",
              "      <td>0.899564</td>\n",
              "      <td>0.278738</td>\n",
              "      <td>0.8752</td>\n",
              "      <td>0.329508</td>\n",
              "    </tr>\n",
              "    <tr>\n",
              "      <th>16</th>\n",
              "      <td>0.899836</td>\n",
              "      <td>0.275535</td>\n",
              "      <td>0.8772</td>\n",
              "      <td>0.332214</td>\n",
              "    </tr>\n",
              "    <tr>\n",
              "      <th>17</th>\n",
              "      <td>0.901655</td>\n",
              "      <td>0.270549</td>\n",
              "      <td>0.8764</td>\n",
              "      <td>0.350677</td>\n",
              "    </tr>\n",
              "    <tr>\n",
              "      <th>18</th>\n",
              "      <td>0.903600</td>\n",
              "      <td>0.266985</td>\n",
              "      <td>0.8812</td>\n",
              "      <td>0.323635</td>\n",
              "    </tr>\n",
              "    <tr>\n",
              "      <th>19</th>\n",
              "      <td>0.903909</td>\n",
              "      <td>0.263235</td>\n",
              "      <td>0.8808</td>\n",
              "      <td>0.319256</td>\n",
              "    </tr>\n",
              "  </tbody>\n",
              "</table>\n",
              "</div>\n",
              "    <div class=\"colab-df-buttons\">\n",
              "\n",
              "  <div class=\"colab-df-container\">\n",
              "    <button class=\"colab-df-convert\" onclick=\"convertToInteractive('df-366862da-1f0a-4b5a-b087-37b0c9f102f6')\"\n",
              "            title=\"Convert this dataframe to an interactive table.\"\n",
              "            style=\"display:none;\">\n",
              "\n",
              "  <svg xmlns=\"http://www.w3.org/2000/svg\" height=\"24px\" viewBox=\"0 -960 960 960\">\n",
              "    <path d=\"M120-120v-720h720v720H120Zm60-500h600v-160H180v160Zm220 220h160v-160H400v160Zm0 220h160v-160H400v160ZM180-400h160v-160H180v160Zm440 0h160v-160H620v160ZM180-180h160v-160H180v160Zm440 0h160v-160H620v160Z\"/>\n",
              "  </svg>\n",
              "    </button>\n",
              "\n",
              "  <style>\n",
              "    .colab-df-container {\n",
              "      display:flex;\n",
              "      gap: 12px;\n",
              "    }\n",
              "\n",
              "    .colab-df-convert {\n",
              "      background-color: #E8F0FE;\n",
              "      border: none;\n",
              "      border-radius: 50%;\n",
              "      cursor: pointer;\n",
              "      display: none;\n",
              "      fill: #1967D2;\n",
              "      height: 32px;\n",
              "      padding: 0 0 0 0;\n",
              "      width: 32px;\n",
              "    }\n",
              "\n",
              "    .colab-df-convert:hover {\n",
              "      background-color: #E2EBFA;\n",
              "      box-shadow: 0px 1px 2px rgba(60, 64, 67, 0.3), 0px 1px 3px 1px rgba(60, 64, 67, 0.15);\n",
              "      fill: #174EA6;\n",
              "    }\n",
              "\n",
              "    .colab-df-buttons div {\n",
              "      margin-bottom: 4px;\n",
              "    }\n",
              "\n",
              "    [theme=dark] .colab-df-convert {\n",
              "      background-color: #3B4455;\n",
              "      fill: #D2E3FC;\n",
              "    }\n",
              "\n",
              "    [theme=dark] .colab-df-convert:hover {\n",
              "      background-color: #434B5C;\n",
              "      box-shadow: 0px 1px 3px 1px rgba(0, 0, 0, 0.15);\n",
              "      filter: drop-shadow(0px 1px 2px rgba(0, 0, 0, 0.3));\n",
              "      fill: #FFFFFF;\n",
              "    }\n",
              "  </style>\n",
              "\n",
              "    <script>\n",
              "      const buttonEl =\n",
              "        document.querySelector('#df-366862da-1f0a-4b5a-b087-37b0c9f102f6 button.colab-df-convert');\n",
              "      buttonEl.style.display =\n",
              "        google.colab.kernel.accessAllowed ? 'block' : 'none';\n",
              "\n",
              "      async function convertToInteractive(key) {\n",
              "        const element = document.querySelector('#df-366862da-1f0a-4b5a-b087-37b0c9f102f6');\n",
              "        const dataTable =\n",
              "          await google.colab.kernel.invokeFunction('convertToInteractive',\n",
              "                                                    [key], {});\n",
              "        if (!dataTable) return;\n",
              "\n",
              "        const docLinkHtml = 'Like what you see? Visit the ' +\n",
              "          '<a target=\"_blank\" href=https://colab.research.google.com/notebooks/data_table.ipynb>data table notebook</a>'\n",
              "          + ' to learn more about interactive tables.';\n",
              "        element.innerHTML = '';\n",
              "        dataTable['output_type'] = 'display_data';\n",
              "        await google.colab.output.renderOutput(dataTable, element);\n",
              "        const docLink = document.createElement('div');\n",
              "        docLink.innerHTML = docLinkHtml;\n",
              "        element.appendChild(docLink);\n",
              "      }\n",
              "    </script>\n",
              "  </div>\n",
              "\n",
              "\n",
              "<div id=\"df-f3824daa-cfb1-4583-be7f-5c716a0810f8\">\n",
              "  <button class=\"colab-df-quickchart\" onclick=\"quickchart('df-f3824daa-cfb1-4583-be7f-5c716a0810f8')\"\n",
              "            title=\"Suggest charts\"\n",
              "            style=\"display:none;\">\n",
              "\n",
              "<svg xmlns=\"http://www.w3.org/2000/svg\" height=\"24px\"viewBox=\"0 0 24 24\"\n",
              "     width=\"24px\">\n",
              "    <g>\n",
              "        <path d=\"M19 3H5c-1.1 0-2 .9-2 2v14c0 1.1.9 2 2 2h14c1.1 0 2-.9 2-2V5c0-1.1-.9-2-2-2zM9 17H7v-7h2v7zm4 0h-2V7h2v10zm4 0h-2v-4h2v4z\"/>\n",
              "    </g>\n",
              "</svg>\n",
              "  </button>\n",
              "\n",
              "<style>\n",
              "  .colab-df-quickchart {\n",
              "      --bg-color: #E8F0FE;\n",
              "      --fill-color: #1967D2;\n",
              "      --hover-bg-color: #E2EBFA;\n",
              "      --hover-fill-color: #174EA6;\n",
              "      --disabled-fill-color: #AAA;\n",
              "      --disabled-bg-color: #DDD;\n",
              "  }\n",
              "\n",
              "  [theme=dark] .colab-df-quickchart {\n",
              "      --bg-color: #3B4455;\n",
              "      --fill-color: #D2E3FC;\n",
              "      --hover-bg-color: #434B5C;\n",
              "      --hover-fill-color: #FFFFFF;\n",
              "      --disabled-bg-color: #3B4455;\n",
              "      --disabled-fill-color: #666;\n",
              "  }\n",
              "\n",
              "  .colab-df-quickchart {\n",
              "    background-color: var(--bg-color);\n",
              "    border: none;\n",
              "    border-radius: 50%;\n",
              "    cursor: pointer;\n",
              "    display: none;\n",
              "    fill: var(--fill-color);\n",
              "    height: 32px;\n",
              "    padding: 0;\n",
              "    width: 32px;\n",
              "  }\n",
              "\n",
              "  .colab-df-quickchart:hover {\n",
              "    background-color: var(--hover-bg-color);\n",
              "    box-shadow: 0 1px 2px rgba(60, 64, 67, 0.3), 0 1px 3px 1px rgba(60, 64, 67, 0.15);\n",
              "    fill: var(--button-hover-fill-color);\n",
              "  }\n",
              "\n",
              "  .colab-df-quickchart-complete:disabled,\n",
              "  .colab-df-quickchart-complete:disabled:hover {\n",
              "    background-color: var(--disabled-bg-color);\n",
              "    fill: var(--disabled-fill-color);\n",
              "    box-shadow: none;\n",
              "  }\n",
              "\n",
              "  .colab-df-spinner {\n",
              "    border: 2px solid var(--fill-color);\n",
              "    border-color: transparent;\n",
              "    border-bottom-color: var(--fill-color);\n",
              "    animation:\n",
              "      spin 1s steps(1) infinite;\n",
              "  }\n",
              "\n",
              "  @keyframes spin {\n",
              "    0% {\n",
              "      border-color: transparent;\n",
              "      border-bottom-color: var(--fill-color);\n",
              "      border-left-color: var(--fill-color);\n",
              "    }\n",
              "    20% {\n",
              "      border-color: transparent;\n",
              "      border-left-color: var(--fill-color);\n",
              "      border-top-color: var(--fill-color);\n",
              "    }\n",
              "    30% {\n",
              "      border-color: transparent;\n",
              "      border-left-color: var(--fill-color);\n",
              "      border-top-color: var(--fill-color);\n",
              "      border-right-color: var(--fill-color);\n",
              "    }\n",
              "    40% {\n",
              "      border-color: transparent;\n",
              "      border-right-color: var(--fill-color);\n",
              "      border-top-color: var(--fill-color);\n",
              "    }\n",
              "    60% {\n",
              "      border-color: transparent;\n",
              "      border-right-color: var(--fill-color);\n",
              "    }\n",
              "    80% {\n",
              "      border-color: transparent;\n",
              "      border-right-color: var(--fill-color);\n",
              "      border-bottom-color: var(--fill-color);\n",
              "    }\n",
              "    90% {\n",
              "      border-color: transparent;\n",
              "      border-bottom-color: var(--fill-color);\n",
              "    }\n",
              "  }\n",
              "</style>\n",
              "\n",
              "  <script>\n",
              "    async function quickchart(key) {\n",
              "      const quickchartButtonEl =\n",
              "        document.querySelector('#' + key + ' button');\n",
              "      quickchartButtonEl.disabled = true;  // To prevent multiple clicks.\n",
              "      quickchartButtonEl.classList.add('colab-df-spinner');\n",
              "      try {\n",
              "        const charts = await google.colab.kernel.invokeFunction(\n",
              "            'suggestCharts', [key], {});\n",
              "      } catch (error) {\n",
              "        console.error('Error during call to suggestCharts:', error);\n",
              "      }\n",
              "      quickchartButtonEl.classList.remove('colab-df-spinner');\n",
              "      quickchartButtonEl.classList.add('colab-df-quickchart-complete');\n",
              "    }\n",
              "    (() => {\n",
              "      let quickchartButtonEl =\n",
              "        document.querySelector('#df-f3824daa-cfb1-4583-be7f-5c716a0810f8 button');\n",
              "      quickchartButtonEl.style.display =\n",
              "        google.colab.kernel.accessAllowed ? 'block' : 'none';\n",
              "    })();\n",
              "  </script>\n",
              "</div>\n",
              "\n",
              "  <div id=\"id_7e7d1f96-035b-4eb4-ba15-f35e1c57cbb6\">\n",
              "    <style>\n",
              "      .colab-df-generate {\n",
              "        background-color: #E8F0FE;\n",
              "        border: none;\n",
              "        border-radius: 50%;\n",
              "        cursor: pointer;\n",
              "        display: none;\n",
              "        fill: #1967D2;\n",
              "        height: 32px;\n",
              "        padding: 0 0 0 0;\n",
              "        width: 32px;\n",
              "      }\n",
              "\n",
              "      .colab-df-generate:hover {\n",
              "        background-color: #E2EBFA;\n",
              "        box-shadow: 0px 1px 2px rgba(60, 64, 67, 0.3), 0px 1px 3px 1px rgba(60, 64, 67, 0.15);\n",
              "        fill: #174EA6;\n",
              "      }\n",
              "\n",
              "      [theme=dark] .colab-df-generate {\n",
              "        background-color: #3B4455;\n",
              "        fill: #D2E3FC;\n",
              "      }\n",
              "\n",
              "      [theme=dark] .colab-df-generate:hover {\n",
              "        background-color: #434B5C;\n",
              "        box-shadow: 0px 1px 3px 1px rgba(0, 0, 0, 0.15);\n",
              "        filter: drop-shadow(0px 1px 2px rgba(0, 0, 0, 0.3));\n",
              "        fill: #FFFFFF;\n",
              "      }\n",
              "    </style>\n",
              "    <button class=\"colab-df-generate\" onclick=\"generateWithVariable('history_df')\"\n",
              "            title=\"Generate code using this dataframe.\"\n",
              "            style=\"display:none;\">\n",
              "\n",
              "  <svg xmlns=\"http://www.w3.org/2000/svg\" height=\"24px\"viewBox=\"0 0 24 24\"\n",
              "       width=\"24px\">\n",
              "    <path d=\"M7,19H8.4L18.45,9,17,7.55,7,17.6ZM5,21V16.75L18.45,3.32a2,2,0,0,1,2.83,0l1.4,1.43a1.91,1.91,0,0,1,.58,1.4,1.91,1.91,0,0,1-.58,1.4L9.25,21ZM18.45,9,17,7.55Zm-12,3A5.31,5.31,0,0,0,4.9,8.1,5.31,5.31,0,0,0,1,6.5,5.31,5.31,0,0,0,4.9,4.9,5.31,5.31,0,0,0,6.5,1,5.31,5.31,0,0,0,8.1,4.9,5.31,5.31,0,0,0,12,6.5,5.46,5.46,0,0,0,6.5,12Z\"/>\n",
              "  </svg>\n",
              "    </button>\n",
              "    <script>\n",
              "      (() => {\n",
              "      const buttonEl =\n",
              "        document.querySelector('#id_7e7d1f96-035b-4eb4-ba15-f35e1c57cbb6 button.colab-df-generate');\n",
              "      buttonEl.style.display =\n",
              "        google.colab.kernel.accessAllowed ? 'block' : 'none';\n",
              "\n",
              "      buttonEl.onclick = () => {\n",
              "        google.colab.notebook.generateWithVariable('history_df');\n",
              "      }\n",
              "      })();\n",
              "    </script>\n",
              "  </div>\n",
              "\n",
              "    </div>\n",
              "  </div>\n"
            ],
            "application/vnd.google.colaboratory.intrinsic+json": {
              "type": "dataframe",
              "variable_name": "history_df",
              "summary": "{\n  \"name\": \"history_df\",\n  \"rows\": 20,\n  \"fields\": [\n    {\n      \"column\": \"accuracy\",\n      \"properties\": {\n        \"dtype\": \"number\",\n        \"std\": 0.010770437076415194,\n        \"min\": 0.8698727488517761,\n        \"max\": 0.9039090871810913,\n        \"num_unique_values\": 20,\n        \"samples\": [\n          0.8698727488517761,\n          0.9016545414924622,\n          0.8995636105537415\n        ],\n        \"semantic_type\": \"\",\n        \"description\": \"\"\n      }\n    },\n    {\n      \"column\": \"loss\",\n      \"properties\": {\n        \"dtype\": \"number\",\n        \"std\": 0.032751427022526626,\n        \"min\": 0.2632349729537964,\n        \"max\": 0.37071314454078674,\n        \"num_unique_values\": 20,\n        \"samples\": [\n          0.37071314454078674,\n          0.2705492377281189,\n          0.2787376642227173\n        ],\n        \"semantic_type\": \"\",\n        \"description\": \"\"\n      }\n    },\n    {\n      \"column\": \"val_accuracy\",\n      \"properties\": {\n        \"dtype\": \"number\",\n        \"std\": 0.007884498225202893,\n        \"min\": 0.8460000157356262,\n        \"max\": 0.8817999958992004,\n        \"num_unique_values\": 19,\n        \"samples\": [\n          0.8460000157356262,\n          0.8712000250816345,\n          0.8817999958992004\n        ],\n        \"semantic_type\": \"\",\n        \"description\": \"\"\n      }\n    },\n    {\n      \"column\": \"val_loss\",\n      \"properties\": {\n        \"dtype\": \"number\",\n        \"std\": 0.02211808027704299,\n        \"min\": 0.3192557692527771,\n        \"max\": 0.41806817054748535,\n        \"num_unique_values\": 20,\n        \"samples\": [\n          0.41806817054748535,\n          0.3506770730018616,\n          0.3295080363750458\n        ],\n        \"semantic_type\": \"\",\n        \"description\": \"\"\n      }\n    }\n  ]\n}"
            }
          },
          "metadata": {},
          "execution_count": 39
        }
      ]
    },
    {
      "cell_type": "code",
      "source": [
        "history_df.plot(style=[\"r--\",\"r--.\",\"b-\",\"b-*\"])"
      ],
      "metadata": {
        "colab": {
          "base_uri": "https://localhost:8080/",
          "height": 447
        },
        "id": "1j0LDt_HMpPM",
        "outputId": "c5e4d219-a350-4d53-9caf-f92539ba68fb"
      },
      "execution_count": null,
      "outputs": [
        {
          "output_type": "execute_result",
          "data": {
            "text/plain": [
              "<Axes: >"
            ]
          },
          "metadata": {},
          "execution_count": 44
        },
        {
          "output_type": "display_data",
          "data": {
            "text/plain": [
              "<Figure size 640x480 with 1 Axes>"
            ],
            "image/png": "[encoded data removed]"
          },
          "metadata": {}
        }
      ]
    },
    {
      "cell_type": "code",
      "source": [
        "model.evaluate(X_test, y_test)"
      ],
      "metadata": {
        "colab": {
          "base_uri": "https://localhost:8080/"
        },
        "id": "qw24V4YyNjj8",
        "outputId": "e8962698-f82b-4c3c-8a69-bd504bddb6bd"
      },
      "execution_count": null,
      "outputs": [
        {
          "output_type": "stream",
          "name": "stdout",
          "text": [
            "\u001b[1m313/313\u001b[0m \u001b[32m━━━━━━━━━━━━━━━━━━━━\u001b[0m\u001b[37m\u001b[0m \u001b[1m0s\u001b[0m 1ms/step - accuracy: 0.8734 - loss: 0.3549\n"
          ]
        },
        {
          "output_type": "execute_result",
          "data": {
            "text/plain": [
              "[0.35177624225616455, 0.8747000098228455]"
            ]
          },
          "metadata": {},
          "execution_count": 46
        }
      ]
    },
    {
      "cell_type": "code",
      "source": [],
      "metadata": {
        "id": "2cCdo3EDOAAB"
      },
      "execution_count": null,
      "outputs": []
    }
  ]
}