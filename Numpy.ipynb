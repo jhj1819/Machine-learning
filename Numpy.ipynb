{
  "nbformat": 4,
  "nbformat_minor": 0,
  "metadata": {
    "colab": {
      "provenance": [],
      "authorship_tag": "ABX9TyOyWzzjjZSeKr/+ad9oO7so",
      "include_colab_link": true
    },
    "kernelspec": {
      "name": "python3",
      "display_name": "Python 3"
    },
    "language_info": {
      "name": "python"
    }
  },
  "cells": [
    {
      "cell_type": "markdown",
      "metadata": {
        "id": "view-in-github",
        "colab_type": "text"
      },
      "source": [
        "<a href=\"https://colab.research.google.com/github/jhj1819/test_colab/blob/main/Numpy.ipynb\" target=\"_parent\"><img src=\"https://colab.research.google.com/assets/colab-badge.svg\" alt=\"Open In Colab\"/></a>"
      ]
    },
    {
      "cell_type": "markdown",
      "source": [
        "# 넘파이(NumPy)"
      ],
      "metadata": {
        "id": "7c_ePc1ftcJb"
      }
    },
    {
      "cell_type": "code",
      "execution_count": 128,
      "metadata": {
        "id": "1oNA5zm9pDnB"
      },
      "outputs": [],
      "source": [
        "import numpy as np"
      ]
    },
    {
      "cell_type": "code",
      "source": [
        "a = np.array([2,4,6,8]) # 리스트를 이용해서 넘파이 배열 만듦."
      ],
      "metadata": {
        "id": "5lxOutFlt0dt"
      },
      "execution_count": 129,
      "outputs": []
    },
    {
      "cell_type": "code",
      "source": [
        "type(a) # 넘파이배열"
      ],
      "metadata": {
        "colab": {
          "base_uri": "https://localhost:8080/"
        },
        "id": "zBcCO9owt0gL",
        "outputId": "cba67d0a-5c50-4ac9-ea22-8e9a158b2b4d"
      },
      "execution_count": 130,
      "outputs": [
        {
          "output_type": "execute_result",
          "data": {
            "text/plain": [
              "numpy.ndarray"
            ]
          },
          "metadata": {},
          "execution_count": 130
        }
      ]
    },
    {
      "cell_type": "code",
      "source": [
        "a.dtype # 넘파이배열 안에 들어있는 데이터의 타입"
      ],
      "metadata": {
        "colab": {
          "base_uri": "https://localhost:8080/"
        },
        "id": "poda6Ogus5fx",
        "outputId": "7c8aca65-b061-489a-a10b-a5abbd6e1c00"
      },
      "execution_count": 131,
      "outputs": [
        {
          "output_type": "execute_result",
          "data": {
            "text/plain": [
              "dtype('int64')"
            ]
          },
          "metadata": {},
          "execution_count": 131
        }
      ]
    },
    {
      "cell_type": "code",
      "source": [
        "%whos # 현재 존재하는 모든 객체 목록 보여줌 (매직커멘드)"
      ],
      "metadata": {
        "colab": {
          "base_uri": "https://localhost:8080/"
        },
        "id": "NOKS1Q1_tOZl",
        "outputId": "b100ebaf-76ea-4ff3-ae50-5fd51bd65654"
      },
      "execution_count": 132,
      "outputs": [
        {
          "output_type": "stream",
          "name": "stdout",
          "text": [
            "No variables match your requested type.\n"
          ]
        }
      ]
    },
    {
      "cell_type": "code",
      "source": [
        "b = np.array([[1,2,3], [4,5,6.]])"
      ],
      "metadata": {
        "id": "JJM9rLChuB_g"
      },
      "execution_count": 133,
      "outputs": []
    },
    {
      "cell_type": "code",
      "source": [
        "b"
      ],
      "metadata": {
        "colab": {
          "base_uri": "https://localhost:8080/"
        },
        "id": "KVldhjXlTGt2",
        "outputId": "0cc0db11-bba0-46f6-f36e-9edceab6aa08"
      },
      "execution_count": 134,
      "outputs": [
        {
          "output_type": "execute_result",
          "data": {
            "text/plain": [
              "array([[1., 2., 3.],\n",
              "       [4., 5., 6.]])"
            ]
          },
          "metadata": {},
          "execution_count": 134
        }
      ]
    },
    {
      "cell_type": "code",
      "source": [
        "b.shape # 넘파이 배열의 형상 반환"
      ],
      "metadata": {
        "colab": {
          "base_uri": "https://localhost:8080/"
        },
        "id": "X0gcm11Huh1i",
        "outputId": "574a35a2-389f-4108-d5d2-f00f67fea504"
      },
      "execution_count": 135,
      "outputs": [
        {
          "output_type": "execute_result",
          "data": {
            "text/plain": [
              "(2, 3)"
            ]
          },
          "metadata": {},
          "execution_count": 135
        }
      ]
    },
    {
      "cell_type": "code",
      "source": [
        "a.shape # (4,)"
      ],
      "metadata": {
        "colab": {
          "base_uri": "https://localhost:8080/"
        },
        "id": "V2gjqGhduiiX",
        "outputId": "e67bd936-95c9-455d-eed9-41b706d30cc5"
      },
      "execution_count": 136,
      "outputs": [
        {
          "output_type": "execute_result",
          "data": {
            "text/plain": [
              "(4,)"
            ]
          },
          "metadata": {},
          "execution_count": 136
        }
      ]
    },
    {
      "cell_type": "code",
      "source": [
        "a.ndim # 차원 반환(shape으로도 차원을 알 수 있음)"
      ],
      "metadata": {
        "colab": {
          "base_uri": "https://localhost:8080/"
        },
        "id": "Fsv8nM_aT1oO",
        "outputId": "12d02045-0323-4b54-e0fb-557a2c36dba4"
      },
      "execution_count": 137,
      "outputs": [
        {
          "output_type": "execute_result",
          "data": {
            "text/plain": [
              "1"
            ]
          },
          "metadata": {},
          "execution_count": 137
        }
      ]
    },
    {
      "cell_type": "markdown",
      "source": [
        "### arange\n",
        "파이썬의 range를 넘파이에서는 arange\n",
        "range와 달리 numpy배열을 반환해줌."
      ],
      "metadata": {
        "id": "dQUS-lQIUdxC"
      }
    },
    {
      "cell_type": "code",
      "source": [
        "np.arange(1, 7, 2) # (start, end ,step)'"
      ],
      "metadata": {
        "colab": {
          "base_uri": "https://localhost:8080/"
        },
        "id": "IiO2uTlDUQpg",
        "outputId": "30cfd531-0761-4823-8880-62518c8bc638"
      },
      "execution_count": 138,
      "outputs": [
        {
          "output_type": "execute_result",
          "data": {
            "text/plain": [
              "array([1, 3, 5])"
            ]
          },
          "metadata": {},
          "execution_count": 138
        }
      ]
    },
    {
      "cell_type": "code",
      "source": [
        "np.arange(10)"
      ],
      "metadata": {
        "colab": {
          "base_uri": "https://localhost:8080/"
        },
        "id": "ynLKsNRaVFsM",
        "outputId": "c91e0b06-20b8-420d-f69b-e50d503b8faf"
      },
      "execution_count": 139,
      "outputs": [
        {
          "output_type": "execute_result",
          "data": {
            "text/plain": [
              "array([0, 1, 2, 3, 4, 5, 6, 7, 8, 9])"
            ]
          },
          "metadata": {},
          "execution_count": 139
        }
      ]
    },
    {
      "cell_type": "markdown",
      "source": [
        "모르는 거 있을때 ? 붙이고 실행하면 설명 나옴\n",
        "ex) `np.linspace?`"
      ],
      "metadata": {
        "id": "37pCrcHLWAyE"
      }
    },
    {
      "cell_type": "code",
      "source": [
        "np.linspace(0,1,5) # 4등분 하려면 5로 설정해야..."
      ],
      "metadata": {
        "colab": {
          "base_uri": "https://localhost:8080/"
        },
        "id": "2uvN9rtiVrPX",
        "outputId": "5aa2f6af-9c41-4785-a9ea-c1573b4bddc4"
      },
      "execution_count": 140,
      "outputs": [
        {
          "output_type": "execute_result",
          "data": {
            "text/plain": [
              "array([0.  , 0.25, 0.5 , 0.75, 1.  ])"
            ]
          },
          "metadata": {},
          "execution_count": 140
        }
      ]
    },
    {
      "cell_type": "markdown",
      "source": [
        "### 난수 발생기\n",
        "파이썬의 난수발생기는 성능이 좋지 않으므로 넘파이의 난수 발생기를 사용\n",
        "\n",
        "`np.random.random(5)`\n",
        "0<= <1 사이의 5개의 랜덤 숫자를 넘파이 배열로 반환 [0,1) (Uniform 분포)\n",
        "\n",
        "Uniform 분포: 모든 숫자가 뽑힐 확률이 같음."
      ],
      "metadata": {
        "id": "4vbBATP9WdQT"
      }
    },
    {
      "cell_type": "code",
      "source": [
        "np.random.seed(0)"
      ],
      "metadata": {
        "id": "BjFaBSvBXhtI"
      },
      "execution_count": 141,
      "outputs": []
    },
    {
      "cell_type": "code",
      "source": [
        "np.random.random(5)"
      ],
      "metadata": {
        "colab": {
          "base_uri": "https://localhost:8080/"
        },
        "id": "DrsP1_80WheQ",
        "outputId": "dfde2a3d-9948-44c4-c559-8b1b651a41b5"
      },
      "execution_count": 142,
      "outputs": [
        {
          "output_type": "execute_result",
          "data": {
            "text/plain": [
              "array([0.5488135 , 0.71518937, 0.60276338, 0.54488318, 0.4236548 ])"
            ]
          },
          "metadata": {},
          "execution_count": 142
        }
      ]
    },
    {
      "cell_type": "code",
      "source": [
        "np.random.randint(1,10,3) # 1~9까지중 3개"
      ],
      "metadata": {
        "colab": {
          "base_uri": "https://localhost:8080/"
        },
        "id": "htFYCYZ2YeYr",
        "outputId": "713b4867-4eb2-42f6-9a5e-b807ea259fd1"
      },
      "execution_count": 143,
      "outputs": [
        {
          "output_type": "execute_result",
          "data": {
            "text/plain": [
              "array([6, 3, 5])"
            ]
          },
          "metadata": {},
          "execution_count": 143
        }
      ]
    },
    {
      "cell_type": "markdown",
      "source": [
        "정규분포 난수 만들기(Normal)"
      ],
      "metadata": {
        "id": "Nhj2-hWEZhB6"
      }
    },
    {
      "cell_type": "code",
      "source": [
        "np.random.normal(size = 10) # 표준정규분포로부터 난수 10개를 생성해서 넘파이 배열에 저장."
      ],
      "metadata": {
        "colab": {
          "base_uri": "https://localhost:8080/"
        },
        "id": "g-MDho9zZ2n_",
        "outputId": "eed5b7f9-785b-4d7e-a127-9d84a66bdeb0"
      },
      "execution_count": 144,
      "outputs": [
        {
          "output_type": "execute_result",
          "data": {
            "text/plain": [
              "array([-0.29139398, -0.13309028, -0.1730696 , -1.76165167, -0.08767307,\n",
              "        1.36687937,  1.1253141 , -0.35899555,  1.2206081 , -1.33949555])"
            ]
          },
          "metadata": {},
          "execution_count": 144
        }
      ]
    },
    {
      "cell_type": "markdown",
      "source": [
        "인덱싱"
      ],
      "metadata": {
        "id": "fkUMHsKhct2c"
      }
    },
    {
      "cell_type": "code",
      "source": [
        "x = np.array(np.arange(10,60,10))"
      ],
      "metadata": {
        "id": "Onomc6EFbCoT"
      },
      "execution_count": 145,
      "outputs": []
    },
    {
      "cell_type": "code",
      "source": [
        "x[-1]"
      ],
      "metadata": {
        "colab": {
          "base_uri": "https://localhost:8080/"
        },
        "id": "OrWXXgD1bXUa",
        "outputId": "cb7594fa-88c5-4191-8693-606197e74d49"
      },
      "execution_count": 146,
      "outputs": [
        {
          "output_type": "execute_result",
          "data": {
            "text/plain": [
              "50"
            ]
          },
          "metadata": {},
          "execution_count": 146
        }
      ]
    },
    {
      "cell_type": "code",
      "source": [
        "y = np.arange(20)\n",
        "y"
      ],
      "metadata": {
        "colab": {
          "base_uri": "https://localhost:8080/"
        },
        "id": "7jiltPDKcAU7",
        "outputId": "bd43f6ed-acf4-4e83-ccb9-2e32939c772e"
      },
      "execution_count": 147,
      "outputs": [
        {
          "output_type": "execute_result",
          "data": {
            "text/plain": [
              "array([ 0,  1,  2,  3,  4,  5,  6,  7,  8,  9, 10, 11, 12, 13, 14, 15, 16,\n",
              "       17, 18, 19])"
            ]
          },
          "metadata": {},
          "execution_count": 147
        }
      ]
    },
    {
      "cell_type": "code",
      "source": [
        "y = y.reshape((4,5)) # 2차원 배열로 변경\n",
        "y"
      ],
      "metadata": {
        "colab": {
          "base_uri": "https://localhost:8080/"
        },
        "id": "roovcXwtcH2l",
        "outputId": "3af52c10-6edc-4e6d-83c1-75bf460579a2"
      },
      "execution_count": 148,
      "outputs": [
        {
          "output_type": "execute_result",
          "data": {
            "text/plain": [
              "array([[ 0,  1,  2,  3,  4],\n",
              "       [ 5,  6,  7,  8,  9],\n",
              "       [10, 11, 12, 13, 14],\n",
              "       [15, 16, 17, 18, 19]])"
            ]
          },
          "metadata": {},
          "execution_count": 148
        }
      ]
    },
    {
      "cell_type": "code",
      "source": [
        "y[1,2] # 파이썬에서 1행 2열 가져오기"
      ],
      "metadata": {
        "colab": {
          "base_uri": "https://localhost:8080/"
        },
        "id": "91EORraDcWJS",
        "outputId": "cf4522c6-d16d-4007-c8a7-87c61d95a733"
      },
      "execution_count": 149,
      "outputs": [
        {
          "output_type": "execute_result",
          "data": {
            "text/plain": [
              "7"
            ]
          },
          "metadata": {},
          "execution_count": 149
        }
      ]
    },
    {
      "cell_type": "markdown",
      "source": [
        "![image.png](data:image/png;base64,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)"
      ],
      "metadata": {
        "id": "T_HdqToxdXrs"
      }
    },
    {
      "cell_type": "code",
      "source": [
        "y[1:3, 1:4]"
      ],
      "metadata": {
        "colab": {
          "base_uri": "https://localhost:8080/"
        },
        "id": "iB76SJQKc-fD",
        "outputId": "9953f4c6-300f-4a73-bc34-1c311cde233a"
      },
      "execution_count": 150,
      "outputs": [
        {
          "output_type": "execute_result",
          "data": {
            "text/plain": [
              "array([[ 6,  7,  8],\n",
              "       [11, 12, 13]])"
            ]
          },
          "metadata": {},
          "execution_count": 150
        }
      ]
    },
    {
      "cell_type": "code",
      "source": [
        "y[1:3, 1:4:2] # 2칸씩 건너뛰면서 슬라이싱"
      ],
      "metadata": {
        "colab": {
          "base_uri": "https://localhost:8080/"
        },
        "id": "nwx4TIYtdqAP",
        "outputId": "50b327bc-f3e7-4285-90bf-1c0b1d5cabf7"
      },
      "execution_count": 151,
      "outputs": [
        {
          "output_type": "execute_result",
          "data": {
            "text/plain": [
              "array([[ 6,  8],\n",
              "       [11, 13]])"
            ]
          },
          "metadata": {},
          "execution_count": 151
        }
      ]
    },
    {
      "cell_type": "markdown",
      "source": [
        "열을 갖고오는 방법"
      ],
      "metadata": {
        "id": "dJcMNnBId0-X"
      }
    },
    {
      "cell_type": "code",
      "source": [
        "z = y[:,0] # 모든 행에서 0번째 열을 가져온다\n",
        "z"
      ],
      "metadata": {
        "id": "vg2qSdNmdvrY",
        "colab": {
          "base_uri": "https://localhost:8080/"
        },
        "outputId": "f22651c8-6048-4bc2-94e8-6880572d7ebf"
      },
      "execution_count": 152,
      "outputs": [
        {
          "output_type": "execute_result",
          "data": {
            "text/plain": [
              "array([ 0,  5, 10, 15])"
            ]
          },
          "metadata": {},
          "execution_count": 152
        }
      ]
    },
    {
      "cell_type": "markdown",
      "source": [
        "#### 샬로우카피와 딥카피"
      ],
      "metadata": {
        "id": "lncAerp4epwx"
      }
    },
    {
      "cell_type": "code",
      "source": [
        "z[0] = 9999"
      ],
      "metadata": {
        "id": "PFljVhjGeM-d"
      },
      "execution_count": 153,
      "outputs": []
    },
    {
      "cell_type": "code",
      "source": [
        "z"
      ],
      "metadata": {
        "colab": {
          "base_uri": "https://localhost:8080/"
        },
        "id": "v2vaf3fAebnG",
        "outputId": "63df0813-da3f-4727-e4a2-591e2200a7f9"
      },
      "execution_count": 154,
      "outputs": [
        {
          "output_type": "execute_result",
          "data": {
            "text/plain": [
              "array([9999,    5,   10,   15])"
            ]
          },
          "metadata": {},
          "execution_count": 154
        }
      ]
    },
    {
      "cell_type": "code",
      "source": [
        "y # z를 바꿨는데 y값도 바꼈음. (z가 사본이 아니라 원본이였다..) -> 샬로우 카피"
      ],
      "metadata": {
        "colab": {
          "base_uri": "https://localhost:8080/"
        },
        "id": "IEWAC3weeb0y",
        "outputId": "9e114752-8334-4187-b2ae-44cb21a5dfb7"
      },
      "execution_count": 155,
      "outputs": [
        {
          "output_type": "execute_result",
          "data": {
            "text/plain": [
              "array([[9999,    1,    2,    3,    4],\n",
              "       [   5,    6,    7,    8,    9],\n",
              "       [  10,   11,   12,   13,   14],\n",
              "       [  15,   16,   17,   18,   19]])"
            ]
          },
          "metadata": {},
          "execution_count": 155
        }
      ]
    },
    {
      "cell_type": "code",
      "source": [
        "z2 = y[0].copy() # 딥카피"
      ],
      "metadata": {
        "id": "RrG9rxmzecR7"
      },
      "execution_count": 156,
      "outputs": []
    },
    {
      "cell_type": "code",
      "source": [
        "z2[1] = -777\n",
        "z2"
      ],
      "metadata": {
        "colab": {
          "base_uri": "https://localhost:8080/"
        },
        "id": "GkwQd79he4rd",
        "outputId": "d1eb0860-d0a6-450d-c97f-95796eec1a2d"
      },
      "execution_count": 157,
      "outputs": [
        {
          "output_type": "execute_result",
          "data": {
            "text/plain": [
              "array([9999, -777,    2,    3,    4])"
            ]
          },
          "metadata": {},
          "execution_count": 157
        }
      ]
    },
    {
      "cell_type": "code",
      "source": [
        "y # 바뀌지 않음.."
      ],
      "metadata": {
        "colab": {
          "base_uri": "https://localhost:8080/"
        },
        "id": "DRK9CxUde9B0",
        "outputId": "ba592f5f-8e02-4710-f047-56894e0e8362"
      },
      "execution_count": 158,
      "outputs": [
        {
          "output_type": "execute_result",
          "data": {
            "text/plain": [
              "array([[9999,    1,    2,    3,    4],\n",
              "       [   5,    6,    7,    8,    9],\n",
              "       [  10,   11,   12,   13,   14],\n",
              "       [  15,   16,   17,   18,   19]])"
            ]
          },
          "metadata": {},
          "execution_count": 158
        }
      ]
    },
    {
      "cell_type": "markdown",
      "source": [
        "#### 2차원을 1차원으로 바꾸기\n",
        "1. ravel()\n",
        "2. flatten"
      ],
      "metadata": {
        "id": "DCl7J81qfJwv"
      }
    },
    {
      "cell_type": "code",
      "source": [
        "y.ravel()"
      ],
      "metadata": {
        "colab": {
          "base_uri": "https://localhost:8080/"
        },
        "id": "zjBnae3EfR1e",
        "outputId": "42a548d4-1965-4149-fc39-394405ef5d41"
      },
      "execution_count": 159,
      "outputs": [
        {
          "output_type": "execute_result",
          "data": {
            "text/plain": [
              "array([9999,    1,    2,    3,    4,    5,    6,    7,    8,    9,   10,\n",
              "         11,   12,   13,   14,   15,   16,   17,   18,   19])"
            ]
          },
          "metadata": {},
          "execution_count": 159
        }
      ]
    },
    {
      "cell_type": "code",
      "source": [
        "y.flatten()"
      ],
      "metadata": {
        "colab": {
          "base_uri": "https://localhost:8080/"
        },
        "id": "4fFvkaXWfTm0",
        "outputId": "a719714c-54f8-4b38-ff38-63fa697b7bd9"
      },
      "execution_count": 160,
      "outputs": [
        {
          "output_type": "execute_result",
          "data": {
            "text/plain": [
              "array([9999,    1,    2,    3,    4,    5,    6,    7,    8,    9,   10,\n",
              "         11,   12,   13,   14,   15,   16,   17,   18,   19])"
            ]
          },
          "metadata": {},
          "execution_count": 160
        }
      ]
    },
    {
      "cell_type": "markdown",
      "source": [
        "#### 1차원을 2차원으로\n",
        "1. np.newaxis 이용\n",
        "2. reshape 이용"
      ],
      "metadata": {
        "id": "YZFEKm3pfbt4"
      }
    },
    {
      "cell_type": "code",
      "source": [
        "z2"
      ],
      "metadata": {
        "colab": {
          "base_uri": "https://localhost:8080/"
        },
        "id": "SZYVG-JYfYqU",
        "outputId": "c28017e3-e24c-4138-c2e4-c3bd6ca6d8b2"
      },
      "execution_count": 161,
      "outputs": [
        {
          "output_type": "execute_result",
          "data": {
            "text/plain": [
              "array([9999, -777,    2,    3,    4])"
            ]
          },
          "metadata": {},
          "execution_count": 161
        }
      ]
    },
    {
      "cell_type": "code",
      "source": [
        "z3 = z2[:, np.newaxis]\n",
        "z3"
      ],
      "metadata": {
        "colab": {
          "base_uri": "https://localhost:8080/"
        },
        "id": "vmud5fRlfZC2",
        "outputId": "052d695b-7f0b-43e8-bc58-136f2f900911"
      },
      "execution_count": 162,
      "outputs": [
        {
          "output_type": "execute_result",
          "data": {
            "text/plain": [
              "array([[9999],\n",
              "       [-777],\n",
              "       [   2],\n",
              "       [   3],\n",
              "       [   4]])"
            ]
          },
          "metadata": {},
          "execution_count": 162
        }
      ]
    },
    {
      "cell_type": "code",
      "source": [
        "z3.shape"
      ],
      "metadata": {
        "colab": {
          "base_uri": "https://localhost:8080/"
        },
        "id": "RMyBd5-eft6-",
        "outputId": "b1b4bd70-ce67-4e0d-f1d0-c7374245aa2a"
      },
      "execution_count": 163,
      "outputs": [
        {
          "output_type": "execute_result",
          "data": {
            "text/plain": [
              "(5, 1)"
            ]
          },
          "metadata": {},
          "execution_count": 163
        }
      ]
    },
    {
      "cell_type": "code",
      "source": [
        "z4 = z2.reshape((5,1))\n",
        "z4"
      ],
      "metadata": {
        "colab": {
          "base_uri": "https://localhost:8080/"
        },
        "id": "CrcDaA2Jf1SJ",
        "outputId": "9c4140bf-5bcc-450c-c79d-cd1351133fe8"
      },
      "execution_count": 164,
      "outputs": [
        {
          "output_type": "execute_result",
          "data": {
            "text/plain": [
              "array([[9999],\n",
              "       [-777],\n",
              "       [   2],\n",
              "       [   3],\n",
              "       [   4]])"
            ]
          },
          "metadata": {},
          "execution_count": 164
        }
      ]
    },
    {
      "cell_type": "code",
      "source": [
        "z4.shape"
      ],
      "metadata": {
        "colab": {
          "base_uri": "https://localhost:8080/"
        },
        "id": "kcMD7sy8f4Yt",
        "outputId": "182e5c25-4d79-463e-e02d-4f7fd437d188"
      },
      "execution_count": 165,
      "outputs": [
        {
          "output_type": "execute_result",
          "data": {
            "text/plain": [
              "(5, 1)"
            ]
          },
          "metadata": {},
          "execution_count": 165
        }
      ]
    },
    {
      "cell_type": "code",
      "source": [
        "x = np.array([1,2,3])\n",
        "y = np.array([3,2,1])"
      ],
      "metadata": {
        "id": "Kmj1Tni0g00s"
      },
      "execution_count": 166,
      "outputs": []
    },
    {
      "cell_type": "code",
      "source": [
        "[1,2,3] + [3,2,1]  # 파이썬 리스트는 연결됨"
      ],
      "metadata": {
        "id": "nH1-q3Jwg9Py",
        "outputId": "93df5b64-8c99-47d2-db56-5819037489f2",
        "colab": {
          "base_uri": "https://localhost:8080/"
        }
      },
      "execution_count": 167,
      "outputs": [
        {
          "output_type": "execute_result",
          "data": {
            "text/plain": [
              "[1, 2, 3, 3, 2, 1]"
            ]
          },
          "metadata": {},
          "execution_count": 167
        }
      ]
    },
    {
      "cell_type": "code",
      "source": [
        "x + y # 넘파이 배열은 벡터화연산 .. (연산자 오버라이딩)"
      ],
      "metadata": {
        "colab": {
          "base_uri": "https://localhost:8080/"
        },
        "id": "xkvmTLFxgnD4",
        "outputId": "31399765-7e19-42d6-e5cc-2df6710298c7"
      },
      "execution_count": 168,
      "outputs": [
        {
          "output_type": "execute_result",
          "data": {
            "text/plain": [
              "array([4, 4, 4])"
            ]
          },
          "metadata": {},
          "execution_count": 168
        }
      ]
    },
    {
      "cell_type": "code",
      "source": [
        "np.concatenate([x, y])"
      ],
      "metadata": {
        "colab": {
          "base_uri": "https://localhost:8080/"
        },
        "id": "YeP2uoMmguoN",
        "outputId": "f30ff3c8-29be-429a-f507-0ec59064267b"
      },
      "execution_count": 169,
      "outputs": [
        {
          "output_type": "execute_result",
          "data": {
            "text/plain": [
              "array([1, 2, 3, 3, 2, 1])"
            ]
          },
          "metadata": {},
          "execution_count": 169
        }
      ]
    },
    {
      "cell_type": "markdown",
      "source": [
        "# NumPy 배열 연산\n",
        "## 벡터화 연산\n",
        "### 1. 유니버셜함수\n",
        "### 2. 브로드캐스팅\n",
        "크기가 다른 배열간, 차원이 더 큰 배열에 맞춰.. shape 확장\n",
        "* (3, 2)와 (1, 3)는 안됨."
      ],
      "metadata": {
        "id": "VxPOb8cboAhK"
      }
    },
    {
      "cell_type": "markdown",
      "source": [
        "### *유니버셜함수*\n",
        "인덱스끼리..."
      ],
      "metadata": {
        "id": "Bl9p6RrDOBEV"
      }
    },
    {
      "cell_type": "code",
      "source": [
        "a = np.array([1, 2, 3])\n",
        "b = np.array([5, 5, 5])\n",
        "a + b\n",
        "(a+1)**2"
      ],
      "metadata": {
        "colab": {
          "base_uri": "https://localhost:8080/"
        },
        "id": "Jj8JY1BwOHvH",
        "outputId": "48de73bf-dc66-420d-b98e-c5a39bcfbaba"
      },
      "execution_count": 191,
      "outputs": [
        {
          "output_type": "execute_result",
          "data": {
            "text/plain": [
              "array([ 4,  9, 16])"
            ]
          },
          "metadata": {},
          "execution_count": 191
        }
      ]
    },
    {
      "cell_type": "markdown",
      "source": [
        "### 브로드캐스팅"
      ],
      "metadata": {
        "id": "M3wBGdHqOEJF"
      }
    },
    {
      "cell_type": "code",
      "source": [
        "np.arange(3) + 5"
      ],
      "metadata": {
        "colab": {
          "base_uri": "https://localhost:8080/"
        },
        "id": "acOoWebxODsp",
        "outputId": "6298f75f-82db-4d8e-ca3d-c8399ed9cc8d"
      },
      "execution_count": 194,
      "outputs": [
        {
          "output_type": "execute_result",
          "data": {
            "text/plain": [
              "array([5, 6, 7])"
            ]
          },
          "metadata": {},
          "execution_count": 194
        }
      ]
    },
    {
      "cell_type": "code",
      "source": [
        "np.ones((3,3)) + np.arange(3)"
      ],
      "metadata": {
        "colab": {
          "base_uri": "https://localhost:8080/"
        },
        "id": "sS5KTU9vN-Ic",
        "outputId": "0fbc0f27-68d2-4e6f-f6fa-7d3ad686f339"
      },
      "execution_count": 195,
      "outputs": [
        {
          "output_type": "execute_result",
          "data": {
            "text/plain": [
              "array([[1., 2., 3.],\n",
              "       [1., 2., 3.],\n",
              "       [1., 2., 3.]])"
            ]
          },
          "metadata": {},
          "execution_count": 195
        }
      ]
    },
    {
      "cell_type": "code",
      "source": [
        "np.random.seed(911)"
      ],
      "metadata": {
        "id": "ixZQgz9zoc9v"
      },
      "execution_count": 170,
      "outputs": []
    },
    {
      "cell_type": "code",
      "source": [
        "a = np.random.random(10000) # 0~1사이 10000개"
      ],
      "metadata": {
        "id": "EdZurxB1sWXp"
      },
      "execution_count": 171,
      "outputs": []
    },
    {
      "cell_type": "markdown",
      "source": [
        "sum과 np.sum 모두 잘 계산되지만 np.sum이 더 빠름\n",
        "- 매직커멘드 %time을 이용해서 시간 계산\n",
        "- %timeit를 이용하면 여러번 반복해서 평균시간 계산 (더 정확함)\n",
        "- %$timeit를 이용하면 여러줄 명령에도 사용 가능(셀에 있는 명령어는 모두 적용)"
      ],
      "metadata": {
        "id": "cjwimL5motyI"
      }
    },
    {
      "cell_type": "code",
      "source": [
        "%timeit sum(a)"
      ],
      "metadata": {
        "colab": {
          "base_uri": "https://localhost:8080/"
        },
        "id": "bxFsirVkos6k",
        "outputId": "0a3bac26-cd58-40c8-a6a7-1c9a5fe764e3"
      },
      "execution_count": 127,
      "outputs": [
        {
          "output_type": "stream",
          "name": "stdout",
          "text": [
            "1.2 ms ± 346 µs per loop (mean ± std. dev. of 7 runs, 1000 loops each)\n"
          ]
        }
      ]
    },
    {
      "cell_type": "code",
      "source": [
        "%timeit np.sum(a)"
      ],
      "metadata": {
        "colab": {
          "base_uri": "https://localhost:8080/"
        },
        "id": "cem7akISsk3x",
        "outputId": "2d094b5c-1254-435a-9e9c-679fad6636f9"
      },
      "execution_count": 172,
      "outputs": [
        {
          "output_type": "stream",
          "name": "stdout",
          "text": [
            "9.71 µs ± 2.52 µs per loop (mean ± std. dev. of 7 runs, 100000 loops each)\n"
          ]
        }
      ]
    },
    {
      "cell_type": "code",
      "source": [
        "%%timeit\n",
        "a = np.random.random(10000)\n",
        "sum = 0\n",
        "for x in a:\n",
        "  sum+= x"
      ],
      "metadata": {
        "colab": {
          "base_uri": "https://localhost:8080/"
        },
        "id": "HO_l13qPsl7g",
        "outputId": "009d2cc0-ec2c-4576-f7d0-6bf713ad6d5f"
      },
      "execution_count": 173,
      "outputs": [
        {
          "output_type": "stream",
          "name": "stdout",
          "text": [
            "1.87 ms ± 605 µs per loop (mean ± std. dev. of 7 runs, 1000 loops each)\n"
          ]
        }
      ]
    },
    {
      "cell_type": "code",
      "source": [
        "sum(np.array([1, 2, 3, 4]))"
      ],
      "metadata": {
        "colab": {
          "base_uri": "https://localhost:8080/"
        },
        "id": "QDaaaxVFvITR",
        "outputId": "fa9bed05-faf6-4669-d02a-c442b35889ee"
      },
      "execution_count": 174,
      "outputs": [
        {
          "output_type": "execute_result",
          "data": {
            "text/plain": [
              "10"
            ]
          },
          "metadata": {},
          "execution_count": 174
        }
      ]
    },
    {
      "cell_type": "markdown",
      "source": [
        "## 변수 sum\n",
        "함수 sum 사용시 변수 sum를 호출하는 오류\n",
        "\n",
        "\n"
      ],
      "metadata": {
        "id": "rkNB7xUuwX0T"
      }
    },
    {
      "cell_type": "code",
      "source": [
        "sum = 0"
      ],
      "metadata": {
        "id": "yqdEzF1dw2H7"
      },
      "execution_count": 175,
      "outputs": []
    },
    {
      "cell_type": "code",
      "source": [
        "%who"
      ],
      "metadata": {
        "colab": {
          "base_uri": "https://localhost:8080/"
        },
        "id": "9YV8fUOuw3oT",
        "outputId": "68c858bb-d1ff-4d26-fd35-4f40a28b6a3a"
      },
      "execution_count": 176,
      "outputs": [
        {
          "output_type": "stream",
          "name": "stdout",
          "text": [
            "a\t b\t np\t sum\t x\t y\t z\t z2\t z3\t \n",
            "z4\t \n"
          ]
        }
      ]
    },
    {
      "cell_type": "code",
      "source": [
        "# sum([1,2,3])"
      ],
      "metadata": {
        "id": "thl_7WOlw4NX"
      },
      "execution_count": 177,
      "outputs": []
    },
    {
      "cell_type": "code",
      "source": [
        "type(sum)"
      ],
      "metadata": {
        "colab": {
          "base_uri": "https://localhost:8080/"
        },
        "id": "Glg1Hp4_w9Up",
        "outputId": "3563538b-c48e-43fb-fc5f-716385e4ada1"
      },
      "execution_count": 178,
      "outputs": [
        {
          "output_type": "execute_result",
          "data": {
            "text/plain": [
              "int"
            ]
          },
          "metadata": {},
          "execution_count": 178
        }
      ]
    },
    {
      "cell_type": "code",
      "source": [
        "%xdel sum # xdel로 해결"
      ],
      "metadata": {
        "colab": {
          "base_uri": "https://localhost:8080/"
        },
        "id": "B1AJi-31w_Ro",
        "outputId": "1a902900-e4f1-41cf-f0ec-ff49b2b5b66a"
      },
      "execution_count": 179,
      "outputs": [
        {
          "output_type": "stream",
          "name": "stdout",
          "text": [
            "NameError: name 'sum # xdel로 해결' is not defined\n"
          ]
        }
      ]
    },
    {
      "cell_type": "code",
      "source": [],
      "metadata": {
        "id": "T86TTeApxA1a"
      },
      "execution_count": 179,
      "outputs": []
    },
    {
      "cell_type": "markdown",
      "source": [
        "### 다차원 집계"
      ],
      "metadata": {
        "id": "j5vSc52WxVOR"
      }
    },
    {
      "cell_type": "code",
      "source": [
        "y = np.array([[1,2], [3,4]])\n",
        "np.sum(y) # 전체 합\n",
        "np.sum(y, axis = 0)"
      ],
      "metadata": {
        "colab": {
          "base_uri": "https://localhost:8080/"
        },
        "id": "3q3yoIgKxXRu",
        "outputId": "aefd5b08-6974-4657-e547-ffa31de25f85"
      },
      "execution_count": 184,
      "outputs": [
        {
          "output_type": "execute_result",
          "data": {
            "text/plain": [
              "array([4, 6])"
            ]
          },
          "metadata": {},
          "execution_count": 184
        }
      ]
    },
    {
      "cell_type": "markdown",
      "source": [
        "np.std : 표준편차\n",
        "np.argmin 최솟값의 위치\n",
        "np.nansum() : 결측값뺀 합 (NONE이 있으면 집계함수 쓸 수 없음)"
      ],
      "metadata": {
        "id": "L017NKYAyPwU"
      }
    },
    {
      "cell_type": "markdown",
      "source": [
        "## 비교, 마스크, 부울"
      ],
      "metadata": {
        "id": "GiJb8cWayPul"
      }
    },
    {
      "cell_type": "markdown",
      "source": [
        "#### ufunc로서 비교 연산자"
      ],
      "metadata": {
        "id": "aYvNVmdRzPkI"
      }
    },
    {
      "cell_type": "code",
      "source": [
        "x = np.array([1, 2, 3, 4, 5])\n",
        "x < 3\n",
        "(2*x) == (x**2)"
      ],
      "metadata": {
        "colab": {
          "base_uri": "https://localhost:8080/"
        },
        "id": "Y8Or5xpXNH4q",
        "outputId": "4a74650d-4591-4217-c7cc-92ffcbfad977"
      },
      "execution_count": 186,
      "outputs": [
        {
          "output_type": "execute_result",
          "data": {
            "text/plain": [
              "array([False,  True, False, False, False])"
            ]
          },
          "metadata": {},
          "execution_count": 186
        }
      ]
    },
    {
      "cell_type": "markdown",
      "source": [
        "#### 조건식: np,where(조건, x, y)"
      ],
      "metadata": {
        "id": "LGVmSP_pNcB_"
      }
    },
    {
      "cell_type": "code",
      "source": [
        "a = np.arange(10)\n",
        "np.where(a<5, a, 10*a)"
      ],
      "metadata": {
        "id": "Sxaly2P8yO5s",
        "colab": {
          "base_uri": "https://localhost:8080/"
        },
        "outputId": "fa42ff9f-d780-4ac0-8bc9-5824de2ca85b"
      },
      "execution_count": 189,
      "outputs": [
        {
          "output_type": "execute_result",
          "data": {
            "text/plain": [
              "array([ 0,  1,  2,  3,  4, 50, 60, 70, 80, 90])"
            ]
          },
          "metadata": {},
          "execution_count": 189
        }
      ]
    },
    {
      "cell_type": "markdown",
      "source": [
        "#### 부울 마스킹\n",
        "특정 기준에 따라 배열 값을 추출/수정"
      ],
      "metadata": {
        "id": "PNqoCH4fNmpe"
      }
    },
    {
      "cell_type": "code",
      "source": [
        "x = np.array([1, 2, 3, 4, 5])\n",
        "x[x%2==0]"
      ],
      "metadata": {
        "colab": {
          "base_uri": "https://localhost:8080/"
        },
        "id": "fP5CJe-NNlwF",
        "outputId": "a0328b3c-1bac-4019-fdfb-3917d9145e11"
      },
      "execution_count": 190,
      "outputs": [
        {
          "output_type": "execute_result",
          "data": {
            "text/plain": [
              "array([2, 4])"
            ]
          },
          "metadata": {},
          "execution_count": 190
        }
      ]
    }
  ]
}