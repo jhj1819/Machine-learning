{
  "nbformat": 4,
  "nbformat_minor": 0,
  "metadata": {
    "colab": {
      "provenance": [],
      "authorship_tag": "ABX9TyPIsOL5PBUkdkZKHwZIAn65",
      "include_colab_link": true
    },
    "kernelspec": {
      "name": "python3",
      "display_name": "Python 3"
    },
    "language_info": {
      "name": "python"
    }
  },
  "cells": [
    {
      "cell_type": "markdown",
      "metadata": {
        "id": "view-in-github",
        "colab_type": "text"
      },
      "source": [
        "<a href=\"https://colab.research.google.com/github/jhj1819/test_colab/blob/main/Numpy.ipynb\" target=\"_parent\"><img src=\"https://colab.research.google.com/assets/colab-badge.svg\" alt=\"Open In Colab\"/></a>"
      ]
    },
    {
      "cell_type": "markdown",
      "source": [
        "# 넘파이(NumPy)"
      ],
      "metadata": {
        "id": "7c_ePc1ftcJb"
      }
    },
    {
      "cell_type": "code",
      "execution_count": 11,
      "metadata": {
        "id": "1oNA5zm9pDnB"
      },
      "outputs": [],
      "source": [
        "import numpy as np"
      ]
    },
    {
      "cell_type": "code",
      "source": [
        "a = np.array([2,4,6,8]) # 리스트를 이용해서 넘파이 배열 만듦."
      ],
      "metadata": {
        "id": "5lxOutFlt0dt"
      },
      "execution_count": 2,
      "outputs": []
    },
    {
      "cell_type": "code",
      "source": [
        "type(a) # 넘파이배열"
      ],
      "metadata": {
        "colab": {
          "base_uri": "https://localhost:8080/"
        },
        "id": "zBcCO9owt0gL",
        "outputId": "ec4678ee-6428-42a5-c24a-391b65cad216"
      },
      "execution_count": 3,
      "outputs": [
        {
          "output_type": "execute_result",
          "data": {
            "text/plain": [
              "numpy.ndarray"
            ]
          },
          "metadata": {},
          "execution_count": 3
        }
      ]
    },
    {
      "cell_type": "code",
      "source": [
        "a.dtype # 넘파이배열 안에 들어있는 데이터의 타입"
      ],
      "metadata": {
        "colab": {
          "base_uri": "https://localhost:8080/"
        },
        "id": "poda6Ogus5fx",
        "outputId": "97552b58-095a-4b50-edf5-80bd80f5ea93"
      },
      "execution_count": 4,
      "outputs": [
        {
          "output_type": "execute_result",
          "data": {
            "text/plain": [
              "dtype('int64')"
            ]
          },
          "metadata": {},
          "execution_count": 4
        }
      ]
    },
    {
      "cell_type": "code",
      "source": [
        "%whos # 현재 존재하는 모든 객체 목록 보여줌 (매직커멘드)"
      ],
      "metadata": {
        "colab": {
          "base_uri": "https://localhost:8080/"
        },
        "id": "NOKS1Q1_tOZl",
        "outputId": "baf0bf68-6e70-4fb9-972d-c15bdaba4015"
      },
      "execution_count": 5,
      "outputs": [
        {
          "output_type": "stream",
          "name": "stdout",
          "text": [
            "No variables match your requested type.\n"
          ]
        }
      ]
    },
    {
      "cell_type": "code",
      "source": [
        "b = np.array([[1,2,3], [4,5,6.]])"
      ],
      "metadata": {
        "id": "JJM9rLChuB_g"
      },
      "execution_count": 12,
      "outputs": []
    },
    {
      "cell_type": "code",
      "source": [
        "b"
      ],
      "metadata": {
        "colab": {
          "base_uri": "https://localhost:8080/"
        },
        "id": "KVldhjXlTGt2",
        "outputId": "757d3a68-8858-4130-a215-674d669798c7"
      },
      "execution_count": 13,
      "outputs": [
        {
          "output_type": "execute_result",
          "data": {
            "text/plain": [
              "array([[1., 2., 3.],\n",
              "       [4., 5., 6.]])"
            ]
          },
          "metadata": {},
          "execution_count": 13
        }
      ]
    },
    {
      "cell_type": "code",
      "source": [
        "b.shape # 넘파이 배열의 형상 반환"
      ],
      "metadata": {
        "colab": {
          "base_uri": "https://localhost:8080/"
        },
        "id": "X0gcm11Huh1i",
        "outputId": "072da48d-aaf5-4ff3-c142-73300f47c519"
      },
      "execution_count": 7,
      "outputs": [
        {
          "output_type": "execute_result",
          "data": {
            "text/plain": [
              "(2, 3)"
            ]
          },
          "metadata": {},
          "execution_count": 7
        }
      ]
    },
    {
      "cell_type": "code",
      "source": [
        "a.shape # (4,)"
      ],
      "metadata": {
        "colab": {
          "base_uri": "https://localhost:8080/"
        },
        "id": "V2gjqGhduiiX",
        "outputId": "7fdbfcf0-fc5e-4062-fc51-695550428de1"
      },
      "execution_count": 14,
      "outputs": [
        {
          "output_type": "execute_result",
          "data": {
            "text/plain": [
              "(4,)"
            ]
          },
          "metadata": {},
          "execution_count": 14
        }
      ]
    },
    {
      "cell_type": "code",
      "source": [
        "a.ndim # 차원 반환(shape으로도 차원을 알 수 있음)"
      ],
      "metadata": {
        "colab": {
          "base_uri": "https://localhost:8080/"
        },
        "id": "Fsv8nM_aT1oO",
        "outputId": "5c8413b9-2df7-4651-b828-6ab4af76cecd"
      },
      "execution_count": 17,
      "outputs": [
        {
          "output_type": "execute_result",
          "data": {
            "text/plain": [
              "1"
            ]
          },
          "metadata": {},
          "execution_count": 17
        }
      ]
    },
    {
      "cell_type": "markdown",
      "source": [
        "### arange\n",
        "파이썬의 range를 넘파이에서는 arange\n",
        "range와 달리 numpy배열을 반환해줌."
      ],
      "metadata": {
        "id": "dQUS-lQIUdxC"
      }
    },
    {
      "cell_type": "code",
      "source": [
        "np.arange(1, 7, 2) # (start, end ,step)'"
      ],
      "metadata": {
        "colab": {
          "base_uri": "https://localhost:8080/"
        },
        "id": "IiO2uTlDUQpg",
        "outputId": "8f5339a1-ebd2-41cc-d685-0aa151fe6b56"
      },
      "execution_count": 20,
      "outputs": [
        {
          "output_type": "execute_result",
          "data": {
            "text/plain": [
              "array([1, 3, 5])"
            ]
          },
          "metadata": {},
          "execution_count": 20
        }
      ]
    },
    {
      "cell_type": "code",
      "source": [
        "np.arange(10)"
      ],
      "metadata": {
        "colab": {
          "base_uri": "https://localhost:8080/"
        },
        "id": "ynLKsNRaVFsM",
        "outputId": "1aac5de2-a499-4c17-e961-9bee1c6a983a"
      },
      "execution_count": 22,
      "outputs": [
        {
          "output_type": "execute_result",
          "data": {
            "text/plain": [
              "array([0, 1, 2, 3, 4, 5, 6, 7, 8, 9])"
            ]
          },
          "metadata": {},
          "execution_count": 22
        }
      ]
    },
    {
      "cell_type": "markdown",
      "source": [
        "모르는 거 있을때 ? 붙이고 실행하면 설명 나옴\n",
        "ex) `np.linspace?`"
      ],
      "metadata": {
        "id": "37pCrcHLWAyE"
      }
    },
    {
      "cell_type": "code",
      "source": [
        "np.linspace(0,1,5) # 4등분 하려면 5로 설정해야..."
      ],
      "metadata": {
        "colab": {
          "base_uri": "https://localhost:8080/"
        },
        "id": "2uvN9rtiVrPX",
        "outputId": "c0e56f62-7608-47ee-ad27-b039a4b85274"
      },
      "execution_count": 31,
      "outputs": [
        {
          "output_type": "execute_result",
          "data": {
            "text/plain": [
              "array([0.  , 0.25, 0.5 , 0.75, 1.  ])"
            ]
          },
          "metadata": {},
          "execution_count": 31
        }
      ]
    },
    {
      "cell_type": "markdown",
      "source": [
        "### 난수 발생기\n",
        "파이썬의 난수발생기는 성능이 좋지 않으므로 넘파이의 난수 발생기를 사용\n",
        "\n",
        "`np.random.random(5)`\n",
        "0<= <1 사이의 5개의 랜덤 숫자를 넘파이 배열로 반환 [0,1) (Uniform 분포)\n",
        "\n",
        "Uniform 분포: 모든 숫자가 뽑힐 확률이 같음."
      ],
      "metadata": {
        "id": "4vbBATP9WdQT"
      }
    },
    {
      "cell_type": "code",
      "source": [
        "np.random.seed(0)"
      ],
      "metadata": {
        "id": "BjFaBSvBXhtI"
      },
      "execution_count": 39,
      "outputs": []
    },
    {
      "cell_type": "code",
      "source": [
        "np.random.random(5)"
      ],
      "metadata": {
        "colab": {
          "base_uri": "https://localhost:8080/"
        },
        "id": "DrsP1_80WheQ",
        "outputId": "f6a75e9d-a692-4d35-e705-7551dd805904"
      },
      "execution_count": 41,
      "outputs": [
        {
          "output_type": "execute_result",
          "data": {
            "text/plain": [
              "array([0.64589411, 0.43758721, 0.891773  , 0.96366276, 0.38344152])"
            ]
          },
          "metadata": {},
          "execution_count": 41
        }
      ]
    },
    {
      "cell_type": "code",
      "source": [
        "np.random.randint(1,10,3) # 1~9까지중 3개"
      ],
      "metadata": {
        "colab": {
          "base_uri": "https://localhost:8080/"
        },
        "id": "htFYCYZ2YeYr",
        "outputId": "da9a60ee-2373-4adc-f3ab-824e9ef41f1f"
      },
      "execution_count": 47,
      "outputs": [
        {
          "output_type": "execute_result",
          "data": {
            "text/plain": [
              "array([4, 3, 8])"
            ]
          },
          "metadata": {},
          "execution_count": 47
        }
      ]
    },
    {
      "cell_type": "markdown",
      "source": [
        "정규분포 난수 만들기(Normal)"
      ],
      "metadata": {
        "id": "Nhj2-hWEZhB6"
      }
    },
    {
      "cell_type": "code",
      "source": [
        "np.random.normal(size = 10) # 표준정규분포로부터 난수 10개를 생성해서 넘파이 배열에 저장."
      ],
      "metadata": {
        "colab": {
          "base_uri": "https://localhost:8080/"
        },
        "id": "g-MDho9zZ2n_",
        "outputId": "a8e9dfa3-b973-4d5b-ab6a-a135d8fd9865"
      },
      "execution_count": 57,
      "outputs": [
        {
          "output_type": "execute_result",
          "data": {
            "text/plain": [
              "array([ 0.34531264, -1.73495876,  1.65835111,  2.29977152, -0.47113526,\n",
              "        1.26271548, -1.17051545,  1.0657892 , -0.69993739,  0.14407911])"
            ]
          },
          "metadata": {},
          "execution_count": 57
        }
      ]
    },
    {
      "cell_type": "markdown",
      "source": [
        "인덱싱"
      ],
      "metadata": {
        "id": "fkUMHsKhct2c"
      }
    },
    {
      "cell_type": "code",
      "source": [
        "x = np.array(np.arange(10,60,10))"
      ],
      "metadata": {
        "id": "Onomc6EFbCoT"
      },
      "execution_count": 61,
      "outputs": []
    },
    {
      "cell_type": "code",
      "source": [
        "x[-1]"
      ],
      "metadata": {
        "colab": {
          "base_uri": "https://localhost:8080/"
        },
        "id": "OrWXXgD1bXUa",
        "outputId": "8f794a0b-32c9-464c-9991-242d36eb508f"
      },
      "execution_count": 67,
      "outputs": [
        {
          "output_type": "execute_result",
          "data": {
            "text/plain": [
              "50"
            ]
          },
          "metadata": {},
          "execution_count": 67
        }
      ]
    },
    {
      "cell_type": "code",
      "source": [
        "y = np.arange(20)\n",
        "y"
      ],
      "metadata": {
        "colab": {
          "base_uri": "https://localhost:8080/"
        },
        "id": "7jiltPDKcAU7",
        "outputId": "46d0ef34-f3d9-44bd-b151-edc97efa60ea"
      },
      "execution_count": 81,
      "outputs": [
        {
          "output_type": "execute_result",
          "data": {
            "text/plain": [
              "array([ 0,  1,  2,  3,  4,  5,  6,  7,  8,  9, 10, 11, 12, 13, 14, 15, 16,\n",
              "       17, 18, 19])"
            ]
          },
          "metadata": {},
          "execution_count": 81
        }
      ]
    },
    {
      "cell_type": "code",
      "source": [
        "y = y.reshape((4,5)) # 2차원 배열로 변경\n",
        "y"
      ],
      "metadata": {
        "colab": {
          "base_uri": "https://localhost:8080/"
        },
        "id": "roovcXwtcH2l",
        "outputId": "df94ecb2-8396-4ee6-f809-753c2d377944"
      },
      "execution_count": 82,
      "outputs": [
        {
          "output_type": "execute_result",
          "data": {
            "text/plain": [
              "array([[ 0,  1,  2,  3,  4],\n",
              "       [ 5,  6,  7,  8,  9],\n",
              "       [10, 11, 12, 13, 14],\n",
              "       [15, 16, 17, 18, 19]])"
            ]
          },
          "metadata": {},
          "execution_count": 82
        }
      ]
    },
    {
      "cell_type": "code",
      "source": [
        "y[1,2] # 파이썬에서 1행 2열 가져오기"
      ],
      "metadata": {
        "colab": {
          "base_uri": "https://localhost:8080/"
        },
        "id": "91EORraDcWJS",
        "outputId": "7c9a439a-d9cf-46fa-c9d1-cff6bfa9e373"
      },
      "execution_count": 84,
      "outputs": [
        {
          "output_type": "execute_result",
          "data": {
            "text/plain": [
              "7"
            ]
          },
          "metadata": {},
          "execution_count": 84
        }
      ]
    },
    {
      "cell_type": "markdown",
      "source": [
        "![image.png](data:image/png;base64,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)"
      ],
      "metadata": {
        "id": "T_HdqToxdXrs"
      }
    },
    {
      "cell_type": "code",
      "source": [
        "y[1:3, 1:4]"
      ],
      "metadata": {
        "colab": {
          "base_uri": "https://localhost:8080/"
        },
        "id": "iB76SJQKc-fD",
        "outputId": "fafbe85f-c8f9-4f46-905f-1dbbb7d9f4f4"
      },
      "execution_count": 88,
      "outputs": [
        {
          "output_type": "execute_result",
          "data": {
            "text/plain": [
              "array([[ 6,  7,  8],\n",
              "       [11, 12, 13]])"
            ]
          },
          "metadata": {},
          "execution_count": 88
        }
      ]
    },
    {
      "cell_type": "code",
      "source": [
        "y[1:3, 1:4:2] # 2칸씩 건너뛰면서 슬라이싱"
      ],
      "metadata": {
        "colab": {
          "base_uri": "https://localhost:8080/"
        },
        "id": "nwx4TIYtdqAP",
        "outputId": "506c5433-b237-40db-82dc-f9b0e1630e24"
      },
      "execution_count": 89,
      "outputs": [
        {
          "output_type": "execute_result",
          "data": {
            "text/plain": [
              "array([[ 6,  8],\n",
              "       [11, 13]])"
            ]
          },
          "metadata": {},
          "execution_count": 89
        }
      ]
    },
    {
      "cell_type": "markdown",
      "source": [
        "열을 갖고오는 방법"
      ],
      "metadata": {
        "id": "dJcMNnBId0-X"
      }
    },
    {
      "cell_type": "code",
      "source": [
        "z = y[:,0] # 모든 행에서 0번째 열을 가져온다\n",
        "z"
      ],
      "metadata": {
        "id": "vg2qSdNmdvrY"
      },
      "execution_count": 92,
      "outputs": []
    },
    {
      "cell_type": "markdown",
      "source": [
        "#### 샬로우카피와 딥카피"
      ],
      "metadata": {
        "id": "lncAerp4epwx"
      }
    },
    {
      "cell_type": "code",
      "source": [
        "z[0] = 9999"
      ],
      "metadata": {
        "id": "PFljVhjGeM-d"
      },
      "execution_count": 93,
      "outputs": []
    },
    {
      "cell_type": "code",
      "source": [
        "z"
      ],
      "metadata": {
        "colab": {
          "base_uri": "https://localhost:8080/"
        },
        "id": "v2vaf3fAebnG",
        "outputId": "ab2e0a56-c561-46fd-da28-861fffbd2ae8"
      },
      "execution_count": 94,
      "outputs": [
        {
          "output_type": "execute_result",
          "data": {
            "text/plain": [
              "array([9999,    5,   10,   15])"
            ]
          },
          "metadata": {},
          "execution_count": 94
        }
      ]
    },
    {
      "cell_type": "code",
      "source": [
        "y # z를 바꿨는데 y값도 바꼈음. (z가 사본이 아니라 원본이였다..) -> 샬로우 카피"
      ],
      "metadata": {
        "colab": {
          "base_uri": "https://localhost:8080/"
        },
        "id": "IEWAC3weeb0y",
        "outputId": "3f06a012-6288-41ec-aa1a-7944f153aeaa"
      },
      "execution_count": 95,
      "outputs": [
        {
          "output_type": "execute_result",
          "data": {
            "text/plain": [
              "array([[9999,    1,    2,    3,    4],\n",
              "       [   5,    6,    7,    8,    9],\n",
              "       [  10,   11,   12,   13,   14],\n",
              "       [  15,   16,   17,   18,   19]])"
            ]
          },
          "metadata": {},
          "execution_count": 95
        }
      ]
    },
    {
      "cell_type": "code",
      "source": [
        "z2 = y[0].copy() # 딥카피"
      ],
      "metadata": {
        "id": "RrG9rxmzecR7"
      },
      "execution_count": 96,
      "outputs": []
    },
    {
      "cell_type": "code",
      "source": [
        "z2[1] = -777\n",
        "z2"
      ],
      "metadata": {
        "colab": {
          "base_uri": "https://localhost:8080/"
        },
        "id": "GkwQd79he4rd",
        "outputId": "b2063ca1-c30c-46f1-eed8-49b9b2c5c2e8"
      },
      "execution_count": 97,
      "outputs": [
        {
          "output_type": "execute_result",
          "data": {
            "text/plain": [
              "array([9999, -777,    2,    3,    4])"
            ]
          },
          "metadata": {},
          "execution_count": 97
        }
      ]
    },
    {
      "cell_type": "code",
      "source": [
        "y # 바뀌지 않음.."
      ],
      "metadata": {
        "colab": {
          "base_uri": "https://localhost:8080/"
        },
        "id": "DRK9CxUde9B0",
        "outputId": "8f4d5741-7870-4701-c62a-0fae0aacfd97"
      },
      "execution_count": 98,
      "outputs": [
        {
          "output_type": "execute_result",
          "data": {
            "text/plain": [
              "array([[9999,    1,    2,    3,    4],\n",
              "       [   5,    6,    7,    8,    9],\n",
              "       [  10,   11,   12,   13,   14],\n",
              "       [  15,   16,   17,   18,   19]])"
            ]
          },
          "metadata": {},
          "execution_count": 98
        }
      ]
    },
    {
      "cell_type": "markdown",
      "source": [
        "#### 2차원을 1차원으로 바꾸기\n",
        "1. ravel()\n",
        "2. flatten"
      ],
      "metadata": {
        "id": "DCl7J81qfJwv"
      }
    },
    {
      "cell_type": "code",
      "source": [
        "y.ravel()"
      ],
      "metadata": {
        "colab": {
          "base_uri": "https://localhost:8080/"
        },
        "id": "zjBnae3EfR1e",
        "outputId": "5e2c0e0a-708d-4855-ce0a-ceea46f19d21"
      },
      "execution_count": 100,
      "outputs": [
        {
          "output_type": "execute_result",
          "data": {
            "text/plain": [
              "array([9999,    1,    2,    3,    4,    5,    6,    7,    8,    9,   10,\n",
              "         11,   12,   13,   14,   15,   16,   17,   18,   19])"
            ]
          },
          "metadata": {},
          "execution_count": 100
        }
      ]
    },
    {
      "cell_type": "code",
      "source": [
        "y.flatten()"
      ],
      "metadata": {
        "colab": {
          "base_uri": "https://localhost:8080/"
        },
        "id": "4fFvkaXWfTm0",
        "outputId": "a80a26f5-75db-4369-a2eb-c39c90dfb628"
      },
      "execution_count": 103,
      "outputs": [
        {
          "output_type": "execute_result",
          "data": {
            "text/plain": [
              "array([9999,    1,    2,    3,    4,    5,    6,    7,    8,    9,   10,\n",
              "         11,   12,   13,   14,   15,   16,   17,   18,   19])"
            ]
          },
          "metadata": {},
          "execution_count": 103
        }
      ]
    },
    {
      "cell_type": "markdown",
      "source": [
        "#### 1차원을 2차원으로\n",
        "1. np.newaxis 이용\n",
        "2. reshape 이용"
      ],
      "metadata": {
        "id": "YZFEKm3pfbt4"
      }
    },
    {
      "cell_type": "code",
      "source": [
        "z2"
      ],
      "metadata": {
        "colab": {
          "base_uri": "https://localhost:8080/"
        },
        "id": "SZYVG-JYfYqU",
        "outputId": "d694cf05-2067-4be7-b4f6-62018323df78"
      },
      "execution_count": 104,
      "outputs": [
        {
          "output_type": "execute_result",
          "data": {
            "text/plain": [
              "array([9999, -777,    2,    3,    4])"
            ]
          },
          "metadata": {},
          "execution_count": 104
        }
      ]
    },
    {
      "cell_type": "code",
      "source": [
        "z3 = z2[:, np.newaxis]\n",
        "z3"
      ],
      "metadata": {
        "colab": {
          "base_uri": "https://localhost:8080/"
        },
        "id": "vmud5fRlfZC2",
        "outputId": "3c807a04-32f3-4c78-eee9-93b77ae0bf15"
      },
      "execution_count": 106,
      "outputs": [
        {
          "output_type": "execute_result",
          "data": {
            "text/plain": [
              "array([[9999],\n",
              "       [-777],\n",
              "       [   2],\n",
              "       [   3],\n",
              "       [   4]])"
            ]
          },
          "metadata": {},
          "execution_count": 106
        }
      ]
    },
    {
      "cell_type": "code",
      "source": [
        "z3.shape"
      ],
      "metadata": {
        "colab": {
          "base_uri": "https://localhost:8080/"
        },
        "id": "RMyBd5-eft6-",
        "outputId": "002511ad-7550-4419-86a9-c21c5f9b5657"
      },
      "execution_count": 108,
      "outputs": [
        {
          "output_type": "execute_result",
          "data": {
            "text/plain": [
              "(5, 1)"
            ]
          },
          "metadata": {},
          "execution_count": 108
        }
      ]
    },
    {
      "cell_type": "code",
      "source": [
        "z4 = z2.reshape((5,1))\n",
        "z4"
      ],
      "metadata": {
        "colab": {
          "base_uri": "https://localhost:8080/"
        },
        "id": "CrcDaA2Jf1SJ",
        "outputId": "fe353d8a-4647-4fc2-9959-fa4838582c25"
      },
      "execution_count": 110,
      "outputs": [
        {
          "output_type": "execute_result",
          "data": {
            "text/plain": [
              "array([[9999],\n",
              "       [-777],\n",
              "       [   2],\n",
              "       [   3],\n",
              "       [   4]])"
            ]
          },
          "metadata": {},
          "execution_count": 110
        }
      ]
    },
    {
      "cell_type": "code",
      "source": [
        "z4.shape"
      ],
      "metadata": {
        "colab": {
          "base_uri": "https://localhost:8080/"
        },
        "id": "kcMD7sy8f4Yt",
        "outputId": "0952f7d0-f1ed-452e-9ae7-6bb028135534"
      },
      "execution_count": 114,
      "outputs": [
        {
          "output_type": "execute_result",
          "data": {
            "text/plain": [
              "(5, 1)"
            ]
          },
          "metadata": {},
          "execution_count": 114
        }
      ]
    },
    {
      "cell_type": "code",
      "source": [
        "x = np.array([1,2,3])\n",
        "y = np.array([3,2,1])"
      ],
      "metadata": {
        "id": "Kmj1Tni0g00s"
      },
      "execution_count": 115,
      "outputs": []
    },
    {
      "cell_type": "code",
      "source": [
        "[1,2,3] + [3,2,1]  # 파이썬 리스트는 연결됨"
      ],
      "metadata": {
        "colab": {
          "base_uri": "https://localhost:8080/"
        },
        "id": "nH1-q3Jwg9Py",
        "outputId": "20c2e867-85b1-480a-d8fb-8f2c599c9d77"
      },
      "execution_count": 118,
      "outputs": [
        {
          "output_type": "execute_result",
          "data": {
            "text/plain": [
              "[1, 2, 3, 3, 2, 1]"
            ]
          },
          "metadata": {},
          "execution_count": 118
        }
      ]
    },
    {
      "cell_type": "code",
      "source": [
        "x + y # 넘파이 배열은 벡터화연산 .. (연산자 오버라이딩)"
      ],
      "metadata": {
        "colab": {
          "base_uri": "https://localhost:8080/"
        },
        "id": "xkvmTLFxgnD4",
        "outputId": "98b0c5a7-72a3-4048-f78b-1f16490c0294"
      },
      "execution_count": 119,
      "outputs": [
        {
          "output_type": "execute_result",
          "data": {
            "text/plain": [
              "array([4, 4, 4])"
            ]
          },
          "metadata": {},
          "execution_count": 119
        }
      ]
    },
    {
      "cell_type": "code",
      "source": [
        "np.concatenate([x, y])"
      ],
      "metadata": {
        "colab": {
          "base_uri": "https://localhost:8080/"
        },
        "id": "YeP2uoMmguoN",
        "outputId": "f19c8955-356d-4d13-dfec-c9f89ab226b5"
      },
      "execution_count": 117,
      "outputs": [
        {
          "output_type": "execute_result",
          "data": {
            "text/plain": [
              "array([1, 2, 3, 3, 2, 1])"
            ]
          },
          "metadata": {},
          "execution_count": 117
        }
      ]
    }
  ]
}